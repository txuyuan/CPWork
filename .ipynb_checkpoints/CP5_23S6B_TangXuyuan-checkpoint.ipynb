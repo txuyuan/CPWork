{
 "cells": [
  {
   "cell_type": "markdown",
   "metadata": {},
   "source": [
    "## CP5\n",
    "\n",
    "#### For Q1 to 3 use array to process the inputs. Do not use the methods provided by Python list object.\n",
    "\n",
    "1. A class has at most 40 students. Write a program that will read in the \n",
    "scores of an exam for each student in the class, finds and prints the class average and \n",
    "then prints each of the scores that are above the class average. Use an array to process the inputs from the user.\n",
    "For example, if the input scores are as follow:\n",
    "```\n",
    "    70\n",
    "    80\n",
    "    71\n",
    "    58\n",
    "    79\n",
    "    92\n",
    "```\n",
    "the output would be\n",
    "```\n",
    "    class average: 75.0\n",
    "    scores above average: 80 79 9\n",
    " \n",
    "```"
   ]
  },
  {
   "cell_type": "code",
   "execution_count": 15,
   "metadata": {
    "scrolled": true
   },
   "outputs": [
    {
     "name": "stdout",
     "output_type": "stream",
     "text": [
      "S: 80\n",
      "S: 90\n",
      "S: 50\n",
      "S: 60\n",
      "S: 70\n",
      "S: 3\n",
      "S: \n",
      "Class average: 58.8\n",
      "Scores above average: 80 90 60 70 \n"
     ]
    }
   ],
   "source": [
    "scores = [0] * 40\n",
    "\n",
    "i = 0\n",
    "s = input(\"S: \")\n",
    "while s != '':\n",
    "    scores[i] = int(s)\n",
    "    s = input(\"S: \")\n",
    "    i += 1\n",
    "\n",
    "total = 0\n",
    "for s in scores:\n",
    "    total += s\n",
    "average = total / i\n",
    "\n",
    "aboveScores = [0] * 40\n",
    "j = 0\n",
    "for s in scores:\n",
    "    if s > average:\n",
    "        aboveScores[j] = s\n",
    "    j += 1\n",
    "        \n",
    "fmtAboveScores = \"\"\n",
    "for s in aboveScores:\n",
    "    if s != 0:\n",
    "        fmtAboveScores += str(s) + \" \"\n",
    "        \n",
    "print(f\"Class average: {average:.1f}\")\n",
    "print(f\"Scores above average: {fmtAboveScores}\")"
   ]
  },
  {
   "cell_type": "markdown",
   "metadata": {},
   "source": [
    "2. A basketball team with six players has played four games. Write a program to read the file PlayerScores.txt that accepts conains each player’s name followed by the points scored by them in each of the four games. A typical data is given below for one player.\n",
    "```\n",
    "         Smith \n",
    "         12 14 7 10\n",
    "```\n",
    "Then, print the raw data entered in a table form as shown below. Include in the table, each player’s scoring average, and the number of points scored by the team for each game.\n",
    "\n",
    "```\n",
    "    Player Name   G1     G2     G3     G4    Average Score\n",
    "    Smith         12     4      7      10    8.25\n",
    "    ...\n",
    "    ...\n",
    "    \n",
    "    Total         99     99    88      88    56.99  \n",
    "    \n",
    "```\n",
    "\n"
   ]
  },
  {
   "cell_type": "code",
   "execution_count": 31,
   "metadata": {},
   "outputs": [
    {
     "name": "stdout",
     "output_type": "stream",
     "text": [
      "Player Name   G1    G2    G3    G4    Average\n",
      "Smith         12    14    7     10    10.75\n",
      "John          5     11    7     9     8.0\n",
      "Peter         8     10    14    5     9.25\n",
      "Sunny         2     14    8     9     8.25\n",
      "Total         27    49    36    33    36.25\n"
     ]
    }
   ],
   "source": [
    "filename = \"assets/CP5_PlayerScores.txt\"\n",
    "file = open(filename, 'r')\n",
    "\n",
    "scores = {}\n",
    "\n",
    "i = 0\n",
    "name = \"\"\n",
    "line = file.readline()\n",
    "while line != '':\n",
    "    if i%2 == 0:\n",
    "        name = line.strip()\n",
    "    else:\n",
    "        s = [int(x) for x in line.strip().split()]\n",
    "        scores[name] = s\n",
    "    line = file.readline()\n",
    "    i += 1\n",
    "\n",
    "# Add totals\n",
    "totals = [0]*4\n",
    "for n, s in scores.items():\n",
    "    for i in range(0,4):\n",
    "        totals[i] += s[i]\n",
    "scores[\"Total\"] = totals\n",
    "\n",
    "NAMELENGTH = 14\n",
    "SCORELENGTH = 6\n",
    "print(\"Player Name   G1    G2    G3    G4    Average\")\n",
    "for n, s in scores.items():\n",
    "    line = n.ljust(NAMELENGTH)\n",
    "    for i in range(0, 4):\n",
    "        line += str(s[i]).ljust(SCORELENGTH)\n",
    "    line += str((s[0] + s[1] + s[2] + s[3]) / 4)\n",
    "    print(line)\n",
    "    \n",
    "# PRINT TOTALS AAAAAAAAA"
   ]
  },
  {
   "cell_type": "markdown",
   "metadata": {},
   "source": [
    "3. Write a program to read the close price in the data files of several stocks for each day into two parallel arrays. Use the data for the previous month (if today is in April, read the March data). For each stock, the program should print the maximum and minimum price and the day it was achieved. \n"
   ]
  },
  {
   "cell_type": "code",
   "execution_count": 29,
   "metadata": {},
   "outputs": [
    {
     "name": "stdout",
     "output_type": "stream",
     "text": [
      "Analysing U96.csv\n",
      "Maximum closing price of 4.38 was achieved on 2023-03-31\n",
      "Minimum closing price of 3.63 was achieved on 2023-03-02\n",
      "\n",
      "Analysing C52.csv\n",
      "Maximum closing price of 1.22 was achieved on 2023-03-01\n",
      "Minimum closing price of 1.16 was achieved on 2023-03-14\n",
      "\n",
      "Analysing C6L.csv\n",
      "Maximum closing price of 5.84 was achieved on 2023-03-08\n",
      "Minimum closing price of 5.56 was achieved on 2023-03-20\n",
      "\n"
     ]
    }
   ],
   "source": [
    "import os\n",
    "from datetime import date\n",
    "\n",
    "def getLastMonth():\n",
    "    y, m = date.today().year, date.today().month\n",
    "    if m == 1:\n",
    "        m, y = 12, y-1\n",
    "    else:\n",
    "        m -= 1\n",
    "    return (y, m)\n",
    "    \n",
    "def getPrices(file):\n",
    "    date, closePrices = [\"\"]*31, [0]*31\n",
    "    \n",
    "    lastMonth = getLastMonth()\n",
    "    \n",
    "    i = 0\n",
    "    file.readline()\n",
    "    line = file.readline()\n",
    "    while line != '':\n",
    "        values = line.split(\",\")\n",
    "        \n",
    "        # Filter for previous month\n",
    "        y, m, d = values[0].split(\"-\")[:3]\n",
    "        y, m, d = int(y), int(m), int(d)\n",
    "        if (y,m) != lastMonth:\n",
    "            line = file.readline()\n",
    "            continue\n",
    "         \n",
    "        # Extract data\n",
    "        date[i], closePrices[i] = values[0], float(values[4])\n",
    "        \n",
    "        i += 1\n",
    "        line = file.readline()\n",
    "        \n",
    "    return (date, closePrices)\n",
    "    \n",
    "def analStock(dates, prices):\n",
    "    maxDate, minDate, maxValue, minValue = \"\", \"\", 0, 100000000\n",
    "    for i in range(len(dates)):\n",
    "        date, price = dates[i], prices[i]\n",
    "        if price == 0:\n",
    "            continue\n",
    "        if price > maxValue:\n",
    "            maxValue = price\n",
    "            maxDate = date\n",
    "        if price < minValue:\n",
    "            minValue = price\n",
    "            minDate = date\n",
    "    print(f\"Maximum closing price of {maxValue} was achieved on {maxDate}\")\n",
    "    print(f\"Minimum closing price of {minValue} was achieved on {minDate}\")\n",
    "        \n",
    "    \n",
    "for f in os.listdir(\"./assets\"):\n",
    "    if f.endswith(\".csv\"):\n",
    "        file = open(\"./assets/\" + f, 'r')\n",
    "        dates, prices = getPrices(file)\n",
    "        print(f\"Analysing {f}\")\n",
    "        analStock(dates, prices)\n",
    "        print()\n",
    "\n",
    "# date, closeprice\n",
    "# month, max, min only for last month"
   ]
  }
 ],
 "metadata": {
  "kernelspec": {
   "display_name": "Python 3 (ipykernel)",
   "language": "python",
   "name": "python3"
  },
  "language_info": {
   "codemirror_mode": {
    "name": "ipython",
    "version": 3
   },
   "file_extension": ".py",
   "mimetype": "text/x-python",
   "name": "python",
   "nbconvert_exporter": "python",
   "pygments_lexer": "ipython3",
   "version": "3.10.10"
  }
 },
 "nbformat": 4,
 "nbformat_minor": 4
}
