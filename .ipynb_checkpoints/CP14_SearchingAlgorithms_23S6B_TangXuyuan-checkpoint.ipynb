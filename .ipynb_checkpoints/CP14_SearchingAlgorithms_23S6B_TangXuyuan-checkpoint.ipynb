{
 "cells": [
  {
   "cell_type": "markdown",
   "metadata": {},
   "source": [
    "### CP14 - Searching Algorithms  \n",
    "\n",
    "#### Task 1\n",
    "\n",
    "Write a function: ```linearSearch``` that accepts 2 arguments. It searches ```key``` in the array ```A``` using linear search.\n",
    "\n",
    "* A - an array \n",
    "* key - value to search\n",
    "\n",
    "and returns the index if ```key``` is found in the array ```A```, otherwise returns -1.\n",
    "Write test cases to test your function.\n"
   ]
  },
  {
   "cell_type": "code",
   "execution_count": null,
   "metadata": {},
   "outputs": [],
   "source": [
    "### Your code\n",
    "def linearSearch(A, key):\n",
    "    found = False\n",
    "    i, end = 0, len(A)\n",
    "    while not found and i < end:\n",
    "        if A[i] == key:\n",
    "            found = True\n",
    "        else:\n",
    "            i += 1\n",
    "    if found:\n",
    "        return i\n",
    "    else:\n",
    "        return -1"
   ]
  },
  {
   "cell_type": "code",
   "execution_count": null,
   "metadata": {},
   "outputs": [],
   "source": [
    "test1 = [\"A\", \"B\", \"C\", \"D\", \"E\", \"F\"]\n",
    "test2 = test1[::-1]\n",
    "assert linearSearch(test1, \"B\") == 1 #1\n",
    "assert linearSearch(test2, \"B\") == 4 #4\n",
    "print(\"Tests passed!\")"
   ]
  },
  {
   "cell_type": "markdown",
   "metadata": {},
   "source": [
    "#### Task 2\n",
    "\n",
    "Modify ```linearSearch``` in Task 1 to allow searching for multiple instances of ```key``` in array ```A```. Name the function linearSearch2.\n",
    "* A - an array \n",
    "* key - value to search\n",
    "\n",
    "and returns the indexes if ```key``` is found in the array ```A```, otherwise returns -1.\n",
    "Write test cases to test your function.\n"
   ]
  },
  {
   "cell_type": "code",
   "execution_count": 5,
   "metadata": {},
   "outputs": [],
   "source": [
    "### Your code\n",
    "def linearSearch2(A, key):\n",
    "    indexes = []\n",
    "    i, end = 0, len(A)\n",
    "    found = False\n",
    "    while i < end:\n",
    "        if A[i] == key:\n",
    "            found = True\n",
    "            indexes.append(i)\n",
    "        i += 1\n",
    "    if found:\n",
    "        return indexes\n",
    "    else:\n",
    "        return -1"
   ]
  },
  {
   "cell_type": "code",
   "execution_count": 6,
   "metadata": {},
   "outputs": [
    {
     "name": "stdout",
     "output_type": "stream",
     "text": [
      "Tests passed!\n"
     ]
    }
   ],
   "source": [
    "test1 = [\"A\", \"B\", \"C\", \"D\", \"E\", \"F\"]\n",
    "test2 = test1[::-1]\n",
    "test3 = test1 + test1\n",
    "test4 = [\"A\", \"A\", \"B\", \"B\", \"C\", \"C\", \"D\", \"D\", \"E\", \"E\", \"F\", \"F\"]\n",
    "test5 = test4[::-1]\n",
    "assert linearSearch2(test1, \"B\") == [1]\n",
    "assert linearSearch2(test2, \"B\") == [4]\n",
    "assert linearSearch2(test3, \"B\") == [1, 7]\n",
    "assert linearSearch2(test4, \"B\") == [2, 3]\n",
    "assert linearSearch2(test5, \"B\") == [8, 9]\n",
    "print(\"Tests passed!\")"
   ]
  },
  {
   "cell_type": "markdown",
   "metadata": {},
   "source": [
    "#### Task 3\n",
    "\n",
    "Write a `non-recursive` function: ```binarySearch``` that accepts 2 arguments. It searches ```key``` in the array ```A``` using binary search.  \n",
    "* A -an array \n",
    "* key - value to search\n",
    "\n",
    "and returns the index if ```key``` is found in the array ```A```, otherwise returns ```False```.\n",
    "\n",
    "Write test cases to test your function.\n"
   ]
  },
  {
   "cell_type": "code",
   "execution_count": 7,
   "metadata": {},
   "outputs": [],
   "source": [
    "def binarySearch(A, key):\n",
    "    found, ended = False, False\n",
    "    low, mid, high = 0, -1, len(A)\n",
    "    while not found and not ended:\n",
    "        if low == high:\n",
    "            ended = True\n",
    "        \n",
    "        mid = low + (high-low) // 2\n",
    "        if A[mid] == key:\n",
    "            found = True\n",
    "        if key > A[mid]:\n",
    "            low = mid + 1\n",
    "        else:\n",
    "            high = mid\n",
    "            \n",
    "    if found:\n",
    "        return mid\n",
    "    else:\n",
    "        return False"
   ]
  },
  {
   "cell_type": "code",
   "execution_count": 61,
   "metadata": {},
   "outputs": [
    {
     "name": "stdout",
     "output_type": "stream",
     "text": [
      "Tests passed!\n"
     ]
    }
   ],
   "source": [
    "test1 = list(range(40))\n",
    "test2 = [0, 2, 4, 7, 10, 15, 18, 20]\n",
    "test3 = [0, 2, 4, 7, 15, 18, 20]\n",
    "test4 = [0, 2, 4, 7, 10, 15, 18]\n",
    "test5 = [0, 2, 4, 7, 10, 15, 18, 20, 40, 41, 42, 43, 44, 45]\n",
    "assert binarySearch(test1, 10) == 10\n",
    "assert binarySearch(test2, 10) == 4\n",
    "assert binarySearch(test3, 10) == False\n",
    "assert binarySearch(test4, 10) == 4\n",
    "assert binarySearch(test5, 10) == 4\n",
    "print(\"Tests passed!\")"
   ]
  },
  {
   "cell_type": "markdown",
   "metadata": {},
   "source": [
    "#### Task 4\n",
    "\n",
    "Write a ```recursive``` function: ```recursiveBinarySearch``` that accepts 2 arguments. It searches ```key``` in the array ```A``` using binary search.\n",
    "\n",
    "* A -an array \n",
    "* key - value to search\n",
    "\n",
    "and returns ```True``` if ```key``` is found in the array ```A```, otherwise returns ```False```.\n",
    "\n",
    "Write test cases to test your function.\n"
   ]
  },
  {
   "cell_type": "code",
   "execution_count": 9,
   "metadata": {},
   "outputs": [],
   "source": [
    "def recursiveBinarySearch(A, key):\n",
    "    if len(A) == 0:\n",
    "        return False\n",
    "        \n",
    "    mid = len(A) // 2\n",
    "    if A[mid] == key:\n",
    "        return True\n",
    "    if key > A[mid]:\n",
    "        A = A[mid+1:len(A)] #Slice right\n",
    "    else:\n",
    "        A = A[0:mid] #Slice left\n",
    "        \n",
    "    return recursiveBinarySearch(A, key)"
   ]
  },
  {
   "cell_type": "code",
   "execution_count": 62,
   "metadata": {},
   "outputs": [
    {
     "name": "stdout",
     "output_type": "stream",
     "text": [
      "Tests passed!\n"
     ]
    }
   ],
   "source": [
    "test1 = list(range(40))\n",
    "test2 = [0, 2, 4, 7, 10, 15, 18, 20]\n",
    "test3 = [0, 2, 4, 7, 15, 18, 20]\n",
    "test4 = [0, 2, 4, 7, 10, 15, 18]\n",
    "test5 = [0, 2, 4, 7, 10, 15, 18, 20, 40, 41, 42, 43, 44, 45]\n",
    "assert recursiveBinarySearch(test1, 10) == True\n",
    "assert recursiveBinarySearch(test2, 10) == True\n",
    "assert recursiveBinarySearch(test3, 10) == False\n",
    "assert recursiveBinarySearch(test4, 10) == True\n",
    "assert recursiveBinarySearch(test5, 10) == True\n",
    "print(\"Tests passed!\")"
   ]
  },
  {
   "cell_type": "markdown",
   "metadata": {},
   "source": [
    "#### Task 5\n",
    "\n",
    "Write a ```recursive``` function: ```recursiveBinarySearch2``` that accepts 4 arguments. It searches ```key``` in the array ```A``` using binary search. The size of the array ```A``` remains constant.\n",
    "\n",
    "* A -an array \n",
    "* L - lower index\n",
    "* H - upper index\n",
    "* key - value to search\n",
    "\n",
    "and returns ```True``` if ```key``` is found in the array ```A```, otherwise returns ```False```.\n",
    "\n",
    "Write test cases to test your function.\n"
   ]
  },
  {
   "cell_type": "code",
   "execution_count": 11,
   "metadata": {},
   "outputs": [],
   "source": [
    "def recursiveBinarySearch2(A,L,H, key):\n",
    "    pass\n",
    "    if L==-1:\n",
    "        L = 0\n",
    "    if H==-1:\n",
    "        H = len(A)\n",
    "      \n",
    "    if L == H:\n",
    "        return False\n",
    "        \n",
    "    M = L + (H-L) // 2\n",
    "    if A[M] == key:\n",
    "        return True\n",
    "    if key > A[M]:\n",
    "        L = M + 1\n",
    "    else:\n",
    "        H = M\n",
    "    return recursiveBinarySearch2(A, L, H, key)"
   ]
  },
  {
   "cell_type": "code",
   "execution_count": 63,
   "metadata": {},
   "outputs": [
    {
     "name": "stdout",
     "output_type": "stream",
     "text": [
      "Tests passed!\n"
     ]
    }
   ],
   "source": [
    "test1 = list(range(40))\n",
    "test2 = [0, 2, 4, 7, 10, 15, 18, 20]\n",
    "test3 = [0, 2, 4, 7, 15, 18, 20]\n",
    "test4 = [0, 2, 4, 7, 10, 15, 18]\n",
    "test5 = [0, 2, 4, 7, 10, 15, 18, 20, 40, 41, 42, 43, 44, 45]\n",
    "assert recursiveBinarySearch2(test1, 0, len(test1), 10) == True\n",
    "assert recursiveBinarySearch2(test2, 0, len(test2), 10) == True\n",
    "assert recursiveBinarySearch2(test3, 0, len(test3), 10) == False\n",
    "assert recursiveBinarySearch2(test4, 0, len(test4), 10) == True\n",
    "assert recursiveBinarySearch2(test5, 0, len(test5), 10) == True\n",
    "print(\"Tests passed!\")"
   ]
  },
  {
   "cell_type": "markdown",
   "metadata": {},
   "source": [
    "#### Task 6.1\n",
    "\n",
    "The class Person contains two properties:\n",
    "\n",
    "* name - stored as a string\n",
    "* age - stored as an integer \n",
    "\t\t\n",
    "Write program code to declare the class Person and its constructor and ```__str__``` method to output the name and age of a Person object.\n"
   ]
  },
  {
   "cell_type": "code",
   "execution_count": 64,
   "metadata": {},
   "outputs": [],
   "source": [
    "#Task6_1\n",
    "class Person:\n",
    "    def __init__(self, name, age):\n",
    "        self._name = name\n",
    "        self._age = age\n",
    "\n",
    "    def set_name(self):\n",
    "        self._name=name\n",
    "        \n",
    "    def get_name(self):\n",
    "        return self._name\n",
    "\n",
    "    def set_age(self):\n",
    "        self._age=age\n",
    "        \n",
    "    def get_age(self):\n",
    "        return self._age\n",
    "\n",
    "    def __str__(self):\n",
    "        return f\"Person(name: {self._name}, age: {self._age})\""
   ]
  },
  {
   "cell_type": "markdown",
   "metadata": {},
   "source": [
    "#### Task 6.2\n",
    "\n",
    "Write a function task6_2(filename) that:\n",
    "\n",
    "* takes a string filename  which represents the name of a text file\n",
    "* reads in the contents of the text file \n",
    "* returns the content as a list of Person objects.\n",
    "\t\t\t\t                               \n",
    "Call the function task6_2 with the file ```PERSON.txt``` and print Person objects using the following statements:\n",
    "\n",
    "```\n",
    "list_of_person = task6_2('PERSON.txt')\n",
    "for person in list_of_person:\n",
    "    print(person)\n",
    "```"
   ]
  },
  {
   "cell_type": "code",
   "execution_count": 65,
   "metadata": {},
   "outputs": [],
   "source": [
    "#Task6_2 \n",
    "def task6_2(filename):\n",
    "    persons = []\n",
    "    file = open(filename, 'r')\n",
    "    for l in file:\n",
    "        name, age = l.strip().split(\", \")[0:2]\n",
    "        person = Person(name, age)\n",
    "        persons.append(person)\n",
    "    return persons"
   ]
  },
  {
   "cell_type": "code",
   "execution_count": 66,
   "metadata": {},
   "outputs": [
    {
     "name": "stdout",
     "output_type": "stream",
     "text": [
      "Person(name: Alice, age: 18)\n",
      "Person(name: Bob, age: 20)\n",
      "Person(name: Charlie, age: 17)\n",
      "Person(name: David, age: 16)\n",
      "Person(name: Emily, age: 19)\n",
      "Person(name: Austin, age: 19)\n",
      "Person(name: Cole, age: 20)\n",
      "Person(name: Adam, age: 16)\n",
      "Person(name: Benjamin, age: 16)\n",
      "Person(name: Chloe, age: 19)\n",
      "Person(name: Daniel, age: 19)\n",
      "Person(name: Eva, age: 20)\n",
      "Person(name: Bailey, age: 18)\n",
      "Person(name: Daisy, age: 18)\n",
      "Person(name: Amelia, age: 17)\n",
      "Person(name: Brian, age: 19)\n",
      "Person(name: Catherine, age: 18)\n",
      "Person(name: Dylan, age: 17)\n",
      "Person(name: Eleanor, age: 16)\n",
      "Person(name: Bella, age: 17)\n",
      "Person(name: Caleb, age: 16)\n",
      "Person(name: Delilah, age: 20)\n",
      "Person(name: Ethan, age: 17)\n",
      "Person(name: Ella, age: 18)\n",
      "Person(name: Arthur, age: 20)\n"
     ]
    }
   ],
   "source": [
    "list_of_person = task6_2('assets/PERSON.txt')\n",
    "for person in list_of_person:\n",
    "    print(person)"
   ]
  },
  {
   "cell_type": "markdown",
   "metadata": {},
   "source": [
    "#### Task 6.3\n",
    "\n",
    "Write a function task6_3(array_of_person, name) that accepts 2 arguments. It searches name in the ```array of person``` using linear search.\n",
    "\n",
    "The function returns a Person object, if name is found in the ```array of person```, otherwise returns None. \n",
    "\n",
    "Call the function task6_3 with the contents of the file PERSON.txt and print the Person objects using the following statements:\n",
    "\n",
    "```\n",
    "name='Bailey'\n",
    "array_of_person = task6_2('PERSON.txt' )\n",
    "\n",
    "n = task6_3(array_of_person, name)\n",
    "if n:\n",
    "    print(f\"Person found: {n}\")\n",
    "else:\n",
    "    print(f\"Person with {name} not found.\")\n",
    "\n",
    "name='Sean'\n",
    "n = task6_3(array_of_person, name)\n",
    "if n:\n",
    "    print(f\"Person found: {n}\")\n",
    "else:\n",
    "    print(f\"Person with {name} not found.\")\n",
    "\n",
    "    \n",
    "```"
   ]
  },
  {
   "cell_type": "code",
   "execution_count": 72,
   "metadata": {},
   "outputs": [],
   "source": [
    "#Task6_3\n",
    "def task6_3(A, name):\n",
    "    found = False\n",
    "    i, end = 0, len(A)\n",
    "    while not found and i < end:\n",
    "        if A[i].get_name() == name:\n",
    "            found = True\n",
    "        else:\n",
    "            i += 1\n",
    "    \n",
    "    if found:\n",
    "        return A[i]\n",
    "    else:\n",
    "        return None"
   ]
  },
  {
   "cell_type": "code",
   "execution_count": 78,
   "metadata": {},
   "outputs": [
    {
     "name": "stdout",
     "output_type": "stream",
     "text": [
      "Person found: Person(name: Bailey, age: 18)\n",
      "Person with Sean not found.\n",
      "Tests passed!\n"
     ]
    }
   ],
   "source": [
    "name='Bailey'\n",
    "array_of_person = task6_2('assets/PERSON.txt' )\n",
    "\n",
    "n = task6_3(array_of_person, name)\n",
    "assert n is not None\n",
    "if n:\n",
    "    print(f\"Person found: {n}\")\n",
    "else:\n",
    "    print(f\"Person with {name} not found.\")\n",
    "\n",
    "name='Sean'\n",
    "n = task6_3(array_of_person, name)\n",
    "assert n is None\n",
    "if n:\n",
    "    print(f\"Person found: {n}\")\n",
    "else:\n",
    "    print(f\"Person with {name} not found.\")\n",
    "print(\"Tests passed!\")"
   ]
  },
  {
   "cell_type": "markdown",
   "metadata": {},
   "source": [
    "#### Task 6.4\n",
    "\n",
    "Write a function Task6_4(array_of_person, age) that accepts 2 arguments. It searches age in the ```array_of_person``` using linear search.\n",
    "\n",
    "The function returns a list of Person objects, if age is found in the ```array_of_person```, otherwise returns None. \n",
    "\n",
    "Call the function task6_4 with the contents of the file PERSON.txt and print the Person objects using the following statements:\n",
    "\n",
    "```\n",
    "age=19\n",
    "array_of_person = task6_2('PERSON.txt' )\n",
    "list_of_person = task6_4(array_of_person, age)\n",
    "    \n",
    "if list_of_person:\n",
    "    print(f\"Person with age={age} found:\")\n",
    "    for person in list_of_person:\n",
    "        print(person)\n",
    "else:\n",
    "    print(f\"No one with age={age} found.\")\n",
    "\n",
    "age=15\n",
    "list_of_person = task6_4(array_of_person, age)\n",
    "    \n",
    "if list_of_person:\n",
    "    print(f\"Person with age={age} found:\")\n",
    "    for person in list_of_person:\n",
    "        print(person)\n",
    "else:\n",
    "    print(f\"No one with age={age} found.\")\n",
    "\n",
    "```"
   ]
  },
  {
   "cell_type": "code",
   "execution_count": null,
   "metadata": {},
   "outputs": [],
   "source": [
    "#Task6_4"
   ]
  },
  {
   "cell_type": "markdown",
   "metadata": {},
   "source": [
    "#### Task 6.5\n",
    "\n",
    "Write a function task6_5(array_of_person, name) that accepts 2 arguments. It searches name in the ```array_of_person``` using binary search (non-recursive).\n",
    "\n",
    "The function returns a Person object, if name is found in the ```array_of_person```, otherwise returns None. \n",
    "\n",
    "Call the function task6_5 with the contents of the file PERSON.txt and print the Person object.\n",
    "\n",
    "Hint: You will need to do addition operations before the search.\n",
    "\n"
   ]
  },
  {
   "cell_type": "code",
   "execution_count": null,
   "metadata": {},
   "outputs": [],
   "source": [
    "#Task6_5"
   ]
  }
 ],
 "metadata": {
  "kernelspec": {
   "display_name": "Python 3 (ipykernel)",
   "language": "python",
   "name": "python3"
  },
  "language_info": {
   "codemirror_mode": {
    "name": "ipython",
    "version": 3
   },
   "file_extension": ".py",
   "mimetype": "text/x-python",
   "name": "python",
   "nbconvert_exporter": "python",
   "pygments_lexer": "ipython3",
   "version": "3.10.9"
  }
 },
 "nbformat": 4,
 "nbformat_minor": 4
}
