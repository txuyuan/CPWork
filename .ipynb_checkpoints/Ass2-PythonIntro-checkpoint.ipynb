{
 "cells": [
  {
   "cell_type": "code",
   "execution_count": 4,
   "id": "cf507428",
   "metadata": {},
   "outputs": [
    {
     "name": "stdout",
     "output_type": "stream",
     "text": [
      "Enter name: TangTang\n",
      "Enter age: 17\n",
      "Name: TangTang, age: 17, age in 10 years: 27\n"
     ]
    }
   ],
   "source": [
    "#1\n",
    "name = input(\"Enter name: \")\n",
    "age = int(input(\"Enter age: \"))\n",
    "\n",
    "print(f\"Name: {name}, age: {age}, age in 10 years: {age+10}\")"
   ]
  },
  {
   "cell_type": "code",
   "execution_count": 5,
   "id": "46dfe296",
   "metadata": {},
   "outputs": [
    {
     "name": "stdout",
     "output_type": "stream",
     "text": [
      "Enter radius: 5\n",
      "R: 5.0, diameter: 10.0, circumference: 31.41592653589793, surface area: 314.1592653589793, volume: 523.5987755982989\n"
     ]
    }
   ],
   "source": [
    "#2\n",
    "import math\n",
    "\n",
    "r = float(input(\"Enter radius: \"))\n",
    "# range/type tests\n",
    "d = r * 2\n",
    "c = math.pi * 2 * r\n",
    "s = 4 * math.pi * (r**2)\n",
    "v = 4/3 * math.pi * (r**3)\n",
    "print(f\"R: {r}, diameter: {d}, circumference: {c}, surface area: {s}, volume: {v}\")"
   ]
  },
  {
   "cell_type": "code",
   "execution_count": 8,
   "id": "631cc5b1",
   "metadata": {},
   "outputs": [
    {
     "name": "stdout",
     "output_type": "stream",
     "text": [
      "Enter hourly wage: 10\n",
      "Enter regular hours: 10\n",
      "Enter overtime hours: 10\n",
      "Total weekly pay, 250.0\n"
     ]
    }
   ],
   "source": [
    "#3\n",
    "import math\n",
    "\n",
    "hourlyWage = float(input(\"Enter hourly wage: \"))\n",
    "regularHours = int(input(\"Enter regular hours: \"))\n",
    "overtimeHours = int(input(\"Enter overtime hours: \"))\n",
    "# range/type tests\n",
    "\n",
    "pay = hourlyWage * regularHours + hourlyWage *1.5 * overtimeHours\n",
    "\n",
    "print(f\"Total weekly pay, {pay}\")"
   ]
  },
  {
   "cell_type": "code",
   "execution_count": 12,
   "id": "a0893f72",
   "metadata": {},
   "outputs": [
    {
     "name": "stdout",
     "output_type": "stream",
     "text": [
      "Enter number of old loaves purchased: 10\n",
      "Reg price: 3.50, old discount: 2.10, total price: 4.90\n"
     ]
    }
   ],
   "source": [
    "#4\n",
    "regularPrice = 3.5\n",
    "oldPrice = regularPrice * 0.4\n",
    "oldLoavesPurchased = int(input(\"Enter number of old loaves purchased: \"))\n",
    "# range/type tests\n",
    "\n",
    "rPrice = \"{:.2f}\".format(regularPrice)\n",
    "oldDisc = \"{:.2f}\".format(regularPrice - oldPrice)\n",
    "totalPrice = \"{:.2f}\".format(regularPrice + oldPrice)\n",
    "\n",
    "print(f\"Reg price: {rPrice}, old discount: {oldDisc}, total price: {totalPrice}\")"
   ]
  },
  {
   "cell_type": "markdown",
   "id": "6dfc2ef7",
   "metadata": {},
   "source": []
  }
 ],
 "metadata": {
  "kernelspec": {
   "display_name": "Python 3 (ipykernel)",
   "language": "python",
   "name": "python3"
  },
  "language_info": {
   "codemirror_mode": {
    "name": "ipython",
    "version": 3
   },
   "file_extension": ".py",
   "mimetype": "text/x-python",
   "name": "python",
   "nbconvert_exporter": "python",
   "pygments_lexer": "ipython3",
   "version": "3.10.9"
  }
 },
 "nbformat": 4,
 "nbformat_minor": 5
}
