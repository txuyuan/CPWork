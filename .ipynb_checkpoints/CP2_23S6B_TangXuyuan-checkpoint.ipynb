{
 "cells": [
  {
   "cell_type": "markdown",
   "metadata": {},
   "source": [
    "Coding Practice 2"
   ]
  },
  {
   "cell_type": "markdown",
   "metadata": {},
   "source": [
    "1. The factorial of an integer N is the product of all of the integers between 1 and N, inclusive. Write a program that computes the factorial of a given integer N."
   ]
  },
  {
   "cell_type": "code",
   "execution_count": null,
   "metadata": {},
   "outputs": [],
   "source": [
    "#1\n",
    "N = int(input(\"Enter N: \"))\n",
    "result = 1\n",
    "for i in range (1, N+1):\n",
    "    print(i)\n",
    "    result *= i\n",
    "print(result)"
   ]
  },
  {
   "cell_type": "markdown",
   "metadata": {},
   "source": [
    "2.\tWrite a program that accepts the lengths of three sides of a triangle as inputs. \n",
    "The program output should indicate whether or not the triangle is an equilateral triangle."
   ]
  },
  {
   "cell_type": "code",
   "execution_count": null,
   "metadata": {},
   "outputs": [],
   "source": [
    "a = int(input(\"Enter a: \"))\n",
    "b = int(input(\"Enter b: \"))\n",
    "c = int(input(\"Enter c: \"))\n",
    "\n",
    "print(a == b and a == c)"
   ]
  },
  {
   "cell_type": "markdown",
   "metadata": {},
   "source": [
    "3. Write a program that reads a word and print the numbe of letters in the word, the number of vowels in the word, and the percentage of vowels.\n",
    "\n",
    "  **Enter a word: sequoia**\n",
    "\n",
    "  **Letters:  7**\n",
    "\n",
    "  **Vowels:  5**\n",
    "\n",
    "  **Perentage of vowels:  71.43**\n"
   ]
  },
  {
   "cell_type": "code",
   "execution_count": 2,
   "metadata": {},
   "outputs": [
    {
     "name": "stdout",
     "output_type": "stream",
     "text": [
      "Enter word: 12asdfkhdskfhkjsdf\n",
      "Letters: 18, vowels: 1, percentage: 5.6%\n"
     ]
    }
   ],
   "source": [
    "word = input(\"Enter word: \")\n",
    "\n",
    "letters, vowels = 0, 0\n",
    "for c in word:\n",
    "    letters += 1\n",
    "    if c in [\"a\", \"e\", \"i\", \"o\", \"u\"]:\n",
    "        vowels += 1\n",
    "vowelPerc = vowels / letters * 100\n",
    "print(f\"Letters: {letters}, vowels: {vowels}, percentage: {vowelPerc:.1f}%\")"
   ]
  },
  {
   "cell_type": "markdown",
   "metadata": {},
   "source": [
    "4. Write a progam that inputs a positive integer n and then prints a rectangle of asterisks n lines high and 2n columns wide. For example, if the input is 5 then the output should be\n",
    "\n",
    "                      * * * * * * * * * *\n",
    "                      *                 *\n",
    "                      *                 *\n",
    "                      *                 *\n",
    "                      * * * * * * * * * *\n",
    "                      "
   ]
  },
  {
   "cell_type": "code",
   "execution_count": 4,
   "metadata": {},
   "outputs": [
    {
     "name": "stdout",
     "output_type": "stream",
     "text": [
      "Enter value n: 10\n",
      "********************\n",
      "*                  *\n",
      "*                  *\n",
      "*                  *\n",
      "*                  *\n",
      "*                  *\n",
      "*                  *\n",
      "*                  *\n",
      "*                  *\n",
      "********************\n"
     ]
    }
   ],
   "source": [
    "n = int(input(\"Enter value n: \"))\n",
    "for i in range(n):\n",
    "    top = \"*\" * (2*n)\n",
    "    filler = \"*\" + \" \"*(2*n-2) + \"*\"\n",
    "    if i==0 or i==n-1:\n",
    "        print(top)\n",
    "    else:\n",
    "        print(filler)"
   ]
  },
  {
   "cell_type": "markdown",
   "metadata": {},
   "source": [
    "5. The sum of the divisors of the number 15 is 24 (= 1 + 3 + 5 + 15). Write a program that will print the sum of the divisors for each of the integers from 100 to 110. The final line of the printout should state which integer has the largest sum. Format the output as follows:\n",
    "\n",
    "```\n",
    "100:  1   2   4   5   10  20  25  50  100\n",
    "sum of divisors 217\n",
    ".\n",
    ".\n",
    ".\n",
    "110:  1   2   5   10  11  22  55  110\n",
    "sum of divisors ________\n",
    "\n",
    "________ has maximum sum of divisors\n",
    "```\n",
    "  \n"
   ]
  },
  {
   "cell_type": "code",
   "execution_count": null,
   "metadata": {},
   "outputs": [],
   "source": [
    "import math\n",
    "\n",
    "def numArrToString(numArr):\n",
    "    strArr = []\n",
    "    for i in numArr:\n",
    "        strArr.append(str(i))\n",
    "    return strArr\n",
    "def sumArr(numArr):\n",
    "    total = 0\n",
    "    for num in numArr:\n",
    "        total += num\n",
    "    return total\n",
    "\n",
    "def getPrimes(n):\n",
    "    sieveMax = math.ceil(math.sqrt(n)) + 1\n",
    "    factors = []\n",
    "    for i in range (1, sieveMax):\n",
    "        if (n % i == 0):\n",
    "            factors.append(i)\n",
    "    \n",
    "    altFactors = []\n",
    "    for f in factors:\n",
    "        if f!=(n/f):\n",
    "            altFactors.append(int(n / f))\n",
    "    factors.extend(altFactors)\n",
    "    factors.sort()\n",
    "    return factors\n",
    "\n",
    "factors = {}\n",
    "for i in range(100, 111):\n",
    "    factors[i] = getPrimes(i)\n",
    "\n",
    "highestFactorNum = 0\n",
    "highestFactorSum = 0\n",
    "for i, f in factors.items():\n",
    "    print(f\"{i}: {', '.join(numArrToString(f))}\")\n",
    "    factorSum = sumArr(f)\n",
    "    if factorSum > highestFactorSum:\n",
    "        highestFactorNum = i\n",
    "        highestFactorSum = factorSum\n",
    "    print(f\"sum of divisors {factorSum}\")\n",
    "    \n",
    "print(f\"{highestFactorNum} has maximum sum of divisors\")"
   ]
  },
  {
   "cell_type": "markdown",
   "metadata": {},
   "source": [
    "6. In the game of Lucky Sevens, the player rolls a pair of dice. If the dots add up to 7, the \tplayer wins ```$4```; otherwise, the player loses $1. Suppose that a casino tells player that there are lots of ways to win: (1, 6), (2, 5), etc. Write a program that takes as input the\tamount of money that the player wants to put into the pot, and play the game until the pot is empty. At that point, the program should print the number of rolls it took to break the player, as well as maximum amount of money in the pot."
   ]
  },
  {
   "cell_type": "code",
   "execution_count": null,
   "metadata": {},
   "outputs": [],
   "source": [
    "import random\n",
    "def roll():\n",
    "    return random.randint(1,6)\n",
    "\n",
    "pot = int(input(\"Enter money put into pot: \"))\n",
    "\n",
    "maxPot = 0\n",
    "rollInd = 0\n",
    "while pot > 0:\n",
    "    rollInd += 1\n",
    "    diceA = roll(); diceB = roll()\n",
    "    if diceA + diceB == 7:\n",
    "        pot += 4\n",
    "    else:\n",
    "        pot -= 1\n",
    "    if pot > maxPot:\n",
    "        maxPot = pot\n",
    "\n",
    "print(f\"Played {rollInd} rounds, pot reached {maxPot}\")"
   ]
  },
  {
   "cell_type": "markdown",
   "metadata": {},
   "source": [
    "7.\t**Guess My Number Game (Design the program for both versions)**\n",
    "\n",
    "   __Version A:__ the computer picks a random number between 1 and 100 that the player has to guess. For each guess, the computer must tell the player if the number is too small or too large for the actual number. When the player gets the number, the program will display the number of tries that the player used. A sample output is shown below.\n",
    "\n",
    "```\n",
    "  Enter your guess: 50\n",
    "  Too small\n",
    "  Enter your guess: 75\n",
    "  Too large\n",
    "  Enter your guess: 60\n",
    "  Too large\n",
    "  Enter your guess: 56\n",
    "  You've got it in 4 tries!\n",
    "```\n",
    " \n",
    "   **Verion B:** The player and the computer trade places. That is, the player picks a random number between 1 and 100 that the computer has to guess. Before you start, think about how the computer will guess.  \n",
    "Hint: you may use random.randint to generate random number from among numbers between two arguments, included.\n",
    "            \n"
   ]
  },
  {
   "cell_type": "code",
   "execution_count": 6,
   "metadata": {},
   "outputs": [
    {
     "name": "stdout",
     "output_type": "stream",
     "text": [
      "Enter your guess: 50\n",
      "Too large\n",
      "Enter your guess: 25\n",
      "Too large\n",
      "Enter your guess: 12\n",
      "Too large\n",
      "Enter your guess: 6\n",
      "Too small\n",
      "Enter your guess: 10\n",
      "Too large\n",
      "Enter your guess: 8\n",
      "Too large\n",
      "Enter your guess: 7\n",
      "You've got it in 7 tries!\n"
     ]
    }
   ],
   "source": [
    "#Version A\n",
    "import random\n",
    "number = random.randint(1, 100)\n",
    "\n",
    "tries = 0\n",
    "while True:\n",
    "    tries += 1\n",
    "    guess = int(input(\"Enter your guess: \"))\n",
    "    \n",
    "    if guess == number:\n",
    "        break\n",
    "    if guess > number:\n",
    "        print(\"Too large\")\n",
    "    else:\n",
    "        print(\"Too small\")\n",
    "        \n",
    "print(f\"You've got it in {tries} tries!\")"
   ]
  },
  {
   "cell_type": "code",
   "execution_count": 7,
   "metadata": {},
   "outputs": [
    {
     "name": "stdout",
     "output_type": "stream",
     "text": [
      "Guess:50 (respond: l | s | y): l\n",
      "Guess:75 (respond: l | s | y): s\n",
      "Guess:62 (respond: l | s | y): s\n",
      "Guess:56 (respond: l | s | y): s\n",
      "Guess:53 (respond: l | s | y): y\n",
      "Number is 53!\n"
     ]
    }
   ],
   "source": [
    "#Version B\n",
    "def guess(num):\n",
    "    while True:   \n",
    "        res = input(f\"Guess:{num} (respond: l | s | y): \")\n",
    "        if res==\"l\":\n",
    "            return 1\n",
    "        elif res==\"s\":\n",
    "            return -1\n",
    "        elif res==\"y\":\n",
    "            return 0\n",
    "\n",
    "min = 0\n",
    "max = 100\n",
    "cursor = -1\n",
    "while True:\n",
    "    cursor = int((min + max) / 2)\n",
    "    if min == max:\n",
    "        break\n",
    "    \n",
    "    res = guess(cursor)\n",
    "    if res==1:\n",
    "        min = cursor+1\n",
    "    elif res==-1:\n",
    "        max = cursor-1\n",
    "    elif res==0:\n",
    "        break\n",
    "        \n",
    "print(f\"Number is {cursor}!\")    "
   ]
  },
  {
   "cell_type": "markdown",
   "metadata": {},
   "source": [
    "8. The algorithm to determine whether the year given is a leap year is as follows:\n",
    " Every year that is exactly divisible by four is a leap year, except for years that are exactly divisible by 100, but these centurial years are leap years, if they are exactly divisible by 400. Write a program that accepts a year from the user and determine whether it is a leap year.\n",
    " "
   ]
  },
  {
   "cell_type": "code",
   "execution_count": 9,
   "metadata": {},
   "outputs": [
    {
     "name": "stdout",
     "output_type": "stream",
     "text": [
      "Enter year: 2000\n",
      "Year is a leap year\n"
     ]
    }
   ],
   "source": [
    "year = int(input(\"Enter year: \"))\n",
    "isLeap = year%4==0 or (year%400==0 and not year%100==0)\n",
    "print(f\"Year {'is' if isLeap else 'is not'} a leap year\")"
   ]
  },
  {
   "cell_type": "markdown",
   "metadata": {},
   "source": [
    "9. Write a program that accepts a date in the form of day, month and year from the user and determine the day of the week of the date. (You are not allow to use any functions or modules provided by Python.) "
   ]
  },
  {
   "cell_type": "code",
   "execution_count": 13,
   "metadata": {
    "scrolled": true
   },
   "outputs": [
    {
     "name": "stdout",
     "output_type": "stream",
     "text": [
      "Enter date (DD/MM/YYYY): 24032023\n",
      "24/3/2023: Fri\n"
     ]
    }
   ],
   "source": [
    "def doomsday_algorithm(day, month, year):\n",
    "    # Anchor day for centuries\n",
    "    century = year // 100\n",
    "    anchor_day = (5 * (century % 4) + 2) % 7\n",
    "\n",
    "    # Doomsday for the year\n",
    "    doomsday_year = year % 100\n",
    "    doomsday = (doomsday_year + doomsday_year // 4) % 7\n",
    "\n",
    "    # Doomsday for the month\n",
    "    month_doomsday = (doomsday - (month % 2) * ((doomsday_year % 4) + 5) % 7) % 7\n",
    "\n",
    "    # Day of the week\n",
    "    day_of_week = (anchor_day + doomsday + month_doomsday + day) % 7\n",
    "\n",
    "    return day_of_week\n",
    "\n",
    "dayNames = [\"Mon\", \"Tues\", \"Wed\", \"Thurs\", \"Fri\", \"Sat\", \"Sun\"]\n",
    "\n",
    "date = input(\"Enter date (DDMMYYYY): \")\n",
    "day = int(date[0:2])\n",
    "month = int(date[2:4])\n",
    "year = int(date[4:8])\n",
    "dayOfWeek = doomsday_algorithm(day, month, year)\n",
    "print(f\"{day}/{month}/{year}: {dayNames[dayOfWeek]}\")"
   ]
  },
  {
   "attachments": {
    "calendar.jpg": {
     "image/jpeg": "[encoded data removed]"
    }
   },
   "cell_type": "markdown",
   "metadata": {},
   "source": [
    "10. Write a program that accepts a date in the form of month and year from the user and display a calendar month for any given month between January 1800 and December 2099. \n",
    "\n",
    "You are not allow to use any functions or modules provided by Python.\n",
    "\n",
    "The format of the calendar month should be as shown:\n",
    "\n",
    "![calendar.jpg](attachment:calendar.jpg)\n",
    "\n"
   ]
  },
  {
   "cell_type": "code",
   "execution_count": 20,
   "metadata": {},
   "outputs": [
    {
     "name": "stdout",
     "output_type": "stream",
     "text": [
      "Enter date (MMYYYY): 032023\n",
      "April 20\n",
      "Sun  Mon  Tue  Wed  Thur Fri  Sat  \n"
     ]
    }
   ],
   "source": [
    "# day month year indexed from 1\n",
    "months = [\"Jan\", \"Feb\", \"Mar\", \"April\", \"May\", \"June\", \"July\", \"Aug\", \"Sep\",\"Oct\", \"Nov\", \"Dec\"]\n",
    "days = [\"Sun\", \"Mon\", \"Tue\", \"Wed\", \"Thur\", \"Fri\", \"Sat\"]\n",
    "\n",
    "def getDays(month, year):\n",
    "    daysInMonth = [31, 0, 31, 30, 31, 30, 31, 31, 30, 31, 30, 31]\n",
    "    if month != 2: \n",
    "        return daysInMonth[month-1]\n",
    "    else:\n",
    "        # feb dependent on leap\n",
    "        isLeap = year%4==0 or (year%400==0 and not year%100==0)\n",
    "        return 29 if isLeap else 28\n",
    "    \n",
    "\n",
    "date = input(\"Enter date (MMYYYY): \")\n",
    "month = int(date[0:2])\n",
    "year = int(date[2:4])\n",
    "\n",
    "daysInMonth = getDays(month, year)\n",
    "firstDay = doomsday_algorithm(1, month, year)\n",
    "\n",
    "print(f\"{months[month]} {year}\")\n",
    "\n",
    "for d in days:\n",
    "    print(d + \" \" * (5-len(str(d))), end=\"\")\n",
    "print()\n",
    "\n",
    "#PRINT DAY NUMBERS WITH OFFSET"
   ]
  },
  {
   "attachments": {
    "pascalTriangle-2.png": {
     "image/png": "[encoded data removed]"
    }
   },
   "cell_type": "markdown",
   "metadata": {},
   "source": [
    "11. Write a program that accepts a value, n, from the user. The value is used to generate a Pascal's triangle with nth row. The triangle should be displayed as shown:\n",
    "![pascalTriangle-2.png](attachment:pascalTriangle-2.png)"
   ]
  },
  {
   "cell_type": "code",
   "execution_count": null,
   "metadata": {},
   "outputs": [],
   "source": []
  }
 ],
 "metadata": {
  "kernelspec": {
   "display_name": "Python 3 (ipykernel)",
   "language": "python",
   "name": "python3"
  },
  "language_info": {
   "codemirror_mode": {
    "name": "ipython",
    "version": 3
   },
   "file_extension": ".py",
   "mimetype": "text/x-python",
   "name": "python",
   "nbconvert_exporter": "python",
   "pygments_lexer": "ipython3",
   "version": "3.10.7"
  }
 },
 "nbformat": 4,
 "nbformat_minor": 2
}
