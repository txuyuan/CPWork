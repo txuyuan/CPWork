{
 "cells": [
  {
   "cell_type": "markdown",
   "metadata": {},
   "source": [
    "### Assignment 9B\n",
    "\n",
    "#### Q1\n",
    "\n",
    "The following is a pseudocode algorithm for the quick sort function.\n",
    "\n",
    "The function takes in an array and returns a sorted array in ascending order. \n",
    "The algorithm works for most input but is missing out on a few edge cases.\n",
    "```\n",
    "FUNCTION quicksort(array)\n",
    "    if array length = 1\n",
    "         return array\n",
    "    select and remove a pivot value from array\n",
    "    create empty subarrays less and greater\n",
    "    for each item in array\n",
    "         if item < pivot\n",
    "             append item to less\n",
    "         else\n",
    "             append item to greater\n",
    "    return quicksort(less) + pivot + quicksort(greater)\n",
    "ENDFUNCTION\n",
    "```\n",
    "Write program code for this algorithm including all the amendments you would make to \n",
    "make the function works for all cases. \n",
    "\n",
    "Use the sample data available from text file NAME.txt and paste this into your program code.\n"
   ]
  },
  {
   "cell_type": "code",
   "execution_count": null,
   "metadata": {},
   "outputs": [],
   "source": [
    "def quicksort(array):\n",
    "    if len(array) <= 1:\n",
    "        return array\n",
    "    \n",
    "    pivotValue = array[0]\n",
    "    less, greater = [], []\n",
    "    for i in range(1, len(array)):\n",
    "        if array[i] < pivotValue:\n",
    "            less += [array[i]]\n",
    "        else:\n",
    "            greater += [array[i]]\n",
    "            \n",
    "    return quicksort(less) + [pivotValue] + quicksort(greater)"
   ]
  },
  {
   "cell_type": "code",
   "execution_count": null,
   "metadata": {},
   "outputs": [],
   "source": []
  },
  {
   "cell_type": "markdown",
   "metadata": {},
   "source": [
    "#### Q2\n",
    "\n",
    "You are provided with the registration dates and email addresses of participants who registered for an event in two files, A.txt and B.txt, with key field values in ascending order. \n",
    "\n",
    "The two files are to be merged to form a single file, C.txt, containing the same records with the key field values in ascending order. \n",
    "\n",
    "If a participant registered more than once having registration record in both files, take the latest registration date as the final entry. \n",
    "\n",
    "Write program code to remove duplicate entries and carry out the merge. The program should also output the number of duplicate entries removed."
   ]
  },
  {
   "cell_type": "code",
   "execution_count": 44,
   "metadata": {},
   "outputs": [
    {
     "name": "stdout",
     "output_type": "stream",
     "text": [
      "28-04-2022dave@savetheworld.org\r\n",
      "02-05-2022ernford123@gmx.com\r\n",
      "24-04-2022johnnykiller@outlook.com\r\n",
      "23-04-2022kezorro@outlook.com\r\n",
      "03-05-2022lilykwang@gmail.com\r\n",
      "26-04-2022limE45@gmail.com\r\n",
      "28-04-2022limahseng@gmail.com\r\n",
      "22-05-2022mary_ong@m1.com.sg\r\n"
     ]
    }
   ],
   "source": [
    "!cat assets/A.txt"
   ]
  },
  {
   "cell_type": "code",
   "execution_count": 60,
   "metadata": {},
   "outputs": [
    {
     "name": "stdout",
     "output_type": "stream",
     "text": [
      "22-04-2022benlim77@zoho.com\r\n",
      "22-04-2022dave@savetheworld.org\r\n",
      "23-05-2022kezorro@outlook.com\r\n",
      "20-04-2022mary_ong@m1.com.sg\r\n",
      "28-04-2022silly_mond@gmx.com\r\n",
      "24-04-2022zorro@outlook.com\r\n",
      "05-05-2022zekeriah@yahoo.com\r\n",
      "26-04-2022zeketanweecheng@zoho.com"
     ]
    }
   ],
   "source": [
    "!cat assets/B.txt"
   ]
  },
  {
   "cell_type": "code",
   "execution_count": 74,
   "metadata": {},
   "outputs": [
    {
     "name": "stdout",
     "output_type": "stream",
     "text": [
      "22-04-2022benlim77@zoho.com\n",
      "28-04-2022dave@savetheworld.org\n",
      "02-05-2022ernford123@gmx.com\n",
      "24-04-2022johnnykiller@outlook.com\n",
      "23-05-2022kezorro@outlook.com\n",
      "03-05-2022lilykwang@gmail.com\n",
      "26-04-2022limE45@gmail.com\n",
      "28-04-2022limahseng@gmail.com\n",
      "22-05-2022mary_ong@m1.com.sg\n",
      "28-04-2022silly_mond@gmx.com\n",
      "05-05-2022zekeriah@yahoo.com\n",
      "26-04-2022zeketanweecheng@zoho.com\n",
      "24-04-2022zorro@outlook.com\n"
     ]
    }
   ],
   "source": [
    "print(\"\\n\".join([\"\".join(x) for x in sorted([(k, v) for v, k in {k: v for v, k in sorted([(line.strip()[:10], line.strip()[10:]) for line in open(\"assets/A.txt\", \"r\")] + [(line.strip()[:10], line.strip()[10:]) for line in open(\"assets/B.txt\", \"r\")], key = lambda x: \"\".join(x[0].split(\"-\")[::-1])  )}.items()], key = lambda x: x[1])]))"
   ]
  }
 ],
 "metadata": {
  "kernelspec": {
   "display_name": "Python 3 (ipykernel)",
   "language": "python",
   "name": "python3"
  },
  "language_info": {
   "codemirror_mode": {
    "name": "ipython",
    "version": 3
   },
   "file_extension": ".py",
   "mimetype": "text/x-python",
   "name": "python",
   "nbconvert_exporter": "python",
   "pygments_lexer": "ipython3",
   "version": "3.10.9"
  }
 },
 "nbformat": 4,
 "nbformat_minor": 4
}
