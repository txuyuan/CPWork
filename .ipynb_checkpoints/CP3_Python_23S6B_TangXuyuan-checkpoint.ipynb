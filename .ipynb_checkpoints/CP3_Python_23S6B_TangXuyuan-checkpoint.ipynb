{
 "cells": [
  {
   "cell_type": "markdown",
   "metadata": {},
   "source": [
    "#### Coding Practice 3"
   ]
  },
  {
   "cell_type": "markdown",
   "metadata": {},
   "source": [
    "1. Write a recursive function that accepts an integer argument, n. The function should display n lines of asterisks on the screen, with the first line showing 1 asterisk, the second line showing 2 asterisks, up to the nth line which shows n asterisks."
   ]
  },
  {
   "cell_type": "code",
   "execution_count": 4,
   "metadata": {},
   "outputs": [
    {
     "name": "stdout",
     "output_type": "stream",
     "text": [
      "Enter n: 10\n",
      "\n",
      "*\n",
      "**\n",
      "***\n",
      "****\n",
      "*****\n",
      "******\n",
      "*******\n",
      "********\n",
      "*********\n",
      "**********\n"
     ]
    }
   ],
   "source": [
    "#1\n",
    "def main():\n",
    "    n = int(input(\"Enter n: \"))\n",
    "    print_ast(n, 0)\n",
    "    \n",
    "def print_ast(n, i):\n",
    "    print(\"*\" * i)\n",
    "    if i < n:\n",
    "        print_ast(n, i+1)\n",
    "        \n",
    "main()"
   ]
  },
  {
   "cell_type": "markdown",
   "metadata": {},
   "source": [
    "2. Write a recursive function that accepts two integer arguments, low and high. The function should return the sum of the numbers from low up to high. For example, if 2 and 10 are passed as arguments, the function will return the sum of 2, 3, 4, . . . ,10."
   ]
  },
  {
   "cell_type": "code",
   "execution_count": 5,
   "metadata": {},
   "outputs": [
    {
     "name": "stdout",
     "output_type": "stream",
     "text": [
      "Enter highest number: 10\n",
      "55\n"
     ]
    }
   ],
   "source": [
    "#2\n",
    "def main():\n",
    "    n = int(input(\"Enter highest number: \"))\n",
    "    print(get_sum(n))\n",
    "    \n",
    "def get_sum(n):\n",
    "    if n == 1:\n",
    "        return 1\n",
    "    return n + get_sum(n-1)\n",
    "\n",
    "main()"
   ]
  },
  {
   "cell_type": "markdown",
   "metadata": {},
   "source": [
    "3.Write a program that asks the user to enter 3 test scores. The program should display a letter grade for each score and the average test score. Write the following functions in \n",
    "the program:\n",
    "1. calc_average -- This function should accept three test scores as arguments and return the average of the scores.\n",
    "2. determine_grade -- This function should accept a test score as an argument and return a letter grade for the score, based on the following grading scale:"
   ]
  },
  {
   "cell_type": "code",
   "execution_count": 7,
   "metadata": {},
   "outputs": [
    {
     "name": "stdout",
     "output_type": "stream",
     "text": [
      "Enter first score: 70\n",
      "Enter second score: 80\n",
      "Enter third score: 90\n",
      "Score: 70, grade: C\n",
      "Score: 80, grade: B\n",
      "Score: 90, grade: A\n",
      "Average score: 80.0\n"
     ]
    }
   ],
   "source": [
    "#3\n",
    "def calc_average(scores):\n",
    "    return sum(scores)/len(scores)\n",
    "\n",
    "def determine_grade(score):\n",
    "    if score > 100 or score < 0:\n",
    "        print(\"Invalid score\")\n",
    "    elif score >= 90:\n",
    "        return \"A\"\n",
    "    elif score >= 80:\n",
    "        return \"B\"\n",
    "    elif score >= 70:\n",
    "        return \"C\"\n",
    "    elif score >= 60:\n",
    "        return \"D\"\n",
    "    else:\n",
    "        return \"F\"\n",
    "\n",
    "def main():\n",
    "    scores = [0] * 3\n",
    "    scores[0] = int(input(\"Enter first score: \"))\n",
    "    scores[1] = int(input(\"Enter second score: \"))\n",
    "    scores[2] = int(input(\"Enter third score: \"))\n",
    "    \n",
    "    for s in scores:\n",
    "        print(f\"Score: {s}, grade: {determine_grade(s)}\")\n",
    "        \n",
    "    print(f\"Average score: {calc_average(scores)}\")\n",
    "    \n",
    "main()"
   ]
  },
  {
   "cell_type": "markdown",
   "metadata": {},
   "source": [
    "4. Write a menu-driven automatic teller program in which the user’s bank balance is initialized to $1,000.  The user should be allowed to perform as many transactions as he or she wishes from the menu.\n",
    "\n",
    " 1.\tDeposit\n",
    " 2.\tWithdrawal\n",
    " 3.\tSee balance\n",
    " 4.\tQuit\n",
    "\n",
    "For the withdrawal option, the user should be prompted to select from the choices `$50`, \t`$100`, `$200`, and `$500`.  (Do not allow user to overdraw.)  After each transaction, the \tprogram should print the current balance.  On exiting, the program should print a \tcourteous message. In this program, design a function for each option. \n"
   ]
  },
  {
   "cell_type": "code",
   "execution_count": 8,
   "metadata": {},
   "outputs": [
    {
     "name": "stdout",
     "output_type": "stream",
     "text": [
      "1. Deposit \n",
      "2. Withdrawal \n",
      "3. See balance \n",
      "4. Quit\n",
      "Enter action: 3\n",
      "\n",
      "\n",
      "Current balance is 1000\n",
      "\n",
      "\n",
      "1. Deposit \n",
      "2. Withdrawal \n",
      "3. See balance \n",
      "4. Quit\n",
      "Enter action: 2\n",
      "\n",
      "\n",
      "1. $50 \n",
      "2. $100 \n",
      "3. $200 \n",
      "4. $500\n",
      "Enter amount: 2\n",
      "Current balance is 900\n",
      "\n",
      "\n",
      "1. Deposit \n",
      "2. Withdrawal \n",
      "3. See balance \n",
      "4. Quit\n",
      "Enter action: 4\n",
      "\n",
      "\n",
      "Thank you for using DERP bank! Hope to see you again!\n"
     ]
    }
   ],
   "source": [
    "#4\n",
    "\n",
    "def get_amt(bal):\n",
    "    print(\"1. $50 \\n2. $100 \\n3. $200 \\n4. $500\")\n",
    "    while True:\n",
    "        opt = int(input(\"Enter amount: \"))\n",
    "        amt = 0\n",
    "        match opt:\n",
    "            case 1:\n",
    "                amt = 50\n",
    "            case 2:\n",
    "                amt = 100\n",
    "            case 3:\n",
    "                amt = 200\n",
    "            case 4:\n",
    "                amt = 500\n",
    "            case _:\n",
    "                print(\"Invalid option\")\n",
    "        if bal==-1 or amt <= bal:\n",
    "            return amt\n",
    "        else :\n",
    "            print(f\"You are attempting to overdraw, balance is {bal}\")\n",
    "\n",
    "def main():\n",
    "    bal = 1000\n",
    "    \n",
    "    while True:\n",
    "        print(\"1. Deposit \\n2. Withdrawal \\n3. See balance \\n4. Quit\")\n",
    "        opt = int(input(\"Enter action: \"))\n",
    "        print(\"\\n\")\n",
    "        match opt:\n",
    "            case 1:\n",
    "                bal += get_amt(-1)\n",
    "                print(f\"Current balance is {bal}\")\n",
    "            case 2:\n",
    "                bal -= get_amt(bal)\n",
    "                print(f\"Current balance is {bal}\")\n",
    "            case 3:\n",
    "                print(f\"Current balance is {bal}\")\n",
    "            case 4:\n",
    "                break\n",
    "            case _:\n",
    "                print(\"Invalid action\")\n",
    "        print(\"\\n\")\n",
    "    \n",
    "    print(\"Thank you for using DERP bank! Hope to see you again!\")\n",
    "\n",
    "main()"
   ]
  },
  {
   "cell_type": "markdown",
   "metadata": {},
   "source": [
    "5. Design a recursive function that accepts two arguments into the parametrs x and y. The function should return the value of x times y. Remember, multiplication can be performed as repeated addition as follows:\n",
    " \n",
    "                  7 x 4 = 4 + 4 + 4 + 4 + 4 + 4 + 4\n",
    "                  \n",
    "   (To keep the function simple, assume that x and y will always hold positive integers.)"
   ]
  },
  {
   "cell_type": "code",
   "execution_count": 11,
   "metadata": {},
   "outputs": [
    {
     "name": "stdout",
     "output_type": "stream",
     "text": [
      "Enter x: 7\n",
      "Enter y: 8\n",
      "Product is 56\n"
     ]
    }
   ],
   "source": [
    "#5\n",
    "def xTimesY (x, y):\n",
    "    if y == 1:\n",
    "        return x\n",
    "    return xTimesY(x, y-1) + x\n",
    "    \n",
    "x = int(input(\"Enter x: \"))\n",
    "y = int(input(\"Enter y: \"))\n",
    "print(f\"Product is {xTimesY(x, y)}\")"
   ]
  },
  {
   "cell_type": "markdown",
   "metadata": {},
   "source": [
    "6. Design a function that accepts an integer argument and returns the sum of all the integers from 1 up to the number passed as an argument. For example, if 50 is passed as an argument, the function will return the sum of  1, 2 , 3, . . . ,50. Use recursion to calculate the sum. "
   ]
  },
  {
   "cell_type": "code",
   "execution_count": 12,
   "metadata": {},
   "outputs": [
    {
     "name": "stdout",
     "output_type": "stream",
     "text": [
      "Enter n: 10\n",
      "Sum up to 10 is 55\n"
     ]
    }
   ],
   "source": [
    "#6\n",
    "def sumUnder(n):\n",
    "    if n == 1: \n",
    "        return n\n",
    "    return n + sumUnder(n-1)\n",
    "\n",
    "n = int(input(\"Enter n: \"))\n",
    "print(f\"Sum up to {n} is {sumUnder(n)}\")"
   ]
  },
  {
   "cell_type": "markdown",
   "metadata": {},
   "source": [
    "7. Write a function that takes three numbers as parameters, and returns the median value of those parameters as its result. Include a main program that reads three values from the user and displays their median.  \n",
    "Hint: The median value is the middle of the three values when they are sorted into ascending order."
   ]
  },
  {
   "cell_type": "code",
   "execution_count": 15,
   "metadata": {},
   "outputs": [
    {
     "name": "stdout",
     "output_type": "stream",
     "text": [
      "Enter a: 8\n",
      "Enter b: 9\n",
      "Enter c: 10\n",
      "Median value is 9\n"
     ]
    }
   ],
   "source": [
    "#7\n",
    "a = int(input(\"Enter a: \"))\n",
    "b = int(input(\"Enter b: \"))\n",
    "c = int(input(\"Enter c: \"))\n",
    "\n",
    "arr = [a, b, c]\n",
    "high, secHighKey = 0, 0\n",
    "highKey = 0\n",
    "for k,v in enumerate(arr):\n",
    "    if v > high:\n",
    "        secHighKey = highKey\n",
    "        high = v; highKey = k\n",
    "\n",
    "print(f\"Median value is {arr[secHighKey]}\")"
   ]
  },
  {
   "cell_type": "markdown",
   "metadata": {},
   "source": [
    "8. Write a function that takes a string of characters as its first parameter, and the width of the terminal in characters as its second parameter. Your function should return a new string that consists of the original string and the correct number of leading spaces so that the original string will appear centered within the provided width when it is printed. Do not add any characaters to the end of the string. Include a main program that demonstrates your function."
   ]
  },
  {
   "cell_type": "code",
   "execution_count": 20,
   "metadata": {},
   "outputs": [
    {
     "name": "stdout",
     "output_type": "stream",
     "text": [
      "Enter string: LOLOLOLOLOLOL\n",
      "Enter terminal width: 40\n",
      "             LOLOLOLOLOLOL\n"
     ]
    }
   ],
   "source": [
    "#8\n",
    "def centerString(string, termWidth):\n",
    "    leadingWidth = (termWidth - len(string)) // 2\n",
    "    return \" \" * leadingWidth + string\n",
    "    \n",
    "string = input(\"Enter string: \")\n",
    "termWidth = int(input(\"Enter terminal width: \"))\n",
    "print(centerString(string, termWidth))"
   ]
  },
  {
   "cell_type": "markdown",
   "metadata": {},
   "source": [
    "9.  Write a function that generates a random password. The password should have a random length of between 7 to 10 characters. Each character should be randomly selected from position 33 to 126 in the ASCII table. Your function will not take any parameters. It will return the randomly generated password as its only result. Display the randomly generated password in the main program."
   ]
  },
  {
   "cell_type": "code",
   "execution_count": 23,
   "metadata": {},
   "outputs": [
    {
     "name": "stdout",
     "output_type": "stream",
     "text": [
      "Generated password: \\Le$aq>u\n"
     ]
    }
   ],
   "source": [
    "#9\n",
    "import random\n",
    "\n",
    "def genPassword():\n",
    "    string = \"\"\n",
    "    length = random.randint(7, 10)\n",
    "    for i in range(length):\n",
    "        string += chr(random.randint(33, 126))\n",
    "    return string\n",
    "\n",
    "print(f\"Generated password: {genPassword()}\")"
   ]
  },
  {
   "cell_type": "markdown",
   "metadata": {},
   "source": [
    "10. Write a function that determines whether or not a password is good. A good password is a one that is at least 8 characters long and contains at least one uppercase letter, at least one lowrcase letter, and at least one digit. Your function should return True if the password passed to it as its only parametere is good. Otherwise it should return False. Include a main program that reads a password from the user and reports whether or not it is a good."
   ]
  },
  {
   "cell_type": "code",
   "execution_count": 29,
   "metadata": {},
   "outputs": [
    {
     "name": "stdout",
     "output_type": "stream",
     "text": [
      "Enter password: askdhaskdjhkASD123123\n",
      "Password is good\n"
     ]
    }
   ],
   "source": [
    "#10\n",
    "import re\n",
    "\n",
    "def containsChar(string, chars):\n",
    "    for char in string:\n",
    "        if char in string:\n",
    "            return True\n",
    "    return False\n",
    "\n",
    "def checkPassword(password):\n",
    "    uppers = \"ABCDEFGHIJKLMNOPQRSTUVWXYZ\"\n",
    "    lowers = uppers.lower()\n",
    "    digits = \"0123456789\"\n",
    "\n",
    "    length, uppercase, lowercase, digit = False, False, False, False\n",
    "    length = len(password) >= 8\n",
    "    uppercase = containsChar(password, uppers)\n",
    "    lowercase = containsChar(password, lowers)\n",
    "    digit = containsChar(password, digits)\n",
    "    return length and uppercase and lowercase and digit\n",
    "\n",
    "password = input(\"Enter password: \")\n",
    "print(f\"Password is {'good' if checkPassword(password) else 'bad'}\")"
   ]
  }
 ],
 "metadata": {
  "kernelspec": {
   "display_name": "Python 3 (ipykernel)",
   "language": "python",
   "name": "python3"
  },
  "language_info": {
   "codemirror_mode": {
    "name": "ipython",
    "version": 3
   },
   "file_extension": ".py",
   "mimetype": "text/x-python",
   "name": "python",
   "nbconvert_exporter": "python",
   "pygments_lexer": "ipython3",
   "version": "3.10.9"
  }
 },
 "nbformat": 4,
 "nbformat_minor": 2
}
