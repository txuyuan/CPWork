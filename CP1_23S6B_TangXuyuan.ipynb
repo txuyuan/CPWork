{
 "cells": [
  {
   "cell_type": "markdown",
   "metadata": {},
   "source": [
    "### Assignment 2 and Coding Practice"
   ]
  },
  {
   "cell_type": "markdown",
   "metadata": {},
   "source": [
    "1. Write a program that accepts the user’s name (as text) and age (as an integer) as input. The \n",
    "program should output a sentence containing the user’s name and current age, and age in \n",
    "10 years’ time."
   ]
  },
  {
   "cell_type": "code",
   "execution_count": 3,
   "metadata": {},
   "outputs": [
    {
     "name": "stdout",
     "output_type": "stream",
     "text": [
      "Enter name: Tang Xuyuan\n",
      "Enter age: 17\n",
      "User name: Tang Xuyuan, age: 17\n"
     ]
    }
   ],
   "source": [
    "name = input(\"Enter name: \")\n",
    "age = input(\"Enter age: \")\n",
    "print(f\"User name: {name}, age: {age}\")"
   ]
  },
  {
   "cell_type": "markdown",
   "metadata": {},
   "source": [
    "2. Write a program that takes the radius of a sphere (a floating-point number) as input and \n",
    "output the sphere’s diameter, circumference, surface area, and volume. "
   ]
  },
  {
   "cell_type": "code",
   "execution_count": 8,
   "metadata": {},
   "outputs": [
    {
     "name": "stdout",
     "output_type": "stream",
     "text": [
      "Enter radius: 5\n",
      "R: 5, diameter: 10, circumference: 31.42, surface area: 314.16, volume: 523.60\n"
     ]
    }
   ],
   "source": [
    "import math\n",
    "\n",
    "r = float(input(\"Enter radius: \"))\n",
    "# range/type tests\n",
    "d = r * 2\n",
    "c = math.pi * 2 * r\n",
    "s = 4 * math.pi * (r**2)\n",
    "v = 4/3 * math.pi * (r**3)\n",
    "print(f\"R: {r:.0f}, diameter: {d:.0f}, circumference: {c:.2f}, surface area: {s:.2f}, volume: {v:.2f}\")"
   ]
  },
  {
   "cell_type": "markdown",
   "metadata": {},
   "source": [
    "3. An employee’s total weekly pay equals the hourly wage multiplied by the total number of \n",
    "regular hours plus overtime pay. Overtime pay equals the overtime hours multiplied by 1.5 \n",
    "times the hourly wage. Write a program that takes as inputs the hourly wage, total regular \n",
    "hours, and total overtime hours and display an employee’s total weekly pay (round to the \n",
    "nearest dollar). "
   ]
  },
  {
   "cell_type": "code",
   "execution_count": 9,
   "metadata": {},
   "outputs": [
    {
     "name": "stdout",
     "output_type": "stream",
     "text": [
      "Enter hourly wage: 10\n",
      "Enter regular hours: 40\n",
      "Enter overtime hours: 20\n",
      "Total weekly pay, 700.0\n"
     ]
    }
   ],
   "source": [
    "import math\n",
    "\n",
    "hourlyWage = float(input(\"Enter hourly wage: \"))\n",
    "regularHours = int(input(\"Enter regular hours: \"))\n",
    "overtimeHours = int(input(\"Enter overtime hours: \"))\n",
    "# range/type tests\n",
    "\n",
    "pay = hourlyWage * regularHours + hourlyWage *1.5 * overtimeHours\n",
    "\n",
    "print(f\"Total weekly pay, {pay}\")"
   ]
  },
  {
   "cell_type": "markdown",
   "metadata": {},
   "source": [
    "4. A bakery sells loaves of bread for $3.50 each. Day old bread is discounted by 60 percent. \n",
    "Write a program that begins by reading the number of loaves of day old bread being \n",
    "purchased from the user. Then your program should display the regular price for the bread, \n",
    "the discount because it is a day old, and the total price.\n",
    " \n",
    " All of the values should be displayed using two decimal places, and the decimal points in \n",
    " all of the numbers should be aligned when reasonable values are entered by the user"
   ]
  },
  {
   "cell_type": "code",
   "execution_count": 10,
   "metadata": {},
   "outputs": [
    {
     "name": "stdout",
     "output_type": "stream",
     "text": [
      "Enter number of old loaves purchased: 10\n",
      "Reg price: 3.50, old discount: 2.10, total price: 4.90\n"
     ]
    }
   ],
   "source": [
    "regularPrice = 3.5\n",
    "oldPrice = regularPrice * 0.4\n",
    "oldLoavesPurchased = int(input(\"Enter number of old loaves purchased: \"))\n",
    "# range/type tests\n",
    "\n",
    "rPrice = \"{:.2f}\".format(regularPrice)\n",
    "oldDisc = \"{:.2f}\".format(regularPrice - oldPrice)\n",
    "totalPrice = \"{:.2f}\".format(regularPrice + oldPrice)\n",
    "\n",
    "print(f\"Reg price: {rPrice}, old discount: {oldDisc}, total price: {totalPrice}\")"
   ]
  },
  {
   "cell_type": "markdown",
   "metadata": {},
   "source": [
    "5. Write a program to swap two numbers."
   ]
  },
  {
   "cell_type": "code",
   "execution_count": 11,
   "metadata": {},
   "outputs": [],
   "source": [
    "a = 10\n",
    "b = 39\n",
    "\n",
    "c = a\n",
    "a = b\n",
    "b = c"
   ]
  },
  {
   "cell_type": "markdown",
   "metadata": {},
   "source": [
    "6. Prompt user to enter the coordinates of a point and find the distance (2 decimal points) of the point from the origin. (Hint: use math module)"
   ]
  },
  {
   "cell_type": "code",
   "execution_count": 13,
   "metadata": {},
   "outputs": [
    {
     "name": "stdout",
     "output_type": "stream",
     "text": [
      "Enter x: 4\n",
      "Enter y: 3\n",
      "5.0\n"
     ]
    }
   ],
   "source": [
    "import math\n",
    "\n",
    "x = float(input(\"Enter x: \"))\n",
    "y = float(input(\"Enter y: \"))\n",
    "\n",
    "d = math.sqrt(x**2 + y**2)\n",
    "print(f\"Distance: {d}\")"
   ]
  },
  {
   "cell_type": "markdown",
   "metadata": {},
   "source": [
    "7. Prompt the user to enter the coordinates of two points and find the distance (2 decimal points) between them. (Hint: use math module)"
   ]
  },
  {
   "cell_type": "code",
   "execution_count": 18,
   "metadata": {},
   "outputs": [
    {
     "name": "stdout",
     "output_type": "stream",
     "text": [
      "Enter x1: 2\n",
      "Enter y1: 2\n",
      "Enter x2: 5\n",
      "Enter y2: 6\n",
      "Distance: 5.0\n"
     ]
    }
   ],
   "source": [
    "import math\n",
    "\n",
    "x1 = float(input(\"Enter x1: \"))\n",
    "y1 = float(input(\"Enter y1: \"))\n",
    "x2 = float(input(\"Enter x2: \"))\n",
    "y2 = float(input(\"Enter y2: \"))\n",
    "\n",
    "d = math.sqrt((x1-x2)**2 + (y1-y2)**2)\n",
    "print(f\"Distance: {d}\")"
   ]
  },
  {
   "cell_type": "markdown",
   "metadata": {},
   "source": [
    "8. Prompt the user to enter the coordinates of three points and find whether they are collinear.  (Hint: use math module)"
   ]
  },
  {
   "cell_type": "code",
   "execution_count": 37,
   "metadata": {},
   "outputs": [
    {
     "name": "stdout",
     "output_type": "stream",
     "text": [
      "Enter x1: 0\n",
      "Enter y1: 0\n",
      "Enter x2: 3\n",
      "Enter y2: 4\n",
      "Enter x3: 6\n",
      "Enter y3: 6\n",
      "Points are not collinear\n"
     ]
    }
   ],
   "source": [
    "x1 = float(input(\"Enter x1: \"))\n",
    "y1 = float(input(\"Enter y1: \"))\n",
    "x2 = float(input(\"Enter x2: \"))\n",
    "y2 = float(input(\"Enter y2: \"))\n",
    "x3 = float(input(\"Enter x3: \"))\n",
    "y3 = float(input(\"Enter y3: \"))\n",
    "\n",
    "# If gradients of 2 lines connecting 3 points are the same, points are collinear\n",
    "g1 = (y2-y1)/(x2-x1)\n",
    "g2 = (y3-y2)/(x3-x2)\n",
    "is_collinear = g1==g2\n",
    "\n",
    "print(f\"Points {'are' if is_collinear else 'are not'} collinear\")"
   ]
  },
  {
   "cell_type": "markdown",
   "metadata": {},
   "source": [
    "9. Compute the approximate age of an individual in seconds within 99% accuracy of results. Your program must work for dates of birth from January 1, 1900 to present. Provide comments on your codes and test cases to make sure that the approximate age in seconds is withn 99% accuracy. Note: You are only allow to use datetime module to obtain the current date. \n"
   ]
  },
  {
   "cell_type": "code",
   "execution_count": 31,
   "metadata": {},
   "outputs": [
    {
     "name": "stdout",
     "output_type": "stream",
     "text": [
      "Enter birth year: 2006\n",
      "Enter birth month: 11\n",
      "Enter birth day: 27\n",
      "Age in seconds: 514404345\n"
     ]
    }
   ],
   "source": [
    "from datetime import datetime\n",
    "\n",
    "y = int(input(\"Enter birth year: \"))\n",
    "m = int(input(\"Enter birth month: \"))\n",
    "d = int(input(\"Enter birth day: \"))\n",
    "cY = datetime.now().year\n",
    "cM = datetime.now().month\n",
    "cD = datetime.now().day\n",
    "\n",
    "# Exact average days in year and in month for max accuracy\n",
    "d += y * 365.25 + m * 30.437 \n",
    "cD += cY * 365.25 + cM * 30.437\n",
    "\n",
    "diffDays = cD - d\n",
    "diffSec = diffDays * 24 * 60 * 60\n",
    "print(f\"Age in seconds: {int(diffSec)}\")"
   ]
  }
 ],
 "metadata": {
  "kernelspec": {
   "display_name": "Python 3 (ipykernel)",
   "language": "python",
   "name": "python3"
  },
  "language_info": {
   "codemirror_mode": {
    "name": "ipython",
    "version": 3
   },
   "file_extension": ".py",
   "mimetype": "text/x-python",
   "name": "python",
   "nbconvert_exporter": "python",
   "pygments_lexer": "ipython3",
   "version": "3.10.9"
  }
 },
 "nbformat": 4,
 "nbformat_minor": 4
}
