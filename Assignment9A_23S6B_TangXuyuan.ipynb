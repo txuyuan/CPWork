{
 "cells": [
  {
   "cell_type": "markdown",
   "metadata": {},
   "source": [
    "### Assignment 9A\n",
    "\n",
    "1. We want to use linear search to count the number of occurrences of a key in a list. When \n",
    "the key does not exist in the list, it is 0 occurrence. Write a recursive function \n",
    "RecSearch(A,key,start) which requires three parameters, the list A, the key to be \n",
    "found, and the start index to search in the list. This function returns the number of \n",
    "occurrences of this key in the list.\n"
   ]
  },
  {
   "cell_type": "code",
   "execution_count": 2,
   "metadata": {},
   "outputs": [
    {
     "name": "stdout",
     "output_type": "stream",
     "text": [
      "Tests passed!\n"
     ]
    }
   ],
   "source": [
    "def RecSearch(A, key, start):\n",
    "    if start == len(A) - 1:\n",
    "        return 0\n",
    "    return RecSearch(A, key, start+1) + (A[start] == key)\n",
    "    \n",
    "    \n",
    "test1 = [1, 2, 3, 3, 4, 7, 9, 3, 4, 1, 3000]\n",
    "assert RecSearch(test1, 3, 0) == 3\n",
    "print(\"Tests passed!\")"
   ]
  },
  {
   "cell_type": "markdown",
   "metadata": {},
   "source": [
    "2. Write a recursive function BinSearch(A,low,high,key) which searches a sorted \n",
    "list A, A[low] . . . . . A[high] , for a match with key using binary search. Return the \n",
    "index of the matching item or −1 if the key is not found."
   ]
  },
  {
   "cell_type": "code",
   "execution_count": 16,
   "metadata": {},
   "outputs": [
    {
     "name": "stdout",
     "output_type": "stream",
     "text": [
      "Tests passed!\n"
     ]
    }
   ],
   "source": [
    "def BinSearch(A, low, high, key):\n",
    "    # Low, high inclusive\n",
    "    if low == high:\n",
    "        return -1\n",
    "    pivot = (low + high) // 2\n",
    "    if key == A[pivot]:\n",
    "        return pivot\n",
    "    elif key < A[pivot]:\n",
    "        return BinSearch(A, low, pivot-1, key)\n",
    "    elif key > A[pivot]:\n",
    "        return BinSearch(A, pivot+1, high, key)\n",
    "    \n",
    "test1 = [1, 2, 3, 3, 4, 9, 13, 300, 3000]\n",
    "test2 = [3, 6, 10, 3000]\n",
    "test3 = [1, 2, 3]\n",
    "test4 = [1, 4, 6, 8, 11, 3000]\n",
    "assert BinSearch(test1, 0, len(test1), 3) == 2 or BinSearch(test1, 0, len(test1), 3) == 3\n",
    "assert BinSearch(test2, 0, len(test2), 3) == 0\n",
    "assert BinSearch(test3, 0, len(test3), 3) == 2\n",
    "assert BinSearch(test4, 0, len(test4), 3) == -1\n",
    "print(\"Tests passed!\")"
   ]
  },
  {
   "cell_type": "markdown",
   "metadata": {},
   "source": [
    "3. Customers are identified by ID numbers. These ID numbers are to be stored in a hash table. The hashing function to be used is\n",
    "\n",
    "```\n",
    "Address <--- IDnumber MOD Max\n",
    "```\n",
    "\n",
    "The hash table is implemented as a one-dimensional array with elements indexed 0 to (Max-1).\n",
    "\n",
    "**Task 1**\n",
    "\n",
    "Write program code to:  \n",
    "\n",
    "* Read ID numbers from a text file and store them in a hash table. For the purpose of testing the program, Max is to be set to the value 20. Assume different IDs will hash to different addresses (no collisions).\n",
    "\n",
    "* Print out the contents of the hash table in the order in which the elements are stored in the array. \n",
    "\n",
    "Use KEYS1.TXT to test your program code."
   ]
  },
  {
   "cell_type": "code",
   "execution_count": 12,
   "metadata": {},
   "outputs": [
    {
     "name": "stdout",
     "output_type": "stream",
     "text": [
      "[4, 7, 17, 19]\n"
     ]
    }
   ],
   "source": [
    "MAXI = 20\n",
    "\n",
    "def idHash(n, maxi):\n",
    "    return n % maxi\n",
    "\n",
    "def array2HashTable(A, maxi):\n",
    "    table = [-1] * maxi\n",
    "    for n in A:\n",
    "        address = idHash(n, maxi)\n",
    "        table[address] = n\n",
    "    return table\n",
    "\n",
    "def fileToArray(filename):\n",
    "    A = []\n",
    "    f = open(filename, 'r')\n",
    "    for n in f:\n",
    "        A.append(int(n))\n",
    "    return A\n",
    "\n",
    "A = fileToArray('./assets/KEYS1.txt')\n",
    "table = array2HashTable(A, MAXI)\n",
    "\n",
    "s = (list(filter(lambda x: (x!=-1), table))).__str__()\n",
    "assert s == \"[4, 7, 17, 19]\"\n",
    "print(s)"
   ]
  },
  {
   "cell_type": "markdown",
   "metadata": {},
   "source": [
    "**Task 2**\n",
    "\n",
    "Amend your program code so that collisions can be managed using open hashing. This means a collision is resolved by searching sequentially from the hashed address for an empty location and storing the ID at this empty location.\n",
    "\n",
    "Use KEYS2.TXT to test your program code."
   ]
  },
  {
   "cell_type": "code",
   "execution_count": 14,
   "metadata": {},
   "outputs": [
    {
     "name": "stdout",
     "output_type": "stream",
     "text": [
      "[57, 77, 4, 7, 17, 37, 19]\n"
     ]
    }
   ],
   "source": [
    "MAXI = 20\n",
    "\n",
    "def idHash(n, maxi):\n",
    "    return n % maxi\n",
    "\n",
    "def array2HashTable(A, maxi):\n",
    "    table = [-1] * maxi\n",
    "    for n in A:\n",
    "        address = idHash(n, maxi)\n",
    "        origAddr = address\n",
    "        while (table[address] != -1):\n",
    "            address = (address + 1) % maxi\n",
    "            if address == origAddr:\n",
    "                raise Exception(\"Table out of space!\")\n",
    "        \n",
    "        table[address] = n\n",
    "    return table\n",
    "\n",
    "def fileToArray(filename):\n",
    "    A = []\n",
    "    f = open(filename, 'r')\n",
    "    for n in f:\n",
    "        A.append(int(n))\n",
    "    return A\n",
    "\n",
    "A = fileToArray('./assets/KEYS2.txt')\n",
    "table = array2HashTable(A, MAXI)\n",
    "\n",
    "s = (list(filter(lambda x: (x!=-1), table))).__str__()\n",
    "print(s)"
   ]
  },
  {
   "cell_type": "markdown",
   "metadata": {},
   "source": [
    "**Task 3**\n",
    "\n",
    "Add code to your Task 2 program. \n",
    "\n",
    "The program is to:\n",
    "* Take as input an ID number\n",
    "* Search the hash table and output the address (index number) of the hash table where the ID was found. \n",
    "\n",
    "Use KEYS2.TXT to test your program code.\n",
    "\n",
    "Run the program three times. Use the following inputs: 37, 77 and 97."
   ]
  },
  {
   "cell_type": "code",
   "execution_count": 23,
   "metadata": {},
   "outputs": [
    {
     "name": "stdout",
     "output_type": "stream",
     "text": [
      "Tests passed!\n"
     ]
    }
   ],
   "source": [
    "MAXI = 20\n",
    "\n",
    "def findHashId(table, key, maxi):\n",
    "    address = idHash(key, maxi)\n",
    "    origAddr = address\n",
    "    finding = True\n",
    "    while (table[address] != key and finding):\n",
    "        address = (address + 1) % maxi\n",
    "        if address == origAddr:\n",
    "            finding = False\n",
    "            \n",
    "    if finding == True:\n",
    "        return address\n",
    "    else:\n",
    "        return -1\n",
    "    \n",
    "A = fileToArray('./assets/KEYS2.txt')\n",
    "table = array2HashTable(A, 20)\n",
    "\n",
    "assert findHashId(table, 37, MAXI) == 18\n",
    "assert findHashId(table, 77, MAXI) == 1\n",
    "assert findHashId(table, 97, MAXI) == -1\n",
    "print(\"Tests passed!\")"
   ]
  }
 ],
 "metadata": {
  "kernelspec": {
   "display_name": "Python 3 (ipykernel)",
   "language": "python",
   "name": "python3"
  },
  "language_info": {
   "codemirror_mode": {
    "name": "ipython",
    "version": 3
   },
   "file_extension": ".py",
   "mimetype": "text/x-python",
   "name": "python",
   "nbconvert_exporter": "python",
   "pygments_lexer": "ipython3",
   "version": "3.10.9"
  }
 },
 "nbformat": 4,
 "nbformat_minor": 4
}
