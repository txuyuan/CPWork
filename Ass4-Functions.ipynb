{
 "cells": [
  {
   "cell_type": "code",
   "execution_count": 5,
   "id": "5229fa4b",
   "metadata": {},
   "outputs": [
    {
     "name": "stdout",
     "output_type": "stream",
     "text": [
      "Enter n: 5\n",
      "\n",
      "*\n",
      "**\n",
      "***\n",
      "****\n",
      "*****\n"
     ]
    }
   ],
   "source": [
    "#1\n",
    "def main():\n",
    "    n = int(input(\"Enter n: \"))\n",
    "    printAst(n, 0)\n",
    "    \n",
    "def print_ast(n, i):\n",
    "    print(\"*\" * i)\n",
    "    if i < n:\n",
    "        print_ast(n, i+1)\n",
    "        \n",
    "main()"
   ]
  },
  {
   "cell_type": "code",
   "execution_count": 9,
   "id": "7eab0f27",
   "metadata": {},
   "outputs": [
    {
     "name": "stdout",
     "output_type": "stream",
     "text": [
      "Enter highest number: 10\n",
      "55\n"
     ]
    }
   ],
   "source": [
    "#2\n",
    "def main():\n",
    "    n = int(input(\"Enter highest number: \"))\n",
    "    print(get_sum(n))\n",
    "    \n",
    "def get_sum(n):\n",
    "    if n == 1:\n",
    "        return 1\n",
    "    return n + get_sum(n-1)\n",
    "\n",
    "main()"
   ]
  },
  {
   "cell_type": "code",
   "execution_count": 32,
   "id": "9cce1d65",
   "metadata": {},
   "outputs": [
    {
     "name": "stdout",
     "output_type": "stream",
     "text": [
      "1. Deposit \n",
      "2. Withdrawal \n",
      "3. See balance \n",
      "4. Quit\n",
      "Enter action: 2\n",
      "\n",
      "\n",
      "1. $50 \n",
      "2. $100 \n",
      "3. $200 \n",
      "4. $500\n",
      "Enter amount: 3\n",
      "Current balance is 800\n",
      "\n",
      "\n",
      "1. Deposit \n",
      "2. Withdrawal \n",
      "3. See balance \n",
      "4. Quit\n",
      "Enter action: 3\n",
      "\n",
      "\n",
      "Current balance is 800\n",
      "\n",
      "\n",
      "1. Deposit \n",
      "2. Withdrawal \n",
      "3. See balance \n",
      "4. Quit\n",
      "Enter action: 4\n",
      "\n",
      "\n",
      "Thank you for using DERP bank! Hope to see you again!\n"
     ]
    }
   ],
   "source": [
    "#3\n",
    "\n",
    "def get_amt(bal):\n",
    "    print(\"1. $50 \\n2. $100 \\n3. $200 \\n4. $500\")\n",
    "    while True:\n",
    "        opt = int(input(\"Enter amount: \"))\n",
    "        amt = 0\n",
    "        match opt:\n",
    "            case 1:\n",
    "                amt = 50\n",
    "            case 2:\n",
    "                amt = 100\n",
    "            case 3:\n",
    "                amt = 200\n",
    "            case 4:\n",
    "                amt = 500\n",
    "            case _:\n",
    "                print(\"Invalid option\")\n",
    "        if bal==-1 or amt <= bal:\n",
    "            return amt\n",
    "        else :\n",
    "            print(f\"You are attempting to overdraw, balance is {bal}\")\n",
    "\n",
    "def main():\n",
    "    bal = 1000\n",
    "    \n",
    "    while True:\n",
    "        print(\"1. Deposit \\n2. Withdrawal \\n3. See balance \\n4. Quit\")\n",
    "        opt = int(input(\"Enter action: \"))\n",
    "        print(\"\\n\")\n",
    "        match opt:\n",
    "            case 1:\n",
    "                bal += get_amt(-1)\n",
    "                print(f\"Current balance is {bal}\")\n",
    "            case 2:\n",
    "                bal -= get_amt(bal)\n",
    "                print(f\"Current balance is {bal}\")\n",
    "            case 3:\n",
    "                print(f\"Current balance is {bal}\")\n",
    "            case 4:\n",
    "                break\n",
    "            case _:\n",
    "                print(\"Invalid action\")\n",
    "        print(\"\\n\")\n",
    "    \n",
    "    print(\"Thank you for using DERP bank! Hope to see you again!\")\n",
    "\n",
    "main()"
   ]
  },
  {
   "cell_type": "code",
   "execution_count": 30,
   "id": "3ad5e4df",
   "metadata": {},
   "outputs": [
    {
     "name": "stdout",
     "output_type": "stream",
     "text": [
      "Enter first score: 70\n",
      "Enter second score: 80\n",
      "Enter third score: 90\n",
      "Score: 70, grade: C\n",
      "Score: 80, grade: B\n",
      "Score: 90, grade: A\n",
      "Average score: 80.0\n"
     ]
    }
   ],
   "source": [
    "def calc_average(scores):\n",
    "    return sum(scores)/len(scores)\n",
    "\n",
    "def determine_grade(score):\n",
    "    if score > 100 or score < 0:\n",
    "        print(\"Invalid score\")\n",
    "    elif score >= 90:\n",
    "        return \"A\"\n",
    "    elif score >= 80:\n",
    "        return \"B\"\n",
    "    elif score >= 70:\n",
    "        return \"C\"\n",
    "    elif score >= 60:\n",
    "        return \"D\"\n",
    "    else:\n",
    "        return \"F\"\n",
    "\n",
    "def main():\n",
    "    scores = [0] * 3\n",
    "    scores[0] = int(input(\"Enter first score: \"))\n",
    "    scores[1] = int(input(\"Enter second score: \"))\n",
    "    scores[2] = int(input(\"Enter third score: \"))\n",
    "    \n",
    "    for s in scores:\n",
    "        print(f\"Score: {s}, grade: {determine_grade(s)}\")\n",
    "        \n",
    "    print(f\"Average score: {calc_average(scores)}\")\n",
    "    \n",
    "main()"
   ]
  },
  {
   "cell_type": "code",
   "execution_count": null,
   "id": "ab8185ea",
   "metadata": {},
   "outputs": [],
   "source": []
  }
 ],
 "metadata": {
  "kernelspec": {
   "display_name": "Python 3 (ipykernel)",
   "language": "python",
   "name": "python3"
  },
  "language_info": {
   "codemirror_mode": {
    "name": "ipython",
    "version": 3
   },
   "file_extension": ".py",
   "mimetype": "text/x-python",
   "name": "python",
   "nbconvert_exporter": "python",
   "pygments_lexer": "ipython3",
   "version": "3.10.7"
  }
 },
 "nbformat": 4,
 "nbformat_minor": 5
}
