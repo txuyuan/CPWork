{
 "cells": [
  {
   "cell_type": "code",
   "execution_count": 58,
   "id": "c1517278",
   "metadata": {},
   "outputs": [
    {
     "name": "stdout",
     "output_type": "stream",
     "text": [
      "[12, 13, 39, 48, 57, 59, 64, 70, 99]\n",
      "[1, 2, 3, 4, 5, 6, 7, 8, 9]\n"
     ]
    }
   ],
   "source": [
    "import random\n",
    "\n",
    "def quickSort(A):\n",
    "    random.shuffle(A)\n",
    "    _quickSort(A, 0, len(A) - 1)\n",
    "\n",
    "def _quickSort(A, low, high):\n",
    "    if high <= low:\n",
    "        return\n",
    "    \n",
    "    pivotIndex = partition(A, low, high)\n",
    "    _quickSort(A, low, pivotIndex-1)\n",
    "    _quickSort(A, pivotIndex+1, high)\n",
    "    \n",
    "def partition(A, low, high):\n",
    "    # pivot value is index-0\n",
    "    \n",
    "    pivot = A[low]\n",
    "    left = low+1\n",
    "    right = high\n",
    "    \n",
    "    counter = 0\n",
    "    while (left <= right and counter < 200):\n",
    "        counter += 1\n",
    "        while (left <= high) and (A[left] < pivot):\n",
    "            left += 1\n",
    "        while (A[right] > pivot):\n",
    "            right -= 1\n",
    "        if (left <= right):\n",
    "            A[left], A[right] = A[right], A[left]\n",
    "    \n",
    "    # now, right < pivot, left > pivot\n",
    "    A[right], A[low] = A[low], A[right]\n",
    "    return right\n",
    "\n",
    "test1 = [13, 12, 39, 99, 57, 64, 59, 48, 70]\n",
    "test2 = [7, 3, 5, 9, 1, 4, 6, 2, 8]\n",
    "quickSort(test1)\n",
    "quickSort(test2)\n",
    "print(test1)\n",
    "print(test2)"
   ]
  },
  {
   "cell_type": "code",
   "execution_count": null,
   "id": "c3c39c33",
   "metadata": {},
   "outputs": [],
   "source": []
  }
 ],
 "metadata": {
  "kernelspec": {
   "display_name": "Python 3 (ipykernel)",
   "language": "python",
   "name": "python3"
  },
  "language_info": {
   "codemirror_mode": {
    "name": "ipython",
    "version": 3
   },
   "file_extension": ".py",
   "mimetype": "text/x-python",
   "name": "python",
   "nbconvert_exporter": "python",
   "pygments_lexer": "ipython3",
   "version": "3.10.9"
  }
 },
 "nbformat": 4,
 "nbformat_minor": 5
}
