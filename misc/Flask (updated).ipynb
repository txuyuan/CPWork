{
 "cells": [
  {
   "cell_type": "markdown",
   "metadata": {},
   "source": [
    "# Folder Structure\n",
    "```\n",
    "web-app/\n",
    "├─ static/\n",
    "│  ├─ assets/\n",
    "│  ├─ css/\n",
    "├─ templates/\n",
    "├─ app.py\n",
    "```\n",
    "\n",
    "## Functions\n",
    "- assets (optional): images\n",
    "- css: css\n",
    "- templates: HTML templates for different pages\n",
    "    - 1 page = 1 template\n",
    "\n"
   ]
  },
  {
   "cell_type": "markdown",
   "metadata": {},
   "source": [
    "# Setup (`app.py`)"
   ]
  },
  {
   "cell_type": "code",
   "execution_count": null,
   "metadata": {},
   "outputs": [],
   "source": [
    "import flask\n",
    "from flask import request_template, request, redirect, url_for\n",
    "\n",
    "# 0: How to run the app (see bottom)\n",
    "# 1: initiate flask application\n",
    "app = flask.Flask(__name__)\n",
    "\n",
    "# dummy functions\n",
    "def signedIn():\n",
    "    return True \n",
    "def processForm(user, pw):\n",
    "    return True\n",
    "# 2: Basic Routing\n",
    "# Routes must match exactly; \n",
    "# i.e.  case sensitive, trailing slashes\n",
    "# however, if the URL entered has no trailing slash, flask will automatically add it before returning error \n",
    "# SEE ANNEX A (DO NOT SKIP)\n",
    "@app.route(\"/\")\n",
    "def home():\n",
    "    return \"Welcome\" #returns plain text of \"Welcome\" to console\n",
    "\n",
    "# 2.2: Multiple routes\n",
    "@app.route(\"/one\")\n",
    "@app.route(\"/two\")\n",
    "@app.route(\"/three\")\n",
    "def numbers():\n",
    "    return \"numbers\"\n",
    "\n",
    "# 2.3 Variable routes\n",
    "# SEE ANNEX B (DO NOT SKIP)\n",
    "@app.route(\"/profile/<username>\") # \"username\" is passed to profile()\n",
    "def profile(username):\n",
    "    return \"username\"\n",
    "\n",
    "# 3: Returning a template\n",
    "@app.route(\"/gallery\")\n",
    "def gallery():\n",
    "    return request_template(\"gallery.html\") #Returns HTML page in templates folder\n",
    "\n",
    "# 4: Return a template based on a request\n",
    "# This is for pages with forms\n",
    "@app.route(\"/signup\", methods=[\"GET\", \"POST\"])\n",
    "def signup():\n",
    "    if request.method == \"GET\":\n",
    "        return request_template(\"signup.html\")\n",
    "    elif request.method == \"POST\":\n",
    "        # 5: getting data from submitted form\n",
    "        username = request.form[\"username\"] # where name=username\n",
    "        password = request.form[\"password\"] # where name=password\n",
    "        processForm(username, password)\n",
    "\n",
    "        # 6: Redirect page\n",
    "        # 7: url_for function: return url for an app route\n",
    "        # 8: pass data to Jinja templates using templateName=variable as an attribute\n",
    "        return redirect(url_for(\"gallery\"), user=username) #basically redirects to gallery() function\n",
    "\n",
    "\n",
    "\n",
    "# 0: How to run the app\n",
    "if __name__ == \"__main__\":\n",
    "    app.run(port=12345)"
   ]
  },
  {
   "cell_type": "markdown",
   "metadata": {},
   "source": [
    "# Jinjia 2 Engine and Templates"
   ]
  },
  {
   "cell_type": "code",
   "execution_count": null,
   "metadata": {
    "vscode": {
     "languageId": "html"
    }
   },
   "outputs": [],
   "source": [
    "<!DOCTYPE html>\n",
    "<html lang=\"en\">\n",
    "<head>\n",
    "    <meta charset=\"UTF-8\">\n",
    "    <meta name=\"viewport\" content=\"width=device-width, initial-scale=1.0\">\n",
    "    <title>Demo</title>\n",
    "\n",
    "    <!-- 0: Link to CSS file -->\n",
    "    <link rel=\"stylesheet\" href={{url_for(\"static\", filename=\"styles.css\")}}>\n",
    "\n",
    "</head>\n",
    "<body>\n",
    "    <!-- Wrap Jinja2 expression in {{ }} -->\n",
    "    <!-- Similar to python expression but many methods are unavailable -->\n",
    "    <!-- Must pass variables from routing in app.py -->\n",
    "    <h1> Hello there, {{ user }}</h1> \n",
    "\n",
    "    <!-- 1: Length filter: get length of string -->\n",
    "    <h2> Your username is {{ user|length }} characters long.</h2>\n",
    "\n",
    "    <!-- 2: If statements -->\n",
    "    {% if user == 'admin' %}\n",
    "        <h2> Welcome Admin! </h2>\n",
    "    {% elif user == 'guest' %}\n",
    "        <h2> Welcome Guest! </h2>\n",
    "    {% else %}\n",
    "        <h2> Welcome {{ user }}! </h2>\n",
    "    {% endif %}\n",
    "\n",
    "    <!-- 3: For loops -->\n",
    "    <h2> Here are some of our pets: </h2>\n",
    "    <ul>\n",
    "        {% for pet in pets %}\n",
    "            <li> {{ pet }} </li>\n",
    "        {% endfor %}\n",
    "    </ul>\n",
    "\n",
    "</body>\n",
    "</html>"
   ]
  },
  {
   "cell_type": "markdown",
   "metadata": {},
   "source": [
    "# HTML Forms"
   ]
  },
  {
   "cell_type": "code",
   "execution_count": null,
   "metadata": {
    "vscode": {
     "languageId": "html"
    }
   },
   "outputs": [],
   "source": [
    "<!DOCTYPE html>\n",
    "<head>\n",
    "    <title>Document</title>\n",
    "</head>\n",
    "<body>\n",
    "    <h1>Sign Up</h1>\n",
    "    <!--Action is where to put the url for the page to be redirect to after submit is clicked-->\n",
    "    <form action=\"\" method=\"POST\">\n",
    "\n",
    "        <!-- Basic format for forms:-->\n",
    "        <!-- 1: label for=\"[name]\"-->\n",
    "        <!-- 2: Input type, id, name (unique identifier)-->\n",
    "\n",
    "        <!--Types of input-->\n",
    "        <!-- text, password, email, number, date, radio, checkbox, button-->\n",
    "        <label for=\"username\">Username:</label><br>\n",
    "        <input type=\"text\" id=\"username\" name=\"username\"><br>\n",
    "\n",
    "        <label for=\"password\">Password:</label><br>\n",
    "        <input type=\"password\" id=\"password\" name=\"password\"><br>\n",
    "\n",
    "        <!--textarea: for getting long text inputs-->\n",
    "        <textarea name=\"message\" id=\"message\" cols=\"30\" rows=\"10\"></textarea>\n",
    "\n",
    "        <!--Submit button-->\n",
    "        <!-- Value = text displayed on button-->\n",
    "        <!--Upon submission, the -->\n",
    "        <input type=\"submit\" value=\"Sign Up\">\n",
    "\n",
    "    </form>\n",
    "</body>\n",
    "</html>"
   ]
  },
  {
   "cell_type": "markdown",
   "metadata": {},
   "source": [
    "### Annex A: Trailing Slashes\n",
    "\n",
    "![Trailing Slashes](/Annex_A_Trailing_slashes.png)"
   ]
  }
 ],
 "metadata": {
  "kernelspec": {
   "display_name": "Python 3 (ipykernel)",
   "language": "python",
   "name": "python3"
  },
  "language_info": {
   "codemirror_mode": {
    "name": "ipython",
    "version": 3
   },
   "file_extension": ".py",
   "mimetype": "text/x-python",
   "name": "python",
   "nbconvert_exporter": "python",
   "pygments_lexer": "ipython3",
   "version": "3.12.3"
  }
 },
 "nbformat": 4,
 "nbformat_minor": 4
}
