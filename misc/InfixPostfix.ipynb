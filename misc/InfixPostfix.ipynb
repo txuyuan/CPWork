{
 "cells": [
  {
   "cell_type": "code",
   "execution_count": 49,
   "id": "432b90f6-f478-4f91-b86b-55d6bff6e0b1",
   "metadata": {},
   "outputs": [],
   "source": [
    "class Stack():\n",
    "    def __init__(self):\n",
    "        self._array = []\n",
    "    def __str__(self):\n",
    "        return \"\".join(self._array)\n",
    "    def push(self, x):\n",
    "        self._array += [x]\n",
    "    def pop(self):\n",
    "        x = self._array[-1]\n",
    "        self._array = self._array[:-1]\n",
    "        return x\n",
    "    def peek(self):\n",
    "        return self._array[-1] \n",
    "    def is_empty(self):\n",
    "        return len(self._array) == 0"
   ]
  },
  {
   "cell_type": "code",
   "execution_count": 5,
   "id": "0a99b4c8-f01b-4253-87f4-f0f5b63be29d",
   "metadata": {},
   "outputs": [],
   "source": [
    "ops = {\n",
    "    \"+\": 0,\n",
    "    \"-\": 0,\n",
    "    \"*\": 1,\n",
    "    \"/\": 1,\n",
    "}"
   ]
  },
  {
   "cell_type": "code",
   "execution_count": 73,
   "id": "2d73bf7b-da3a-4b68-a59d-b29809563256",
   "metadata": {},
   "outputs": [],
   "source": [
    "# NOT NEEDED NOT NEEDED NOT NEEDED NOT NEEDED\n",
    "# NOT NEEDED NOT NEEDED NOT NEEDED NOT NEEDED\n",
    "\n",
    "def postfix2infix(expr):\n",
    "    result = Stack()\n",
    "    op_stack = Stack()\n",
    "    for char in expr:\n",
    "        if char in ops.keys():\n",
    "            x, y = result.pop(), result.pop()\n",
    "            opx, opy = op_stack.pop(), op_stack.pop()\n",
    "            if opx != None and ops[opx] < ops[char]:\n",
    "                x = \"(\" + x + \")\"\n",
    "            if opy != None and ops[opy] < ops[char]:\n",
    "                y = \"(\" + y + \")\"\n",
    "                \n",
    "            concat = y + char + x\n",
    "            result.push(concat)\n",
    "            op_stack.push(char)\n",
    "        else:\n",
    "            result.push(char)\n",
    "            op_stack.push(None)\n",
    "    return str(result)\n",
    "\n",
    "# NOT NEEDED NOT NEEDED NOT NEEDED NOT NEEDED\n",
    "# NOT NEEDED NOT NEEDED NOT NEEDED NOT NEEDED"
   ]
  },
  {
   "cell_type": "code",
   "execution_count": 70,
   "id": "bb952d63-4690-44b8-934e-44ed7f138c3e",
   "metadata": {},
   "outputs": [],
   "source": [
    "def infix2postfix(expr):\n",
    "    op_stack = Stack()\n",
    "    fin_stack = Stack()\n",
    "    for char in expr:\n",
    "        if char == \"(\":\n",
    "            op_stack.push(char)\n",
    "        elif char == \")\":\n",
    "            while op_stack.peek() != \"(\":\n",
    "                fin_stack.push(op_stack.pop())\n",
    "            op_stack.pop()\n",
    "        \n",
    "        elif char in ops.keys():\n",
    "            while not op_stack.is_empty() and op_stack.peek() != \"(\" and ops[op_stack.peek()] >= ops[char]:\n",
    "                fin_stack.push(op_stack.pop())\n",
    "            op_stack.push(char)\n",
    "            \n",
    "        else:\n",
    "            fin_stack.push(char) \n",
    "    while not op_stack.is_empty():\n",
    "        fin_stack.push(op_stack.pop())\n",
    "    return str(fin_stack)"
   ]
  },
  {
   "cell_type": "code",
   "execution_count": 90,
   "id": "957f02ae-3d29-4f98-88ea-39000f476750",
   "metadata": {},
   "outputs": [],
   "source": [
    "def evalPostfix(expr):\n",
    "    stack = Stack()\n",
    "    for char in expr:\n",
    "        if char in ops.keys():\n",
    "            x, y = stack.pop(), stack.pop()\n",
    "            match char:\n",
    "                case \"+\":\n",
    "                    z = x+y\n",
    "                case \"-\":\n",
    "                    z = x-y\n",
    "                case \"*\":\n",
    "                    z = x*y\n",
    "                case \"/\":\n",
    "                    z = x/y\n",
    "            stack.push(z)\n",
    "        else:\n",
    "            stack.push(int(char))\n",
    "    return stack.pop()"
   ]
  },
  {
   "cell_type": "code",
   "execution_count": 92,
   "id": "1433b54b-4dad-40a2-a6f9-ac7104f0907b",
   "metadata": {},
   "outputs": [
    {
     "name": "stdout",
     "output_type": "stream",
     "text": [
      "12+3* => (1+2)*3\n",
      "12*3+ => 1*2+3\n",
      "12*34*+ => 1*2+3*4\n",
      "12+34+* => (1+2)*(3+4)\n",
      "\n",
      "(1+2)*3 => 12+3*\n",
      "1*2+3 => 12*3+\n",
      "1*2+3*4 => 12*34*+\n",
      "(1+2)*(3+4) => 12+34+*\n",
      "\n",
      "12+3* = 9\n",
      "12*3+ = 5\n",
      "12*34*+ = 14\n",
      "12+34+* = 21\n"
     ]
    }
   ],
   "source": [
    "postfixExpr = [\n",
    "    \"12+3*\",\n",
    "    \"12*3+\",\n",
    "    \"12*34*+\",\n",
    "    \"12+34+*\"\n",
    "]\n",
    "infixExpr = []\n",
    "for expr in postfixExpr:\n",
    "    print(expr + \" => \" + postfix2infix(expr))\n",
    "    infixExpr += [postfix2infix(expr)]\n",
    "print()\n",
    "\n",
    "for expr in infixExpr:\n",
    "    print(expr + \" => \" + infix2postfix(expr))\n",
    "print()\n",
    "\n",
    "for expr in postfixExpr:\n",
    "    print(expr + \" = \" + str(evalPostfix(expr)))"
   ]
  }
 ],
 "metadata": {
  "kernelspec": {
   "display_name": "cp",
   "language": "python",
   "name": "cp"
  },
  "language_info": {
   "codemirror_mode": {
    "name": "ipython",
    "version": 3
   },
   "file_extension": ".py",
   "mimetype": "text/x-python",
   "name": "python",
   "nbconvert_exporter": "python",
   "pygments_lexer": "ipython3",
   "version": "3.12.3"
  }
 },
 "nbformat": 4,
 "nbformat_minor": 5
}
