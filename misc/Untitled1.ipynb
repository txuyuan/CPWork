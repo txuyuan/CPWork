{
 "cells": [
  {
   "cell_type": "code",
   "execution_count": null,
   "id": "432b90f6-f478-4f91-b86b-55d6bff6e0b1",
   "metadata": {},
   "outputs": [],
   "source": [
    "class Stack():\n",
    "    def __init__(self):\n",
    "        self.array = []\n",
    "    def push(x):\n",
    "        self.array += [x]\n",
    "    def pop():\n",
    "        "
   ]
  },
  {
   "cell_type": "code",
   "execution_count": null,
   "id": "2d73bf7b-da3a-4b68-a59d-b29809563256",
   "metadata": {},
   "outputs": [],
   "source": [
    "def postfix2infix(str):\n",
    "       "
   ]
  },
  {
   "cell_type": "code",
   "execution_count": null,
   "id": "bb952d63-4690-44b8-934e-44ed7f138c3e",
   "metadata": {},
   "outputs": [],
   "source": [
    "def infix2postfix(str):\n",
    "    pass"
   ]
  }
 ],
 "metadata": {
  "kernelspec": {
   "display_name": "cp",
   "language": "python",
   "name": "cp"
  },
  "language_info": {
   "codemirror_mode": {
    "name": "ipython",
    "version": 3
   },
   "file_extension": ".py",
   "mimetype": "text/x-python",
   "name": "python",
   "nbconvert_exporter": "python",
   "pygments_lexer": "ipython3",
   "version": "3.12.3"
  }
 },
 "nbformat": 4,
 "nbformat_minor": 5
}

}
