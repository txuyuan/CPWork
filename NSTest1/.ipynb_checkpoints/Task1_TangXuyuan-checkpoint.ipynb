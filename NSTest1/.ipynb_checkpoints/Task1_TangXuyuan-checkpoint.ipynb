{
 "cells": [
  {
   "cell_type": "code",
   "execution_count": 84,
   "id": "357f850c",
   "metadata": {},
   "outputs": [],
   "source": [
    "# Task 1.1\n",
    "\n",
    "class TreeNode():\n",
    "    def __init__(self, word, left_ptr=None, right_ptr=None):\n",
    "        self._word = word\n",
    "        self._left_ptr = left_ptr\n",
    "        self._right_ptr = right_ptr\n",
    "        \n",
    "    def get_word(self):\n",
    "        return self._word\n",
    "    def get_left_ptr(self):\n",
    "        return self._left_ptr\n",
    "    def get_right_ptr(self):\n",
    "        return self._right_ptr\n",
    "    \n",
    "    def set_word(self, word):\n",
    "        self._word = word\n",
    "    def set_left_ptr(self, left_ptr):\n",
    "        self._left_ptr = left_ptr\n",
    "    def set_right_ptr(self, right_ptr):\n",
    "        self._right_ptr = right_ptr\n",
    "        \n",
    "    def __str__(self):\n",
    "        s = \"\"\n",
    "        if self._left_ptr != None:\n",
    "            s += self._left_ptr.__str__()\n",
    "        s += self._word\n",
    "        if self._right_ptr != None:\n",
    "            s += self._right_ptr.__str__()"
   ]
  },
  {
   "cell_type": "code",
   "execution_count": 92,
   "id": "37eb5a7a",
   "metadata": {},
   "outputs": [],
   "source": [
    "# Task 1.2\n",
    "\n",
    "class BinarySearchTree():\n",
    "    def __init__(self, root=None):\n",
    "        self._root = root\n",
    "    \n",
    "    def add(self, word):\n",
    "        if self._root == None:\n",
    "            self._root = TreeNode(word)\n",
    "        else:\n",
    "            success = False\n",
    "            probe = self._root\n",
    "            while(not success):\n",
    "                if word >= probe.get_word():\n",
    "                    # Traverse Right\n",
    "                    if probe.get_right_ptr() == None:\n",
    "                        probe.set_right_ptr(TreeNode(word))\n",
    "                        success = True\n",
    "                    else:\n",
    "                        probe = probe.get_right_ptr()\n",
    "                else:\n",
    "                    # Traverse Left\n",
    "                    if probe.get_left_ptr() == None:\n",
    "                        probe.set_left_ptr(TreeNode(word))\n",
    "                        success = True\n",
    "                    else:\n",
    "                        probe = probe.get_left_ptr()\n",
    "    \n",
    "    def inOrder(self):\n",
    "        probe = self._root\n",
    "        arr = []\n",
    "        self._inOrder(probe, arr)\n",
    "        return arr\n",
    "        \n",
    "    def _inOrder(self, probe, arr):\n",
    "        if probe == None:\n",
    "            return\n",
    "        self._inOrder(probe.get_left_ptr(), arr)\n",
    "        arr.append(probe.get_word())\n",
    "        self._inOrder(probe.get_right_ptr(), arr)\n",
    "        \n",
    "    def preOrder(self):\n",
    "        probe = self._root\n",
    "        arr = []\n",
    "        self._preOrder(probe, arr)\n",
    "        return arr\n",
    "        \n",
    "    def _preOrder(self, probe, arr):\n",
    "        if probe == None:\n",
    "            return\n",
    "        arr.append(probe.get_word())\n",
    "        self._preOrder(probe.get_left_ptr(), arr)\n",
    "        self._preOrder(probe.get_right_ptr(), arr)"
   ]
  },
  {
   "cell_type": "code",
   "execution_count": 93,
   "id": "00bf4b98",
   "metadata": {
    "scrolled": true
   },
   "outputs": [
    {
     "name": "stdout",
     "output_type": "stream",
     "text": [
      "InOrder\n",
      "['1', '10', 'A', 'A', 'B', 'Z']\n",
      "\n",
      "PreOrder\n",
      "['A', '1', '10', 'B', 'A', 'Z']\n"
     ]
    }
   ],
   "source": [
    "# Test for Task 1.2\n",
    "bst = BinarySearchTree()\n",
    "bst.add(\"A\")\n",
    "bst.add(\"B\")\n",
    "bst.add(\"Z\")\n",
    "bst.add(\"A\")\n",
    "bst.add(\"1\")\n",
    "bst.add(\"10\")\n",
    "\n",
    "print(\"InOrder\")\n",
    "print(bst.inOrder())\n",
    "print()\n",
    "\n",
    "print(\"PreOrder\")\n",
    "print(bst.preOrder())"
   ]
  },
  {
   "cell_type": "code",
   "execution_count": 7,
   "id": "cee90776",
   "metadata": {},
   "outputs": [
    {
     "name": "stdout",
     "output_type": "stream",
     "text": [
      "['', '', 'advance', 'and', 'as', 'civilization', 'consume', 'create', 'more', 'people', 'technology', 'than', 'they']\n"
     ]
    }
   ],
   "source": [
    "# EXAM MISTAKE: I edited the file TEXT.txt to remove the seemingl erroneous spaces at the end of the file. \n",
    "# This is not allowed, and therefore the original output didn't have the 3 empty [''] strings\n",
    "\n",
    "# Task 1.3\n",
    "\n",
    "def task1_3():\n",
    "    bst = BinarySearchTree()\n",
    "    file = open(\"TEXT.txt\", 'r')\n",
    "    for line in file:\n",
    "        for word in line.strip().split(\" \"):\n",
    "            word = word.strip()\n",
    "            bst.add(word)\n",
    "    return bst.inOrder()\n",
    "    \n",
    "print(task1_3())"
   ]
  },
  {
   "cell_type": "code",
   "execution_count": 8,
   "id": "97c9cde7",
   "metadata": {},
   "outputs": [
    {
     "name": "stdout",
     "output_type": "stream",
     "text": [
      "['consume', 'advance', '', '', 'as', 'and', 'civilization', 'people', 'create', 'more', 'than', 'technology', 'they']\n"
     ]
    }
   ],
   "source": [
    "# EXAM MISTAKE: I edited the file TEXT.txt to remove the seemingl erroneous spaces at the end of the file. \n",
    "# This is not allowed, and therefore the original output didn't have the 3 empty [''] strings\n",
    "\n",
    "# Task 1.4\n",
    "\n",
    "def task1_4():\n",
    "    arr = task1_3()\n",
    "    bst = BinarySearchTree(create_balanced_bst(arr, 0, len(arr)-1))\n",
    "    print(bst.preOrder())\n",
    "    \n",
    "def create_balanced_bst(arr, low, high):\n",
    "    if low == high:\n",
    "        # Reached leaf of tree\n",
    "        return TreeNode(arr[low]) \n",
    "    \n",
    "    mid = (low + high) // 2\n",
    "    # Construct this node\n",
    "    node = TreeNode(arr[mid])\n",
    "    # Construct left side\n",
    "    if low != mid:\n",
    "        node.set_left_ptr(create_balanced_bst(arr, low, mid-1))\n",
    "    # Construct right side\n",
    "    if mid != high:\n",
    "        node.set_right_ptr(create_balanced_bst(arr, mid+1, high)),\n",
    "    \n",
    "    return node\n",
    "\n",
    "task1_4()"
   ]
  }
 ],
 "metadata": {
  "kernelspec": {
   "display_name": "Python 3 (ipykernel)",
   "language": "python",
   "name": "python3"
  },
  "language_info": {
   "codemirror_mode": {
    "name": "ipython",
    "version": 3
   },
   "file_extension": ".py",
   "mimetype": "text/x-python",
   "name": "python",
   "nbconvert_exporter": "python",
   "pygments_lexer": "ipython3",
   "version": "3.10.9"
  }
 },
 "nbformat": 4,
 "nbformat_minor": 5
}
