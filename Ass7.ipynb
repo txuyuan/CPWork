{
 "cells": [
  {
   "cell_type": "markdown",
   "id": "306c531a",
   "metadata": {},
   "source": [
    "## Tutorial 7A"
   ]
  },
  {
   "cell_type": "code",
   "execution_count": 3,
   "id": "16c242ae",
   "metadata": {},
   "outputs": [],
   "source": [
    "#1\n",
    "class Pet:\n",
    "    def __init__(self, name, animal_type, age):\n",
    "        self._name = name\n",
    "        self._animal_type = animal_type\n",
    "        self._age = age\n",
    "    def set_name(self, name):\n",
    "        self._name = name\n",
    "    def set_animal_type(self, animal_type):\n",
    "        self._animal_type = animal_type\n",
    "    def set_age(self, age):\n",
    "        self._age = age\n",
    "    def get_name(self):\n",
    "        return self._name\n",
    "    def get_type(self):\n",
    "        return self._animal_type\n",
    "    def get_age(self):\n",
    "        return self._age"
   ]
  },
  {
   "cell_type": "code",
   "execution_count": null,
   "id": "fab7f147",
   "metadata": {},
   "outputs": [],
   "source": []
  }
 ],
 "metadata": {
  "kernelspec": {
   "display_name": "Python 3 (ipykernel)",
   "language": "python",
   "name": "python3"
  },
  "language_info": {
   "codemirror_mode": {
    "name": "ipython",
    "version": 3
   },
   "file_extension": ".py",
   "mimetype": "text/x-python",
   "name": "python",
   "nbconvert_exporter": "python",
   "pygments_lexer": "ipython3",
   "version": "3.10.11"
  }
 },
 "nbformat": 4,
 "nbformat_minor": 5
}
