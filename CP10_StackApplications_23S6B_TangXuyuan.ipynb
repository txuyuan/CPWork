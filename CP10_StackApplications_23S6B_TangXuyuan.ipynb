{
 "cells": [
  {
   "cell_type": "markdown",
   "metadata": {},
   "source": [
    "\n",
    "## CP10 - Stack Applications\n",
    "\n",
    "Copy and paste your ArrayStack class (code from previous exercise) and run it."
   ]
  },
  {
   "cell_type": "code",
   "execution_count": 1,
   "metadata": {},
   "outputs": [],
   "source": [
    "class ArrayStack:\n",
    "   ###  Implementation of ArrayStack here\n",
    "    def __init__(self):\n",
    "        self._arr = []\n",
    "    def push(self, elm):\n",
    "        self._arr.append(elm)\n",
    "    def pop(self):\n",
    "        elm = self._arr[-1]\n",
    "        self._arr = self._arr[0:-1]\n",
    "        return elm\n",
    "    def __str__(self):\n",
    "        return \"Stack: \" + str(self._arr)"
   ]
  },
  {
   "cell_type": "markdown",
   "metadata": {},
   "source": [
    "Copy and paste your ArrayStack2 class (code from previous exercise) and run it."
   ]
  },
  {
   "cell_type": "code",
   "execution_count": 10,
   "metadata": {},
   "outputs": [],
   "source": [
    "class ArrayStack2(ArrayStack):\n",
    "    ###  Implementation of ArrayStack2 here\n",
    "    def __init__(self):\n",
    "        super().__init__()\n",
    "    def size(self):\n",
    "        return len(self._arr)\n",
    "    def isEmpty(self):\n",
    "        return self.size() == 0\n",
    "    def peek(self):\n",
    "        if self.isEmpty():\n",
    "            return None\n",
    "        return self._arr[-1]"
   ]
  },
  {
   "cell_type": "markdown",
   "metadata": {},
   "source": [
    "Copy and paste your Node class (code from previous exercise) and run it."
   ]
  },
  {
   "cell_type": "code",
   "execution_count": 3,
   "metadata": {},
   "outputs": [],
   "source": [
    "class Node:\n",
    "    def __init__(self, data, nxt=None):\n",
    "        self._data = data\n",
    "        self._next = nxt\n",
    "    def getData(self):\n",
    "        return self._data\n",
    "    def getNext(self):\n",
    "        return self._next\n",
    "    def setData(self, data):\n",
    "        self._data = data\n",
    "    def setNext(self, nxt):\n",
    "        self._next = nxt"
   ]
  },
  {
   "cell_type": "markdown",
   "metadata": {},
   "source": [
    "Copy and paste your LinkedListStack class (code from previous exercise) and run it."
   ]
  },
  {
   "cell_type": "code",
   "execution_count": 5,
   "metadata": {},
   "outputs": [],
   "source": [
    "class LinkedList():\n",
    "     # Implementation of LinkedList class here\n",
    "    def __init__(self):\n",
    "        self._head = None\n",
    "        \n",
    "    def getHead(self):\n",
    "        return self._head\n",
    "    def setHead(self, head):\n",
    "        self._head = head\n",
    "    \n",
    "    def __str__(self):\n",
    "        return f\"List: \\n{self._head.__str_all__()}\"\n",
    "    \n",
    "    def search(self, target):\n",
    "        probe = self._head\n",
    "        index = 0\n",
    "        while (probe != None):\n",
    "            if probe.getData() == target:\n",
    "                return index\n",
    "            probe = probe.getNext()\n",
    "            index += 1\n",
    "        return -1\n",
    "    \n",
    "    def replace(self, old, new):\n",
    "        probe = self._head\n",
    "        while (probe != None):\n",
    "            if probe.getData() == old:\n",
    "                probe.setData(new)\n",
    "                return\n",
    "            probe = probe.getNext()\n",
    "                \n",
    "    def replaceAll(self, old, new):\n",
    "        probe = self._head\n",
    "        while(probe != None):\n",
    "            if probe.getData() == old:\n",
    "                probe.setData(new)\n",
    "            probe = probe.getNext()\n",
    "                \n",
    "    def replaceByPosition(self, pos, new):\n",
    "        probe = self._head\n",
    "        index = 0\n",
    "        while(index < pos):\n",
    "            if probe==None:\n",
    "                return\n",
    "            probe = probe.getNext()\n",
    "            index += 1\n",
    "        probe.setData(new)\n",
    "        \n",
    "    def insert(self, pos, node):\n",
    "        if pos > self.size()-1:\n",
    "            self.append(node)\n",
    "            \n",
    "        probe = self._head\n",
    "        index = 0\n",
    "        while (index+1 < pos):\n",
    "            if probe==None:\n",
    "                return\n",
    "            probe = probe.getNext()\n",
    "            index += 1\n",
    "        node.setNext(probe.getNext())\n",
    "        probe.setNext(node)\n",
    "        \n",
    "    def remove(self, pos):\n",
    "        if pos == 0:\n",
    "            self._head = self._head.getNext()\n",
    "            return\n",
    "        \n",
    "        probe = self._head\n",
    "        index = 0\n",
    "        while (index+1 < pos):\n",
    "            if probe==None:\n",
    "                return\n",
    "            probe = probe.getNext()\n",
    "            index += 1\n",
    "        probe.setNext(probe.getNext().getNext())\n",
    "            \n",
    "        \n",
    "    def append(self, node):\n",
    "        if self._head == None:\n",
    "            self._head = node\n",
    "            return\n",
    "        \n",
    "        probe = self._head\n",
    "        while (probe.getNext() != None):\n",
    "            probe = probe.getNext()\n",
    "        probe.setNext(node)\n",
    "        \n",
    "        \n",
    "    def isEmpty(self):\n",
    "        return self._head == None or self._head.getData() == None      \n",
    "    def size(self):\n",
    "        probe = self._head\n",
    "        index = 0\n",
    "        while (probe != None):\n",
    "            probe = probe.getNext()\n",
    "            index += 1\n",
    "        return index\n",
    "    \n",
    "\n",
    "class LinkedListStack():\n",
    "     # Implementation of LinkedList class here\n",
    "    def __init__(self):\n",
    "        self._arr = LinkedList()\n",
    "    def push(self, elm):\n",
    "        self._arr.insert(elm, 0)\n",
    "    def pop(self):\n",
    "        elm = self._arr.getHead().getData()\n",
    "        self._arr.remove(0)\n",
    "        return elm\n",
    "    def peek(self):\n",
    "        return self._arr.getHead().getData()\n",
    "    def isEmpty(self):\n",
    "        return self._arr.isEmpty()\n",
    "    def size(self):\n",
    "        return self._arr.size()"
   ]
  },
  {
   "cell_type": "markdown",
   "metadata": {},
   "source": [
    "### Exercise 6\n",
    "\n",
    "Implement a function `check_matching_symbols()`, which checks whether a string contains matching openning and closing symbols for `([{` and `}])`.\n",
    "* It return True if all symbols in string are balanced, else it returns false.\n",
    "* Use `ArrayStack2` class and `LinkedListStack` for the implementation.\n",
    "\n",
    "#### How it works\n",
    "* Read characters from the string one at a time\n",
    "* If you encounter an opening delimiter [,{,(, place it on a stack\n",
    "* if you encounter a closing delimiter, pop the item from the top of the stack\n",
    "* in case they don't match (the opening and closing delimiter), then the symbols do not match."
   ]
  },
  {
   "cell_type": "code",
   "execution_count": 11,
   "metadata": {},
   "outputs": [
    {
     "name": "stdout",
     "output_type": "stream",
     "text": [
      "True\n",
      "True\n",
      "False\n"
     ]
    }
   ],
   "source": [
    "def check_matching_symbols(stri):\n",
    "    operands = \"0123456789\"\n",
    "    operators = \"({[)}]\"\n",
    "    \n",
    "    opStack = ArrayStack2()\n",
    "    for char in stri:\n",
    "        if char in operands or char not in operators:\n",
    "            continue\n",
    "        \n",
    "        c = operators.find(char)\n",
    "        if c < 3:\n",
    "            opStack.push(char)\n",
    "        else:\n",
    "            if opStack.peek() != operators[c-3]:\n",
    "                return False\n",
    "            opStack.pop()\n",
    "    \n",
    "    return opStack.isEmpty()\n",
    "\n",
    "test1, test2, test3 = \"(1+2) * (3+4)\", \"[(1+2) * [5-1] - {5-1}]\", \"[(1+2) * [5-1] - {5-1}\"\n",
    "print(check_matching_symbols(test1))\n",
    "print(check_matching_symbols(test2))\n",
    "print(check_matching_symbols(test3))"
   ]
  },
  {
   "cell_type": "markdown",
   "metadata": {},
   "source": [
    "### Exercise 7\n",
    "Implement a function `infixToPostfix(infixExpression)`, which convert an infix expression to an postfix expression.\n",
    "\n",
    "* It takes in a Infix expression\n",
    "* It returns a Postfix expression.\n",
    "* Use either stack class for the implementation.\n",
    "\n",
    "#### How it works\n",
    "* Create an empty stack called opstack for keeping operators. \n",
    "* Create an empty list for output.\n",
    "* Scan the infix expression from left to right.\n",
    "    * If the token is an operand, append to the output list.\n",
    "    * If the token is a left parenthesis, push it into the opstack.\n",
    "    * If the token is a right parenthesis, pop the opstack until the corresponding left parenthesis is removed. \n",
    "    * Append each operator (except the left parenthesis) to the output list.\n",
    "    * If the token is an operator, *, /, +, or , remove all operators in the opstack that have higher or equal predence and append them to the output list and push the token into the opstack\n",
    "* When the infix expression has been completely processed, check the opstack. Any operators still on the stack can be removed and appended to the end of the output list.\n"
   ]
  },
  {
   "cell_type": "code",
   "execution_count": 19,
   "metadata": {},
   "outputs": [
    {
     "name": "stdout",
     "output_type": "stream",
     "text": [
      "413+6*+456*-+\n",
      "45*63*+45*2--\n"
     ]
    }
   ],
   "source": [
    "def checkPrecedence(op1, op2):\n",
    "    # Returns if op1 is higher or equal than op2 in precendence\n",
    "    operators = \"+-*/\"\n",
    "    return (operators.find(op1) // 2) >= (operators.find(op2) // 2)\n",
    "    \n",
    "\n",
    "def infixToPostfix(infixExpression):\n",
    "    operands = \"0123456789\"\n",
    "    operators = \"+-*/\"\n",
    "    brackets = \"({[)}]\"\n",
    "    \n",
    "    opStack = ArrayStack2()\n",
    "    postExpr = \"\"\n",
    "    \n",
    "    for char in infixExpression:\n",
    "        if char in operands:\n",
    "            postExpr += char\n",
    "        elif char in operators:\n",
    "            # Pop opstack according to precedence\n",
    "            while (not opStack.isEmpty() and checkPrecedence(opStack.peek(), char)):\n",
    "                postExpr += opStack.pop()\n",
    "            opStack.push(char)\n",
    "        elif char in brackets[0:3]:\n",
    "            opStack.push(char)\n",
    "        elif char in brackets[3:6]:\n",
    "            # Pop operators until corresponding open bracket is found\n",
    "            openBracket = brackets[brackets.index(char)-3]\n",
    "            while (opStack.peek() != openBracket):\n",
    "                postExpr += opStack.pop()\n",
    "            opStack.pop()\n",
    "    # Pop remaining operators\n",
    "    while(not opStack.isEmpty()):\n",
    "        postExpr += opStack.pop()\n",
    "        \n",
    "    return postExpr\n",
    "\n",
    "test1, test2 = \"[4 + (1 + 3) * 6] + {4 - 5 * 6}\", \"{4 * 5 + 6 * 3} - (4 * 5 - 2)\"\n",
    "print(infixToPostfix(test1))\n",
    "print(infixToPostfix(test2))"
   ]
  },
  {
   "cell_type": "markdown",
   "metadata": {},
   "source": [
    "### Exercise 8\n",
    "Implement a function `evalPostfix(postfixExpression)`, which evaluate a postfix expression.\n",
    "\n",
    "* It takes in a postfix expression\n",
    "* It returns the evaluated value.\n",
    "* Use either stack class for the implementation.\n",
    "\n",
    "#### How it works\n",
    "* Scan across the postfix expression from left to right\n",
    "    * On encountering an operator\n",
    "        * apply it to the two preceding operands; \n",
    "        * replace all three by the result\n",
    "* Continue scanning until you reach expression’s end\n",
    "    at which point only the expression’s value remains \n",
    "    \n",
    "#### Algorithm\n",
    "```\n",
    "Create a new stack \n",
    "While there are more tokens in the expression \n",
    "    Get the next token   \n",
    "    If the token is an operand  \n",
    "        Push the operand onto the stack   \n",
    "    Else  \n",
    "        If the token is an operator \n",
    "            Pop the top-two operands from the stack \n",
    "            Apply the operator to the two operands just popped \n",
    "            Push the resulting value onto the stack \n",
    "        EndIf\n",
    "    EndIf\n",
    "EndWhile \n",
    "Return the value at the top of the stack   \n",
    "```"
   ]
  },
  {
   "cell_type": "code",
   "execution_count": 39,
   "metadata": {},
   "outputs": [
    {
     "name": "stdout",
     "output_type": "stream",
     "text": [
      "2\n",
      "20\n"
     ]
    }
   ],
   "source": [
    "def evalOp(op1, op2, operator):\n",
    "    op1, op2 = int(op1), int(op2)\n",
    "    if operator == \"+\":\n",
    "        return op1 + op2\n",
    "    elif operator == \"-\":\n",
    "        return op1 - op2\n",
    "    elif operator == \"*\":\n",
    "        return op1 * op2\n",
    "    elif operator == \"/\":\n",
    "        return op1 / op2\n",
    "    return 0\n",
    "\n",
    "def evalPostfix(postfixExpression):\n",
    "    operands = \"0123456789\"\n",
    "    operators = \"+-*/\"\n",
    "    \n",
    "    opStack = ArrayStack2()\n",
    "    \n",
    "    for char in postfixExpression:\n",
    "        if char in operands:\n",
    "            opStack.push(char)\n",
    "        elif char in operators:\n",
    "            op2, op1 = opStack.pop(), opStack.pop()\n",
    "            opStack.push(str(evalOp(op1, op2, char)))\n",
    "    \n",
    "    return opStack.pop()\n",
    "\n",
    "test1, test2 = \"[4 + (1 + 3) * 6] + {4 - 5 * 6}\", \"{4 * 5 + 6 * 3} - (4 * 5 - 2)\"\n",
    "post1, post2 = infixToPostfix(test1), infixToPostfix(test2)\n",
    "print(evalPostfix(post1))\n",
    "print(evalPostfix(post2))"
   ]
  },
  {
   "cell_type": "markdown",
   "metadata": {},
   "source": [
    "### Tutorial Questions\n",
    "### Exercise 9 \n",
    "#### Totorial 10BQ1\n",
    "\n",
    "Write a program that uses a stack to test input strings to determine whether they are palindromes. A palindrome is a sequence of words that reads the same as the sequence in reverse: for example, the word  ***madam***  or the sentence \n",
    "***rats live on no evil star***."
   ]
  },
  {
   "cell_type": "code",
   "execution_count": 67,
   "metadata": {},
   "outputs": [
    {
     "name": "stdout",
     "output_type": "stream",
     "text": [
      "True\n",
      "False\n",
      "True\n"
     ]
    }
   ],
   "source": [
    "def test_palindrome(stri):\n",
    "    charStack = ArrayStack2()\n",
    "    for i, char in enumerate(stri):\n",
    "        if i < len(stri) / 2 - 0.5:\n",
    "            charStack.push(char)\n",
    "        elif (i >= len(stri) / 2):\n",
    "            if charStack.pop() != char:\n",
    "                return False\n",
    "    return True\n",
    "\n",
    "test1, test2, test3 = \"dronenord\", \"exerege\", \"EXEREXE\"\n",
    "print(test_palindrome(test1))\n",
    "print(test_palindrome(test2))\n",
    "print(test_palindrome(test3))"
   ]
  },
  {
   "cell_type": "markdown",
   "metadata": {},
   "source": [
    "### Exercise 10 \n",
    "#### Totorial 10BQ2\n",
    "\n",
    "Write a function  ***def  selectItem (s,  n):***\n",
    "that uses stack operations to find the first occurrence of *integer n* on *stack s* and move it to the top of the stack.  Maintain ordering for all other elements.   "
   ]
  },
  {
   "cell_type": "code",
   "execution_count": 76,
   "metadata": {},
   "outputs": [
    {
     "name": "stdout",
     "output_type": "stream",
     "text": [
      "Stack: ['A', 'B', 'C', 'D', 'E']\n",
      "Stack: ['A', 'B', 'D', 'E', 'F']\n"
     ]
    }
   ],
   "source": [
    "def selectItem(s, n):\n",
    "    copyStack = s\n",
    "    tmpS = ArrayStack2()\n",
    "    found = False\n",
    "    \n",
    "    while (s.peek() != None):\n",
    "        if s.peek() == n and not found:\n",
    "            found = True\n",
    "            s.pop()\n",
    "        else :\n",
    "            tmpS.push(s.pop())\n",
    "    while (tmpS.peek() != None):\n",
    "        s.push(tmpS.pop())\n",
    "        \n",
    "stack1, stack2 = ArrayStack2(), ArrayStack2()\n",
    "for c in [\"A\",\"B\", \"C\", \"D\", \"E\", \"F\"]:\n",
    "    stack1.push(c)\n",
    "    stack2.push(c)\n",
    "elm1, elm2 = \"F\", \"C\"\n",
    "\n",
    "selectItem(stack1, elm1)\n",
    "selectItem(stack2, elm2)\n",
    "\n",
    "print(stack1)\n",
    "print(stack2)"
   ]
  },
  {
   "cell_type": "markdown",
   "metadata": {},
   "source": [
    "### Exercise 11\n",
    "#### Totorial 10BQ3\n",
    "\n",
    "Write a function  ***def  multiBaseOutput ( num,  b):***  \n",
    "that takes a non-negative *integer num* and a *base b* in the range 2 – 9 and write num to the screen as a base b number. "
   ]
  },
  {
   "cell_type": "code",
   "execution_count": 83,
   "metadata": {},
   "outputs": [
    {
     "name": "stdout",
     "output_type": "stream",
     "text": [
      "10010\n",
      "2211\n"
     ]
    }
   ],
   "source": [
    "def multiBaseOutput(num, b):\n",
    "    resultStack = ArrayStack2()\n",
    "    resultStack.push(num)\n",
    "    \n",
    "    i = 0\n",
    "    while (resultStack.peek() >= b):\n",
    "        elm = resultStack.pop()\n",
    "        resultStack.push(elm % b)\n",
    "        resultStack.push(elm // b)\n",
    "        i += 1\n",
    "        \n",
    "    while(resultStack.peek() != None):\n",
    "        print(resultStack.pop(), end=\"\")\n",
    "    print()\n",
    "        \n",
    "num1, b1 = 18, 2\n",
    "# 10010\n",
    "num2, b2 = 76, 3\n",
    "# 2211\n",
    "\n",
    "multiBaseOutput(num1, b1)\n",
    "multiBaseOutput(num2, b2)"
   ]
  }
 ],
 "metadata": {
  "kernelspec": {
   "display_name": "Python 3 (ipykernel)",
   "language": "python",
   "name": "python3"
  },
  "language_info": {
   "codemirror_mode": {
    "name": "ipython",
    "version": 3
   },
   "file_extension": ".py",
   "mimetype": "text/x-python",
   "name": "python",
   "nbconvert_exporter": "python",
   "pygments_lexer": "ipython3",
   "version": "3.10.11"
  }
 },
 "nbformat": 4,
 "nbformat_minor": 2
}
