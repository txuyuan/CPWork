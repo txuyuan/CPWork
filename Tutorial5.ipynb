{
 "cells": [
  {
   "cell_type": "code",
   "execution_count": 36,
   "id": "952a98dc",
   "metadata": {},
   "outputs": [
    {
     "name": "stdout",
     "output_type": "stream",
     "text": [
      "bToD:  107\n",
      "dToH:  6B\n"
     ]
    }
   ],
   "source": [
    "#2\n",
    "import math\n",
    "\n",
    "def dToHChar(dec):\n",
    "    if dec < 10:\n",
    "        return str(dec)\n",
    "    else:\n",
    "        return chr(dec+55)\n",
    "    \n",
    "    \n",
    "\n",
    "def bToD(n):\n",
    "    dec = 0\n",
    "    for i in reversed(range(0, len(n))):\n",
    "        dec += int(n[i]) * 2 ** (len(n)-i-1)\n",
    "    return dec\n",
    "\n",
    "def dToH(dec):\n",
    "    hex = \"\"\n",
    "    firstGuess = int(math.log(dec, 16))\n",
    "    for hexDigit in reversed(range(0, firstGuess+1)):\n",
    "        digitValue = int(dec / 16**hexDigit)\n",
    "        hex += dToHChar(digitValue)\n",
    "        dec -= digitValue * 16**hexDigit\n",
    "    return hex\n",
    "\n",
    "def hToB(hex):\n",
    "    bin = \"\"\n",
    "    for i in range(0, len(hex)):\n",
    "        hexDigit = hex[i]\n",
    "        bin += hToBChar(hexDigit)\n",
    "        \n",
    "        \n",
    "        \n",
    "        \n",
    "        \n",
    "    \n",
    "\n",
    "bin = \"1101011\"\n",
    "dec = 107\n",
    "hex = \"6B\"\n",
    "        \n",
    "print(\"bToD: \", bToD(bin))\n",
    "print(\"dToH: \", dToH(dec))"
   ]
  },
  {
   "cell_type": "code",
   "execution_count": null,
   "id": "bd307a5d",
   "metadata": {},
   "outputs": [],
   "source": []
  },
  {
   "cell_type": "code",
   "execution_count": null,
   "id": "5c44530f",
   "metadata": {},
   "outputs": [],
   "source": []
  }
 ],
 "metadata": {
  "kernelspec": {
   "display_name": "Python 3 (ipykernel)",
   "language": "python",
   "name": "python3"
  },
  "language_info": {
   "codemirror_mode": {
    "name": "ipython",
    "version": 3
   },
   "file_extension": ".py",
   "mimetype": "text/x-python",
   "name": "python",
   "nbconvert_exporter": "python",
   "pygments_lexer": "ipython3",
   "version": "3.10.7"
  }
 },
 "nbformat": 4,
 "nbformat_minor": 5
}
