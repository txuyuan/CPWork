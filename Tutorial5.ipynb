{
 "cells": [
  {
   "cell_type": "markdown",
   "id": "f7eb953c",
   "metadata": {},
   "source": [
    "## Tutorial 2A"
   ]
  },
  {
   "cell_type": "code",
   "execution_count": 52,
   "id": "952a98dc",
   "metadata": {},
   "outputs": [
    {
     "name": "stdout",
     "output_type": "stream",
     "text": [
      "Standard number: 107\n",
      "binary -> decimal: 1101011, 107\n",
      "decimal -> hex: 107, 6B\n",
      "decimal -> binary: 107, 1101011\n",
      "hex -> binary: 6B, 1101011\n"
     ]
    }
   ],
   "source": [
    "#2\n",
    "import math\n",
    "\n",
    "def removeLeadingZeroes(num):\n",
    "    outputString = num\n",
    "    for i in range(len(num)):\n",
    "        if num[i] == \"0\":\n",
    "            outputString = num[i+1::]\n",
    "        else: \n",
    "            break\n",
    "    return outputString\n",
    "def char_dec_hex(dec):\n",
    "    if dec < 10:]\n",
    "        return str(dec)\n",
    "    else:\n",
    "        return chr(dec+55)  \n",
    "def char_hex_dec(hex):\n",
    "    try:\n",
    "        dec = int(hex)\n",
    "    except ValueError:\n",
    "        dec = ord(hex.lower())-87\n",
    "    return dec\n",
    "    \n",
    "    \n",
    "    \n",
    "\n",
    "def bin_dec(n):\n",
    "    dec = 0\n",
    "    for i in reversed(range(0, len(n))):\n",
    "        dec += int(n[i]) * 2 ** (len(n)-i-1)\n",
    "    return dec\n",
    "\n",
    "def dec_hex(dec):\n",
    "    hex = \"\"\n",
    "    hex_digits = int(math.log(dec, 16)) + 1\n",
    "    for hex_place in reversed(range(hex_digits)):\n",
    "        digit_hex_value = int(dec / 16 ** hex_place)\n",
    "        hex += str(char_dec_hex(digit_hex_value))\n",
    "        dec -= digit_hex_value * 16 ** hex_place\n",
    "    return hex\n",
    "\n",
    "def hex_bin(hex):\n",
    "    bin = \"\"\n",
    "    for i in range(0, len(hex)):\n",
    "        digit_hex = hex[i]\n",
    "        digit_dec = char_hex_dec(digit_hex)\n",
    "        # Convert hex digit to 4-digit binary\n",
    "        for i in reversed(range(4)):\n",
    "            digit_bin_value = int(digit_dec / 2 ** i)\n",
    "            digit_dec -= digit_bin_value * 2 ** i\n",
    "            bin += \"1\" if digit_bin_value else \"0\"\n",
    "    return removeLeadingZeroes(bin)\n",
    "\n",
    "def dec_bin(dec):\n",
    "    bin = \"\"\n",
    "    bin_digits = int(math.log(dec, 2)) + 1\n",
    "    for bin_place in reversed(range(bin_digits)):\n",
    "        digit_bin_value = int(dec / 2 ** bin_place)\n",
    "        bin += \"1\" if digit_bin_value else \"0\"\n",
    "        dec -= digit_bin_value * 2 ** bin_place\n",
    "    return bin\n",
    "\n",
    "bin = \"1101011\"\n",
    "dec = 107\n",
    "hex = \"6B\"\n",
    "        \n",
    "print(f\"Standard number: {dec}\")\n",
    "print(f\"binary -> decimal: {bin}, {bin_dec(bin)}\")\n",
    "print(f\"decimal -> hex: {dec}, {dec_hex(dec)}\")\n",
    "print(f\"decimal -> binary: {dec}, {dec_bin(dec)}\")\n",
    "print(f\"hex -> binary: {hex}, {hex_bin(hex)}\")"
   ]
  },
  {
   "cell_type": "code",
   "execution_count": 53,
   "id": "bd307a5d",
   "metadata": {},
   "outputs": [
    {
     "name": "stdout",
     "output_type": "stream",
     "text": [
      "\n",
      "Recursive decimal -> binary: 1101011\n"
     ]
    }
   ],
   "source": [
    "import math\n",
    "\n",
    "def removeLeadingZeroes(num):\n",
    "    outputString = num\n",
    "    for i in range(len(num)):\n",
    "        if num[i] == \"0\":\n",
    "            outputString = num[i+1::]\n",
    "        else: \n",
    "            break\n",
    "    return outputString\n",
    "\n",
    "def recursive_dec_bin(dec, bin_place):\n",
    "    if bin_place == None:\n",
    "        bin_place = int(math.log(dec, 2)) + 1\n",
    "    digit_bin_value = int(dec / 2 ** bin_place)\n",
    "    bin = \"1\" if digit_bin_value else \"0\"\n",
    "    dec -= digit_bin_value * 2 ** bin_place\n",
    "    if dec == 0:\n",
    "        return bin\n",
    "    else:\n",
    "        return bin + recursive_dec_bin(dec, bin_place-1)\n",
    "    \n",
    "dec = 107\n",
    "print(f\"\\nRecursive decimal -> binary: {removeLeadingZeroes(recursive_dec_bin(dec, None))}\")"
   ]
  },
  {
   "cell_type": "markdown",
   "id": "c97efac3",
   "metadata": {},
   "source": [
    "## Tutorial 2B"
   ]
  },
  {
   "cell_type": "markdown",
   "id": "5b973e70",
   "metadata": {},
   "source": [
    "1. (a) It is to find and potentially correct any errors when inputting the value, primely user error. "
   ]
  }
 ],
 "metadata": {
  "kernelspec": {
   "display_name": "Python 3 (ipykernel)",
   "language": "python",
   "name": "python3"
  },
  "language_info": {
   "codemirror_mode": {
    "name": "ipython",
    "version": 3
   },
   "file_extension": ".py",
   "mimetype": "text/x-python",
   "name": "python",
   "nbconvert_exporter": "python",
   "pygments_lexer": "ipython3",
   "version": "3.10.7"
  }
 },
 "nbformat": 4,
 "nbformat_minor": 5
}
