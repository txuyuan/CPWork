{
 "cells": [
  {
   "cell_type": "markdown",
   "metadata": {},
   "source": [
    "### CP18 - Time complexity of algorithms \n",
    "\n",
    "#### Task 1\n",
    "            \n",
    "Write code to produce n distinct random strings comprising 10 distinct lowercase characters each, chosen from 'a' to 'z'.\n",
    "\n",
    "Write the generated string to a file named ``task1_n.txt`` where n is the number of strings. Each line in the file contains the string.\n",
    "\n",
    "Generate files with 1000, 2000 ... to 9000, 10000 strings.\n"
   ]
  },
  {
   "cell_type": "code",
   "execution_count": 3,
   "metadata": {
    "scrolled": false
   },
   "outputs": [],
   "source": [
    "import random\n",
    "\n",
    "for i in range(10):\n",
    "    n = (i+1)*1000\n",
    "    strings = []\n",
    "    while (len(strings) < n):\n",
    "        s = \"\"\n",
    "        while(len(s) < 10):\n",
    "            char = chr(random.randint(97, 122))\n",
    "            if char not in s:\n",
    "                s += char\n",
    "        if s not in strings:\n",
    "            strings += [s]\n",
    "            \n",
    "    filename = f\"assets/task1_{n}.txt\"\n",
    "    file = open(filename, \"w\")\n",
    "    file.write(\"\\n\".join(strings))\n",
    "    file.close()"
   ]
  },
  {
   "cell_type": "markdown",
   "metadata": {},
   "source": [
    "#### Task 2\n",
    "\n",
    "Write a function ```task2(filename)``` that accepts an argument ```filename```. \n",
    "\n",
    "The function reads the content of the file and return a list of strings. \n",
    "\n",
    "The file contains a string in each line.\n"
   ]
  },
  {
   "cell_type": "code",
   "execution_count": 4,
   "metadata": {},
   "outputs": [],
   "source": [
    "def task2(filename):\n",
    "    file = open(filename, \"r\")\n",
    "    strings = []\n",
    "    for line in file:\n",
    "        strings.append(line.strip())\n",
    "    return strings"
   ]
  },
  {
   "cell_type": "code",
   "execution_count": 5,
   "metadata": {},
   "outputs": [
    {
     "name": "stdout",
     "output_type": "stream",
     "text": [
      "1000\n"
     ]
    }
   ],
   "source": [
    "print(len(task2(\"assets/task1_1000.txt\")))"
   ]
  },
  {
   "cell_type": "markdown",
   "metadata": {},
   "source": [
    "#### Task 3\n",
    "Write a function ```insertionSort(A)``` that accepts a list of strings and sort the list of strings in ascending order using **insertion sort algorithm**. \n"
   ]
  },
  {
   "cell_type": "code",
   "execution_count": 6,
   "metadata": {},
   "outputs": [],
   "source": [
    "def insertionSort(A):\n",
    "    result = []\n",
    "    for s in A:\n",
    "        result += [s]\n",
    "        for i in range(len(A)-1):\n",
    "            if A[i] > A[i+1]:\n",
    "                A[i], A[i+1] = A[i+1], A[i]"
   ]
  },
  {
   "cell_type": "code",
   "execution_count": 7,
   "metadata": {},
   "outputs": [
    {
     "name": "stdout",
     "output_type": "stream",
     "text": [
      "a\n",
      "e\n",
      "j\n",
      "m\n",
      "q\n",
      "t\n",
      "v\n",
      "w\n",
      "x\n",
      "z\n"
     ]
    }
   ],
   "source": [
    "## test insertionSort       \n",
    "A=['x','a','t','z','w','j','m','e','v','q']\n",
    "insertionSort(A)\n",
    "for n in A:\n",
    "    print(n)"
   ]
  },
  {
   "cell_type": "markdown",
   "metadata": {},
   "source": [
    "#### Task 4\n",
    "Write a function ```quickSort(A)``` that accepts a list of strings and sort the list of strings in ascending order using **quick sort algorithm**. \n"
   ]
  },
  {
   "cell_type": "code",
   "execution_count": 8,
   "metadata": {},
   "outputs": [],
   "source": [
    "import random\n",
    "\n",
    "def quickSort(A):\n",
    "    random.shuffle(A)\n",
    "    _quickSort(A, 0, len(A)-1)\n",
    "    \n",
    "def _quickSort(A, low, high):\n",
    "    if low >= high:\n",
    "        return\n",
    "    \n",
    "    # partition\n",
    "    pivot = low\n",
    "    pivotValue = A[low]\n",
    "    left, right = low+1, high\n",
    "    while (left <= right):\n",
    "        while (left <= right) and (A[left] < pivotValue):\n",
    "            left += 1\n",
    "        while (left <= right) and (A[right] > pivotValue):\n",
    "            right -= 1\n",
    "        if (left <= right):\n",
    "            A[left], A[right] = A[right], A[left]\n",
    "    A[right], A[pivot] = A[pivot], A[right]\n",
    "    pivot = right            \n",
    "            \n",
    "    # divide and conquer further\n",
    "    _quickSort(A, low, pivot-1)\n",
    "    _quickSort(A, pivot+1, high)"
   ]
  },
  {
   "cell_type": "code",
   "execution_count": 9,
   "metadata": {},
   "outputs": [
    {
     "name": "stdout",
     "output_type": "stream",
     "text": [
      "a\n",
      "e\n",
      "j\n",
      "m\n",
      "q\n",
      "t\n",
      "v\n",
      "w\n",
      "x\n",
      "z\n"
     ]
    }
   ],
   "source": [
    "### test quicksort\n",
    "A=['x','a','t','z','w','j','m','e','v','q']\n",
    "quickSort(A)\n",
    "for n in A:\n",
    "    print(n)"
   ]
  },
  {
   "cell_type": "markdown",
   "metadata": {},
   "source": [
    "#### Task 5\n",
    "Write a function ```bubbleSort(A)``` that accepts a list of strings and sort the list of strings in ascending order using ***bubble sort algorithm***.\n"
   ]
  },
  {
   "cell_type": "code",
   "execution_count": 10,
   "metadata": {},
   "outputs": [],
   "source": [
    "def bubbleSort(A):\n",
    "    success = False\n",
    "    while not success:\n",
    "        success = True\n",
    "        for i in range(len(A)-1):\n",
    "            if A[i] > A[i+1]:\n",
    "                success = False\n",
    "                A[i], A[i+1] = A[i+1], A[i]"
   ]
  },
  {
   "cell_type": "code",
   "execution_count": 11,
   "metadata": {},
   "outputs": [
    {
     "name": "stdout",
     "output_type": "stream",
     "text": [
      "a\n",
      "e\n",
      "j\n",
      "m\n",
      "q\n",
      "t\n",
      "v\n",
      "w\n",
      "x\n",
      "z\n"
     ]
    }
   ],
   "source": [
    "#### test bubbleSort\n",
    "A=['x','a','t','z','w','j','m','e','v','q']\n",
    "bubbleSort(A)\n",
    "for n in A:\n",
    "    print(n)"
   ]
  },
  {
   "cell_type": "markdown",
   "metadata": {},
   "source": [
    "#### Task 6\n",
    "Write a function ```mergeSort(A)``` that accepts a list of strings and sort the list of strings in ascending order using ***merge sort algorithm***.\n"
   ]
  },
  {
   "cell_type": "code",
   "execution_count": 12,
   "metadata": {},
   "outputs": [],
   "source": [
    "def mergeSort(A):\n",
    "    _mergeSort(A, 0, len(A)-1)\n",
    "    \n",
    "def _mergeSort(A, low, high):\n",
    "    if low >= high:\n",
    "        return\n",
    "    \n",
    "    # Split into subarrays\n",
    "    mid = (low + high) // 2\n",
    "    # due to inclusive high, mid is the end of the left subarray\n",
    "    _mergeSort(A, low, mid)\n",
    "    _mergeSort(A, mid+1, high)\n",
    "    \n",
    "    # Merge sorted subarrays\n",
    "    left, right = low, mid+1\n",
    "    while (left < right and right <= high):\n",
    "        if A[right] <= A[left]:\n",
    "            temp = A[right]\n",
    "            A[left+1:right+1] = A[left:right]\n",
    "            A[left] = temp\n",
    "            right += 1\n",
    "        left += 1"
   ]
  },
  {
   "cell_type": "code",
   "execution_count": 13,
   "metadata": {},
   "outputs": [
    {
     "name": "stdout",
     "output_type": "stream",
     "text": [
      "a\n",
      "e\n",
      "j\n",
      "m\n",
      "q\n",
      "t\n",
      "v\n",
      "w\n",
      "x\n",
      "z\n"
     ]
    }
   ],
   "source": [
    "A=['x','a','t','z','w','j','m','e','v','q']\n",
    "mergeSort(A)\n",
    "for n in A:\n",
    "    print(n)"
   ]
  },
  {
   "cell_type": "markdown",
   "metadata": {},
   "source": [
    "#### Task 7\n",
    "\n",
    "The ```timeit``` library is built int Python and can be used to time simple functions calls. The example code is as shown:\n",
    "```\n",
    "# import the built-in library timeit \n",
    "import timeit\n",
    "\n",
    "# use the function from Task 2 to read in 1000 strings from the file task1_1000.txt \n",
    "t1000 = task2('task1_1000.txt')\n",
    "\n",
    "# use the timeit function to call the quickSort(t1000) function with the list of 1000 strings, run this just once \n",
    "\n",
    "time1000 = timeit.timeit(lambda: quickSort(t1000), number=1)\n",
    "\n",
    "# print out the time, in seconds\n",
    "\n",
    "print(time1000)\n",
    "\n",
    "```\n",
    "Using the ```timeit``` module and the generated files to compare and contrast the time complexity of the sorting algorithms.\n",
    "\n",
    "Measure the time it takes for each sorting algorithm to sort the files that contains 1000, 2000 ... to 9000, 10000 strings. Take an average time of 10 runs for each algorithm and file."
   ]
  },
  {
   "cell_type": "code",
   "execution_count": 16,
   "metadata": {},
   "outputs": [
    {
     "name": "stdout",
     "output_type": "stream",
     "text": [
      "BubbleSort 1000\n",
      "BubbleSort 2000\n",
      "BubbleSort 3000\n",
      "BubbleSort 4000\n",
      "BubbleSort 5000\n",
      "BubbleSort 6000\n",
      "BubbleSort 7000\n",
      "BubbleSort 8000\n",
      "BubbleSort 9000\n",
      "BubbleSort 10000\n",
      "InsertionSort 1000\n",
      "InsertionSort 2000\n",
      "InsertionSort 3000\n",
      "InsertionSort 4000\n",
      "InsertionSort 5000\n",
      "InsertionSort 6000\n",
      "InsertionSort 7000\n",
      "InsertionSort 8000\n",
      "InsertionSort 9000\n",
      "InsertionSort 10000\n",
      "QuickSort 1000\n",
      "QuickSort 2000\n",
      "QuickSort 3000\n",
      "QuickSort 4000\n",
      "QuickSort 5000\n",
      "QuickSort 6000\n",
      "QuickSort 7000\n",
      "QuickSort 8000\n",
      "QuickSort 9000\n",
      "QuickSort 10000\n",
      "MergeSort 1000\n",
      "MergeSort 2000\n",
      "MergeSort 3000\n",
      "MergeSort 4000\n",
      "MergeSort 5000\n",
      "MergeSort 6000\n",
      "MergeSort 7000\n",
      "MergeSort 8000\n",
      "MergeSort 9000\n",
      "MergeSort 10000\n"
     ]
    },
    {
     "data": {
      "image/png": "[encoded data removed]",
      "text/plain": [
       "<Figure size 640x480 with 1 Axes>"
      ]
     },
     "metadata": {},
     "output_type": "display_data"
    }
   ],
   "source": [
    "import timeit\n",
    "import matplotlib.pyplot as plt\n",
    "#import threading\n",
    "\n",
    "BATCHRUNS=10\n",
    "\n",
    "ALGOS = [\n",
    "    \"BubbleSort\",\n",
    "    \"InsertionSort\",\n",
    "    \"QuickSort\",\n",
    "    \"MergeSort\"\n",
    "]\n",
    "def sort(A, algoId):\n",
    "    match algoId:\n",
    "        case 0:\n",
    "            bubbleSort(A)\n",
    "        case 1:\n",
    "            insertionSort(A)\n",
    "        case 2:\n",
    "            quickSort(A)\n",
    "        case 3:\n",
    "            mergeSort(A)\n",
    "\n",
    "def runBatch(algoId, i, inputSize, runtimes):\n",
    "    A = task2(f\"assets/task1_{inputSize}.txt\")\n",
    "    runtimes[i] = timeit.timeit(lambda: sort(A, algoId), number = BATCHRUNS) / BATCHRUNS\n",
    "  \n",
    "plt.title(\"Algorithm Complexity\")\n",
    "plt.xlabel(\"Input Size\")\n",
    "plt.ylabel(\"Runtime (s)\")\n",
    "\n",
    "for algoId in range(len(ALGOS)):\n",
    "    algorithm = ALGOS[algoId]\n",
    "    inputSizes = list(range(1000, 10001, 1000))\n",
    "    runtimes = [0] * len(inputSizes)\n",
    "    threads = []\n",
    "    for i, inputSize in enumerate(inputSizes):\n",
    "        print(algorithm, inputSize)\n",
    "        #threads += threading.Thread(target=runBatch, args=(algoId, i, inputSize, runtimes))\n",
    "        runBatch(algoId, i, inputSize, runtimes)\n",
    "#     for t in threads:\n",
    "#         t.start()\n",
    "#     for t in threads:\n",
    "#         t.join()\n",
    "        \n",
    "    # plot runtimes against inputSizes\n",
    "    \n",
    "    plt.plot(inputSizes, runtimes, label=algorithm)\n",
    "\n",
    "plt.legend()\n",
    "plt.show()"
   ]
  }
 ],
 "metadata": {
  "kernelspec": {
   "display_name": "Python 3 (ipykernel)",
   "language": "python",
   "name": "python3"
  },
  "language_info": {
   "codemirror_mode": {
    "name": "ipython",
    "version": 3
   },
   "file_extension": ".py",
   "mimetype": "text/x-python",
   "name": "python",
   "nbconvert_exporter": "python",
   "pygments_lexer": "ipython3",
   "version": "3.10.9"
  }
 },
 "nbformat": 4,
 "nbformat_minor": 4
}
