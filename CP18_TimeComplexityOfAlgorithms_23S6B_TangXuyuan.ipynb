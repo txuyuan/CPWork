{
 "cells": [
  {
   "cell_type": "markdown",
   "metadata": {},
   "source": [
    "### CP18 - Time complexity of algorithms \n",
    "\n",
    "#### Task 1\n",
    "            \n",
    "Write code to produce n distinct random strings comprising 10 distinct lowercase characters each, chosen from 'a' to 'z'.\n",
    "\n",
    "Write the generated string to a file named ``task1_n.txt`` where n is the number of strings. Each line in the file contains the string.\n",
    "\n",
    "Generate files with 1000, 2000 ... to 9000, 10000 strings.\n"
   ]
  },
  {
   "cell_type": "code",
   "execution_count": 48,
   "metadata": {},
   "outputs": [],
   "source": []
  },
  {
   "cell_type": "markdown",
   "metadata": {},
   "source": [
    "#### Task 2\n",
    "\n",
    "Write a function ```task2(filename)``` that accepts an argument ```filename```. \n",
    "\n",
    "The function reads the content of the file and return a list of strings. \n",
    "\n",
    "The file contains a string in each line.\n"
   ]
  },
  {
   "cell_type": "code",
   "execution_count": 66,
   "metadata": {},
   "outputs": [],
   "source": [
    "        "
   ]
  },
  {
   "cell_type": "markdown",
   "metadata": {},
   "source": [
    "#### Task 3\n",
    "Write a function ```insertionSort(A)``` that accepts a list of strings and sort the list of strings in ascending order using **insertion sort algorithm**. \n"
   ]
  },
  {
   "cell_type": "code",
   "execution_count": 26,
   "metadata": {},
   "outputs": [],
   "source": []
  },
  {
   "cell_type": "code",
   "execution_count": 1,
   "metadata": {},
   "outputs": [],
   "source": [
    "## test insertionSort       \n",
    "#A=['x','a','t','z','w','j','m','e','v','q']\n",
    "#insertionSort(A)\n",
    "#for n in A:\n",
    "#    print(n)"
   ]
  },
  {
   "cell_type": "markdown",
   "metadata": {},
   "source": [
    "#### Task 4\n",
    "Write a function ```quickSort(A)``` that accepts a list of strings and sort the list of strings in ascending order using **quick sort algorithm**. \n"
   ]
  },
  {
   "cell_type": "code",
   "execution_count": 27,
   "metadata": {},
   "outputs": [],
   "source": [
    "\n"
   ]
  },
  {
   "cell_type": "code",
   "execution_count": 2,
   "metadata": {},
   "outputs": [],
   "source": [
    "### test quicksort\n",
    "#A=['x','a','t','z','w','j','m','e','v','q']\n",
    "#quickSort(A)\n",
    "#for n in A:\n",
    "#    print(n)"
   ]
  },
  {
   "cell_type": "markdown",
   "metadata": {},
   "source": [
    "#### Task 5\n",
    "Write a function ```bubbleSort(A)``` that accepts a list of strings and sort the list of strings in ascending order using ***bubble sort algorithm***.\n"
   ]
  },
  {
   "cell_type": "code",
   "execution_count": 18,
   "metadata": {},
   "outputs": [],
   "source": []
  },
  {
   "cell_type": "code",
   "execution_count": 3,
   "metadata": {},
   "outputs": [],
   "source": [
    "#### test bubbleSort\n",
    "#A=['x','a','t','z','w','j','m','e','v','q']\n",
    "##bubbleSort(A)\n",
    "#for n in A:\n",
    "#    print(n)"
   ]
  },
  {
   "cell_type": "markdown",
   "metadata": {},
   "source": [
    "#### Task 6\n",
    "Write a function ```mergeSort(A)``` that accepts a list of strings and sort the list of strings in ascending order using ***merge sort algorithm***.\n"
   ]
  },
  {
   "cell_type": "code",
   "execution_count": 29,
   "metadata": {},
   "outputs": [],
   "source": []
  },
  {
   "cell_type": "code",
   "execution_count": 4,
   "metadata": {},
   "outputs": [],
   "source": [
    "#A=['x','a','t','z','w','j','m','e','v','q']\n",
    "#mergeSort(A)\n",
    "#for n in A:\n",
    "#    print(n)"
   ]
  },
  {
   "cell_type": "markdown",
   "metadata": {},
   "source": [
    "#### Task 7\n",
    "\n",
    "The ```timeit``` library is built int Python and can be used to time simple functions calls. The example code is as shown:\n",
    "```\n",
    "# import the built-in library timeit \n",
    "import timeit\n",
    "\n",
    "# use the function from Task 2 to read in 1000 strings from the file task1_1000.txt \n",
    "t1000 = task2('task1_1000.txt')\n",
    "\n",
    "# use the timeit function to call the quickSort(t1000) function with the list of 1000 strings, run this just once \n",
    "\n",
    "time1000 = timeit.timeit(lambda: quickSort(t1000), number=1)\n",
    "\n",
    "# print out the time, in seconds\n",
    "\n",
    "print(time1000)\n",
    "\n",
    "```\n",
    "Using the ```timeit``` module and the generated files to compare and contrast the time complexity of the sorting algorithms.\n",
    "\n",
    "Measure the time it takes for each sorting algorithm to sort the files that contains 1000, 2000 ... to 9000, 10000 strings. Take an average time of 10 runs for each algorithm and file."
   ]
  },
  {
   "cell_type": "code",
   "execution_count": 65,
   "metadata": {},
   "outputs": [
    {
     "data": {
      "image/png": "[encoded data removed]",
      "text/plain": [
       "<Figure size 432x288 with 1 Axes>"
      ]
     },
     "metadata": {
      "needs_background": "light"
     },
     "output_type": "display_data"
    }
   ],
   "source": [
    "# no need to plot graph if you don't have matplotlib module\n",
    "\n",
    "\n"
   ]
  }
 ],
 "metadata": {
  "kernelspec": {
   "display_name": "Python 3",
   "language": "python",
   "name": "python3"
  },
  "language_info": {
   "codemirror_mode": {
    "name": "ipython",
    "version": 3
   },
   "file_extension": ".py",
   "mimetype": "text/x-python",
   "name": "python",
   "nbconvert_exporter": "python",
   "pygments_lexer": "ipython3",
   "version": "3.8.5"
  }
 },
 "nbformat": 4,
 "nbformat_minor": 4
}
