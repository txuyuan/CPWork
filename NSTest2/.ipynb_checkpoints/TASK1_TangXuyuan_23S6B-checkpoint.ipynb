{
 "cells": [
  {
   "cell_type": "code",
   "execution_count": 160,
   "id": "b113d3a7-f138-452b-8936-8778b5009524",
   "metadata": {
    "tags": []
   },
   "outputs": [],
   "source": [
    "# Helper function to print output of flight queries\n",
    "\n",
    "def printFlights(flightResults):\n",
    "    # Clear _id\n",
    "    flights = []\n",
    "    for f in flightResults:\n",
    "        flights.append(f)\n",
    "        del flights[-1][\"_id\"]\n",
    "        \n",
    "    # Add headers as a first row\n",
    "    headers = [{header:header for header in flights[0].keys()}]\n",
    "    flights = headers + flights\n",
    "    \n",
    "    # Print values\n",
    "    isHeader = True\n",
    "    for flight in flights:\n",
    "        for value in flight.values():\n",
    "            if isHeader:\n",
    "                value = value[0].upper() + value[1:]\n",
    "            print(str(value) + \" \" * (15 - len(str(value))), end=\"\")\n",
    "        print()\n",
    "        isHeader = False"
   ]
  },
  {
   "cell_type": "code",
   "execution_count": 161,
   "id": "5047e877-60f9-4f85-84ef-c42fa04118e6",
   "metadata": {
    "tags": []
   },
   "outputs": [
    {
     "name": "stdout",
     "output_type": "stream",
     "text": [
      "Country        City           Price          Company        DurationHour   Stop           \n",
      "Australia      Sydney         904            B Airways      8              0              \n",
      "Australia      Melbourne      1628           Q Airlines     7              0              \n",
      "Australia      Perth          881            S Airlines     5              0              \n",
      "UK             London         1373           L Airlines     19             2              \n",
      "UK             London         1561           S Airlines     17             1              \n",
      "UK             Manchester     1708           E Air          25             1              \n",
      "UK             Manchester     2917           B Airways      17             1              \n",
      "Japan          Osaka          821            S Airlines     10             1              \n",
      "Japan          Tokyo          1028           J Airlines     7              0              \n",
      "Japan          Tokyo          1124           Air J          7              0              \n"
     ]
    }
   ],
   "source": [
    "# Tang Xuyuan\n",
    "\n",
    "# Task 1.1\n",
    "\n",
    "from pymongo import MongoClient\n",
    "import json\n",
    "\n",
    "client = MongoClient(\"localhost\", 27017)\n",
    "\n",
    "travelDb = client[\"Travel\"]\n",
    "flightColl = travelDb[\"Flight\"]\n",
    "\n",
    "# Insert tickets\n",
    "with open(\"TICKET.json\", \"r\") as file:\n",
    "    flightsJson = file.read()    \n",
    "flights = json.loads(flightsJson)\n",
    "flightColl.insert_many(flights)\n",
    "\n",
    "# Display all flight documents\n",
    "results = flightColl.find()\n",
    "printFlights(results)\n",
    "\n",
    "client.close()"
   ]
  },
  {
   "cell_type": "code",
   "execution_count": 162,
   "id": "d58f3e92-970a-4692-a995-911c267547d9",
   "metadata": {
    "tags": []
   },
   "outputs": [
    {
     "name": "stdout",
     "output_type": "stream",
     "text": [
      "Country        City           Price          Company        DurationHour   Stop           \n",
      "Australia      Perth          881            S Airlines     5              0              \n",
      "UK             London         1561           S Airlines     17             1              \n",
      "Japan          Osaka          821            S Airlines     10             1              \n",
      "\n",
      "City & Price for flights under 10h and under $1500:\n",
      "City           Price          \n",
      "Sydney         904            \n",
      "Perth          881            \n",
      "Tokyo          1028           \n",
      "Tokyo          1124           \n",
      "\n",
      "Cheapest air ticket\n",
      "Country        City           Price          Company        DurationHour   Stop           \n",
      "Japan          Osaka          821            S Airlines     10             1              \n"
     ]
    }
   ],
   "source": [
    "# Tang Xuyuan\n",
    "\n",
    "# Task 1.2\n",
    "\n",
    "from pymongo import MongoClient\n",
    "\n",
    "client = MongoClient(\"localhost\", 27017)\n",
    "travelDb = client[\"Travel\"]\n",
    "flightColl = travelDb[\"Flight\"]\n",
    "\n",
    "# Update stop field to 0, for flights without stops\n",
    "query = {\n",
    "    \"stop\": {\n",
    "        \"$exists\": False\n",
    "    }\n",
    "}\n",
    "replacement = {\n",
    "    \"$set\": {\n",
    "        \"stop\": 0\n",
    "    }\n",
    "}\n",
    "result = flightColl.update_many(query, replacement)\n",
    "\n",
    "# Display info for flights by company S Airlines\n",
    "query = {\"company\": \"S Airlines\"}\n",
    "result = flightColl.find(query)\n",
    "printFlights(result)\n",
    "print()\n",
    "    \n",
    "# Display city & price for flights <10 hours and <$1500\n",
    "query = {\n",
    "    \"durationHour\": {\n",
    "        \"$lt\": 10\n",
    "    },\n",
    "    \"price\": {\n",
    "        \"$lt\": 1500\n",
    "    }\n",
    "}\n",
    "projection = {\n",
    "    \"city\": True,\n",
    "    \"price\": True\n",
    "}\n",
    "result = flightColl.find(query, projection)\n",
    "print(\"City & Price for flights under 10h and under $1500:\")\n",
    "printFlights(result)\n",
    "print()\n",
    "\n",
    "# Display all info for cheapest air ticket\n",
    "result = [flightColl.find({}).sort(\"price\")[0]]\n",
    "print(\"Cheapest air ticket\")\n",
    "printFlights(result)\n",
    "\n",
    "\n",
    "client.close()"
   ]
  }
 ],
 "metadata": {
  "kernelspec": {
   "display_name": "cp",
   "language": "python",
   "name": "cp"
  },
  "language_info": {
   "codemirror_mode": {
    "name": "ipython",
    "version": 3
   },
   "file_extension": ".py",
   "mimetype": "text/x-python",
   "name": "python",
   "nbconvert_exporter": "python",
   "pygments_lexer": "ipython3",
   "version": "3.10.9"
  }
 },
 "nbformat": 4,
 "nbformat_minor": 5
}
