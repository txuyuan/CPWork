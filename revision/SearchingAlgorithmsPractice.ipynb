{
 "cells": [
  {
   "cell_type": "code",
   "execution_count": 16,
   "id": "c7191617-df60-48a2-9585-36e9b9f71167",
   "metadata": {},
   "outputs": [],
   "source": [
    "import random\n",
    "def getRandomList():\n",
    "    A = []\n",
    "    for _ in range(20):\n",
    "        A += [random.randint(0, 20)]\n",
    "    return A"
   ]
  },
  {
   "cell_type": "code",
   "execution_count": null,
   "id": "86fa08c0-9947-401e-9d08-06903dda29d6",
   "metadata": {},
   "outputs": [],
   "source": [
    "def bubbleSort(A):\n",
    "    sorted = False\n",
    "    x = 0\n",
    "    while not sorted:\n",
    "        sorted = True\n",
    "        \n",
    "        for i in range(0, len(A)-1-x):\n",
    "            j = i+1\n",
    "            if A[i] > A[j]:\n",
    "                sorted = False\n",
    "                A[i], A[j] = A[j], A[i]\n",
    "        \n",
    "        x += 1"
   ]
  },
  {
   "cell_type": "code",
   "execution_count": 17,
   "id": "87a8a59c-1fec-49ad-a09c-1013d89ae69f",
   "metadata": {},
   "outputs": [
    {
     "name": "stdout",
     "output_type": "stream",
     "text": [
      "[2, 2, 2, 4, 4, 5, 7, 8, 8, 9, 10, 10, 11, 12, 16, 17, 17, 18, 19, 19]\n"
     ]
    }
   ],
   "source": [
    "test = getRandomList()\n",
    "bubbleSort(test)\n",
    "print(test)"
   ]
  },
  {
   "cell_type": "code",
   "execution_count": 22,
   "id": "13c499b9-bec8-49df-a01d-bdc793beb591",
   "metadata": {},
   "outputs": [],
   "source": [
    "def insertionSort(A):\n",
    "    for i in range(1, len(A)):\n",
    "        endB = i -1\n",
    "\n",
    "        j = i\n",
    "        while j >= 1:\n",
    "            k = j-1\n",
    "            if A[j] < A[k]:\n",
    "                tmp = A[j]\n",
    "                A[j] = A[k]\n",
    "                A[k] = tmp\n",
    "            j = j-1"
   ]
  },
  {
   "cell_type": "code",
   "execution_count": 25,
   "id": "d68863fd-a06b-48b1-8e30-aae8f6c65110",
   "metadata": {},
   "outputs": [
    {
     "name": "stdout",
     "output_type": "stream",
     "text": [
      "[2, 3, 3, 5, 5, 8, 8, 9, 9, 10, 10, 10, 11, 13, 14, 16, 18, 20, 20, 20]\n"
     ]
    }
   ],
   "source": [
    "test = getRandomList()\n",
    "insertionSort(test)\n",
    "print(test)"
   ]
  },
  {
   "cell_type": "code",
   "execution_count": null,
   "id": "a20ec889-f438-49a9-8778-601165c1ac11",
   "metadata": {},
   "outputs": [],
   "source": [
    "def mergeSort(A, low, high):\n",
    "    if high <= low:\n",
    "        return\n",
    "\n",
    "    leftEndIndex = (high + low) // 2\n",
    "    print(low, leftEndIndex, high)\n",
    "    mergeSort(A, low, leftEndIndex)\n",
    "    mergeSort(A, leftEndIndex + 1, high)\n",
    "\n",
    "    # Merge back\n",
    "    temp = [0] * (high-low+1)\n",
    "    i = 0\n",
    "    left, right = low, leftEndIndex + 1\n",
    "    while left <= leftEndIndex or right <= high:\n",
    "        if A[left] < A[right] or right == high:\n",
    "            temp[i] = A[left]\n",
    "            left += 1\n",
    "        if A[right] < A[left] or left == leftEndIndex:\n",
    "            temp[i] = A[right]\n",
    "            right += 1\n",
    "        i += 1\n",
    "\n",
    "    j = low\n",
    "    for i in range(len(temp)):\n",
    "        A[j] = temp[i]\n",
    "        j += 1"
   ]
  },
  {
   "cell_type": "code",
   "execution_count": null,
   "id": "a0221d23-6a53-4a1f-9ae6-3546e404064c",
   "metadata": {},
   "outputs": [],
   "source": [
    "test = getRandomList()\n",
    "mergeSort(test, 0, 19)\n",
    "print(test)"
   ]
  }
 ],
 "metadata": {
  "kernelspec": {
   "display_name": "cp",
   "language": "python",
   "name": "cp"
  },
  "language_info": {
   "codemirror_mode": {
    "name": "ipython",
    "version": 3
   },
   "file_extension": ".py",
   "mimetype": "text/x-python",
   "name": "python",
   "nbconvert_exporter": "python",
   "pygments_lexer": "ipython3",
   "version": "3.12.3"
  }
 },
 "nbformat": 4,
 "nbformat_minor": 5
}
