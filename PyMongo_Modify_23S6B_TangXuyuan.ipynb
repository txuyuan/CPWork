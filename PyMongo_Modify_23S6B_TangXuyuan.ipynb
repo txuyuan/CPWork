{
 "cells": [
  {
   "cell_type": "markdown",
   "metadata": {},
   "source": [
    "## Pymongo Modification\n",
    "\n",
    "#### Inserting document/s into collection\n",
    "\n",
    "* Using find() to list documents. \n",
    "\n",
    "The insert_one() method returns an instance of InsertOneResult, which has a property, inserted_id, that holds the id of the inserted document.\n",
    "\n",
    "```\n",
    "from pymongo import MongoClient\n",
    "\n",
    "#connect the client(program) to a mongoDB server\n",
    "client = MongoClient(\"localhost\", 27017)\n",
    "mydb = client[\"mydatabase\"]   ## use the database mydatabase\n",
    "mycoll = mydb[\"customers\"]    ## get the collection - customers\n",
    "\n",
    "document = {\"name\":\"Peter\", \"address\":\"abc def\"} ##dictionary\n",
    "result=mycoll.insert_one(document)\n",
    "print(result.inserted_id)\n",
    "client.close()\n",
    "```\n",
    "* Using insert_many to insert documents. \n",
    "\n",
    "The insert_many() method returns an instance of InsertManyResult, which has a property, inserted_ids, that holds the list of ids of the inserted documents\n",
    "\n",
    "```\n",
    "from pymongo import MongoClient\n",
    "\n",
    "custList =[\n",
    "    {\"name\": \"Amy\", \"address\":\"Apple ST 652\"},\n",
    "    {\"name\": \"Hannah\", \"address\":\"Montain 21\"},\n",
    "    {\"name\": \"Michael\", \"address\":\"Valley 345\"},\n",
    "    {\"name\": \"Sandy\", \"address\":\"Ocean blvd 2\"},\n",
    "    {\"name\": \"Betty\", \"address\":\"Green Grass 1\"},\n",
    "    {\"name\": \"Richard\", \"address\":\"Sky st 331\"}\n",
    "]\n",
    "\n",
    "#connect the client(program) to a mongoDB server\n",
    "\n",
    "client = MongoClient(\"localhost\", 27017)\n",
    "mydb = client[\"mydatabase\"]   ## use the database mydatabase\n",
    "mycoll = mydb[\"customers\"]    ## get the collection - customers\n",
    "\n",
    "result=mycoll.insert_many(custList)\n",
    "print(result.inserted_ids)\n",
    "client.close()\n",
    "```\n",
    "#### Task 1\n",
    "\n",
    "Insert the following book to the book collections in bookdb.\n",
    "\n",
    "Find and display (as shown) the document using the objectID returned after the insertion.\n",
    "\n",
    "```\n",
    "{ \"title\" : \"Cryptography Demystified\", \"isbn\" : \"0071406387\", \"pageCount\" : 356, \"thumbnailUrl\" : \"https://m.media-amazon.com/images/I/710c8mSVe9L._AC_UY218_ML3_.jpg\", \"status\" : \"MEAP\", \"authors\" : [ \"John Hershey\"], \"categories\" : ['Demystified'] }\n",
    "```\n",
    "\n",
    "```\n",
    "Title                                              ISBN                \n",
    "Cryptography Demystified                           0071406387        \n",
    "```\n",
    "\n",
    "from pymongo import MongoClient\n",
    "\n",
    "client = MongoClient(\"localhost\", 27017)\n",
    "mydb = client[\"bookdb\"]   ## use the database bookdb\n",
    "mycoll = mydb[\"book\"]    ## get the collection book\n",
    "\n",
    "doc= { \"title\" : \"Cryptography Demystified\", \"isbn\" : \"0071406387\", \"pageCount\" : 356, \n",
    "      \"thumbnailUrl\" : \"https://m.media-amazon.com/images/I/710c8mSVe9L._AC_UY218_ML3_.jpg\", \n",
    "      \"status\" : \"MEAP\", \"authors\" : [ \"John Hershey\"], \"categories\" : ['Demystified'] }\n",
    "\n",
    "result=mycoll.insert_one(doc)\n",
    "print(f\"_id={result.inserted_id}, type={type(result.inserted_id)}\")\n",
    "resultID=result.inserted_id"
   ]
  },
  {
   "cell_type": "code",
   "execution_count": 12,
   "metadata": {},
   "outputs": [
    {
     "name": "stdout",
     "output_type": "stream",
     "text": [
      "Title                                                        ISBN\n",
      "Cryptography Demystified                                     0071406387\n"
     ]
    }
   ],
   "source": [
    "from pymongo import MongoClient\n",
    "\n",
    "client = MongoClient(\"localhost\", 27017)\n",
    "\n",
    "bookdb = client[\"bookdb\"]\n",
    "books = bookdb[\"book\"]\n",
    "\n",
    "document = { \"title\" : \"Cryptography Demystified\", \"isbn\" : \"0071406387\", \"pageCount\" : 356, \n",
    "            \"thumbnailUrl\" : \"https://m.media-amazon.com/images/I/710c8mSVe9L._AC_UY218_ML3_.jpg\", \n",
    "            \"status\" : \"MEAP\", \"authors\" : [ \"John Hershey\"], \"categories\" : ['Demystified'] }\n",
    "\n",
    "result = books.insert_one(document)\n",
    "bookId = result.inserted_id\n",
    "\n",
    "query = {\"_id\": bookId}\n",
    "projection = {\"title\": 1, \"isbn\": 1}\n",
    "result = books.find(query, projection)\n",
    "\n",
    "print(f\"{'Title':<60} ISBN\")\n",
    "for book in result:\n",
    "    print(f\"{book['title']:<60} {book['isbn']}\")"
   ]
  },
  {
   "cell_type": "markdown",
   "metadata": {},
   "source": [
    "#### Task 2\n",
    "\n",
    "Insert the books to the book collection in bookdb.\n",
    "\n",
    "Find and display (as shown) the documents using the objectIDs returned after the insertion.\n",
    "\n",
    "```\n",
    "{ \"title\" : \"Serious Cryptography: A Practical Introduction to Modern Encryption\", \"isbn\" : \"1593278268\", \"pageCount\" : 313, \"thumbnailUrl\" : \"https://m.media-amazon.com/images/I/51wv16GC0FL.jpg\", \"status\" : \"MEAP\", \"authors\" : [ \"Jean-Philippe Aumasson\"], \"categories\" : [] }\n",
    "\n",
    "{ \"title\" : \"Rootkits and Bootkits: Reversing Modern Malware and Next Generation Threats\", \"isbn\" : \"B07P8J5HZJ\", \"pageCount\" : 448, \"thumbnailUrl\" : \"https://m.media-amazon.com/images/I/51+Zko5mWpL.jpg\", \"status\" : \"MEAP\", \"authors\" : [ \"Alex Matrosov\", \"Eugene Rodionov\", \"Sergey Bratus\" ], \"categories\" : [\"Viruses & Malware\", \"Computer Viruses\"] }\n",
    "\n",
    "{ \"title\" : \"Understanding Cryptography: A Textbook for Students and Practitioners\", \"isbn\" : \"B014P9I39Q\", \"pageCount\" : 390, \"thumbnailUrl\" : \"https://m.media-amazon.com/images/I/61TXcy7R+kL._AC_UY218_ML3_.jpg\", \"status\" : \"MEAP\", \"authors\" : [ \"Prof. Dr.-Ing. Christof Paar\", \"Prof. Dr.-Ing. January Pelzl\"], \"categories\" : [\" Computer Information Theory\", \"Encryption\"] }\n",
    "\n",
    "```\n",
    "\n",
    "```\n",
    "Title                                                                            ISBN                \n",
    "Serious Cryptography: A Practical Introduction to Modern Encryption              1593278268          \n",
    "Rootkits and Bootkits: Reversing Modern Malware and Next Generation Threats      B07P8J5HZJ          \n",
    "Understanding Cryptography: A Textbook for Students and Practitioners            B014P9I39Q          \n",
    "```"
   ]
  },
  {
   "cell_type": "code",
   "execution_count": 37,
   "metadata": {},
   "outputs": [
    {
     "name": "stdout",
     "output_type": "stream",
     "text": [
      "Title                                                                            ISBN\n",
      "Serious Cryptography: A Practical Introduction to Modern Encryption              1593278268\n",
      "Rootkits and Bootkits: Reversing Modern Malware and Next Generation Threats      B07P8J5HZJ\n",
      "Understanding Cryptography: A Textbook for Students and Practitioners            B014P9I39Q\n"
     ]
    }
   ],
   "source": [
    "from pymongo import MongoClient\n",
    "\n",
    "client = MongoClient(\"localhost\", 27017)\n",
    "\n",
    "bookdb = client[\"bookdb\"]\n",
    "books = bookdb[\"book\"]\n",
    "\n",
    "documents = [\n",
    "    { \"title\" : \"Serious Cryptography: A Practical Introduction to Modern Encryption\", \"isbn\" : \"1593278268\", \"pageCount\" : 313, \"thumbnailUrl\" : \"https://m.media-amazon.com/images/I/51wv16GC0FL.jpg\", \"status\" : \"MEAP\", \"authors\" : [ \"Jean-Philippe Aumasson\"], \"categories\" : [] },\n",
    "    { \"title\" : \"Rootkits and Bootkits: Reversing Modern Malware and Next Generation Threats\", \"isbn\" : \"B07P8J5HZJ\", \"pageCount\" : 448, \"thumbnailUrl\" : \"https://m.media-amazon.com/images/I/51+Zko5mWpL.jpg\", \"status\" : \"MEAP\", \"authors\" : [ \"Alex Matrosov\", \"Eugene Rodionov\", \"Sergey Bratus\" ], \"categories\" : [\"Viruses & Malware\", \"Computer Viruses\"] },\n",
    "    { \"title\" : \"Understanding Cryptography: A Textbook for Students and Practitioners\", \"isbn\" : \"B014P9I39Q\", \"pageCount\" : 390, \"thumbnailUrl\" : \"https://m.media-amazon.com/images/I/61TXcy7R+kL._AC_UY218_ML3_.jpg\", \"status\" : \"MEAP\", \"authors\" : [ \"Prof. Dr.-Ing. Christof Paar\", \"Prof. Dr.-Ing. January Pelzl\"], \"categories\" : [\" Computer Information Theory\", \"Encryption\"] }\n",
    "]\n",
    "\n",
    "result = books.insert_many(documents)\n",
    "\n",
    "query = {\"_id\": \n",
    "            {\"$in\": result.inserted_ids}\n",
    "        }\n",
    "projection = {\"title\": 1, \"isbn\": 1}\n",
    "result = books.find(query, projection)\n",
    "\n",
    "print(f\"{'Title':<80} ISBN\")\n",
    "for book in result:\n",
    "    print(f\"{book['title']:<80} {book['isbn']}\")"
   ]
  },
  {
   "cell_type": "markdown",
   "metadata": {},
   "source": [
    "#### Update document/s in the collection\n",
    "\n",
    "* Using update_one() to update the first document that satisfies the query in a collection.\n",
    "\n",
    "    ```\n",
    "    from pymongo import MongoClient\n",
    "    #connect the client(program) to a mongoDB server\n",
    "    try:\n",
    "        client = MongoClient(\"localhost\", 27017)\n",
    "        print(\"Connected\")\n",
    "    except:\n",
    "        print(\"Cannot connect to database\")\n",
    "\n",
    "    mydb = client[\"mydatabase\"]   ## use the database mydatabase\n",
    "    mycoll = mydb[\"customers\"]    ## get the collection - customers\n",
    "    myquery = {\"address\": \"Valley 345\"}\n",
    "    newval = {\"$set\":{\"address\":\"Canyon 123\"}}\n",
    "    mycoll.update_one(myquery, newval)\n",
    "    \n",
    "    for document in mycoll.find():\n",
    "        print(document)\n",
    "    client.close()\n",
    "    \n",
    "    ```\n",
    "* Using update_many() to update the all documents that satisfy the query/filter in a collection.\n",
    "\n",
    "    ```\n",
    "    from pymongo import MongoClient\n",
    "        #connect the client(program) to a mongoDB server\n",
    "    try:\n",
    "        client = MongoClient(\"localhost\", 27017)\n",
    "        print(\"Connected\")\n",
    "    except:\n",
    "        print(\"Cannot connect to database\")\n",
    "\n",
    "    mydb = client[\"mydatabase\"]   ## use the database mydatabase\n",
    "    mycoll = mydb[\"customers\"]    ## get the collection - customers\n",
    "    myquery = {\"name\": \"Minnies\"}\n",
    "    newval = {\"$set\":{\"name\":\"Minnie\"}}\n",
    "    result = mycoll.update_many(myquery, newval)\n",
    "\n",
    "    print(\"No of documents updated : {}\".format(result.modified_count))\n",
    "\n",
    "    client.close()\n",
    "    ```\n"
   ]
  },
  {
   "cell_type": "markdown",
   "metadata": {},
   "source": [
    "#### Task 3\n",
    "Find books with title ``containing`` the word **Hadoop**. \n",
    "\n",
    "Hint: use ``\"$regex\"``\n",
    "\n",
    "Display the result after the update as shown:\n",
    "\n",
    "```\n",
    "ID                   Title                                              ISBN                \n",
    "186                  Hadoop in Action                                   1935182196          \n",
    "566                  Hadoop in Practice                                 1617290238          \n",
    "772                  Hadoop in Practice, Second Edition                 1617292222                \n",
    "```"
   ]
  },
  {
   "cell_type": "code",
   "execution_count": 43,
   "metadata": {},
   "outputs": [
    {
     "name": "stdout",
     "output_type": "stream",
     "text": [
      "ID                   Title                                              ISBN                \n",
      "186                  Hadoop in Action                                   1935182196          \n",
      "566                  Hadoop in Practice                                 1617290238          \n",
      "772                  Hadoop in Practice, Second Edition                 1617292222          \n"
     ]
    }
   ],
   "source": []
  },
  {
   "cell_type": "markdown",
   "metadata": {},
   "source": [
    "#### Task 4\n",
    "\n",
    "Update the book ``Hadoop in Action`` to ``Hadoop in Action eBook``.\n",
    "\n",
    "Hint: Make use of the information obtained in ``Task 3``. \n",
    "\n",
    "Display the result after the update as shown:\n",
    "\n",
    "```\n",
    "ID                   Title                                              ISBN                \n",
    "186                  Hadoop in Action eBook                             1935182196          \n",
    "566                  Hadoop in Practice                                 1617290238          \n",
    "772                  Hadoop in Practice, Second Edition                 1617292222       \n",
    "```"
   ]
  },
  {
   "cell_type": "code",
   "execution_count": 69,
   "metadata": {},
   "outputs": [
    {
     "name": "stdout",
     "output_type": "stream",
     "text": [
      "ID                   Title                                              ISBN                \n",
      "186                  Hadoop in Action eBook                             1935182196          \n",
      "566                  Hadoop in Practice                                 1617290238          \n",
      "772                  Hadoop in Practice, Second Edition                 1617292222          \n"
     ]
    }
   ],
   "source": []
  },
  {
   "cell_type": "markdown",
   "metadata": {},
   "source": [
    "#### Task 5\n",
    "\n",
    "Update the status of documents with \"PUBLISH\" status to \"PUBLISHED\".\n",
    "\n",
    "Print the number of the documents with status = \"PUBLISHED\" in the database after the update.\n",
    "\n",
    "\n",
    "\n",
    "```\n",
    "Status:PUBLISHED Count:363\n",
    "     \n",
    "```"
   ]
  },
  {
   "cell_type": "code",
   "execution_count": 7,
   "metadata": {},
   "outputs": [
    {
     "name": "stdout",
     "output_type": "stream",
     "text": [
      "Status:PUBLISHED Count:363\n"
     ]
    }
   ],
   "source": []
  },
  {
   "cell_type": "markdown",
   "metadata": {},
   "source": [
    "#### Delete document/s in the collection\n",
    "\n",
    "* Using delete_one() to delete the first document that satisfies the query in a collection.\n",
    "\n",
    "    ```\n",
    "    from pymongo import MongoClient\n",
    "    #connect the client(program) to a mongoDB server\n",
    "    try:\n",
    "        client = MongoClient(\"localhost\", 27017)\n",
    "        print(\"Connected\")\n",
    "    except:\n",
    "        print(\"Cannot connect to database\")\n",
    "\n",
    "    mydb = client[\"mydatabase\"]   ## use the database mydatabase\n",
    "    mycoll = mydb[\"customers\"]    ## get the collection - customers\n",
    "    myquery = {\"address\": \"Canyon 123\"}\n",
    "    mycoll.delete_one(myquery)\n",
    "    \n",
    "    for document in mycoll.find():\n",
    "        print(document)\n",
    "    client.close()\n",
    "    \n",
    "    ```\n",
    "* Using delete_many() to update the all documents that satisfy the query/filter in a collection.\n",
    "\n",
    "    ```\n",
    "    from pymongo import MongoClient\n",
    "        #connect the client(program) to a mongoDB server\n",
    "    try:\n",
    "        client = MongoClient(\"localhost\", 27017)\n",
    "        print(\"Connected\")\n",
    "    except:\n",
    "        print(\"Cannot connect to database\")\n",
    "\n",
    "    mydb = client[\"mydatabase\"]   ## use the database mydatabase\n",
    "    mycoll = mydb[\"customers\"]    ## get the collection - customers\n",
    "    myquery = {\"name\": \"Minnie\"}\n",
    "    x = mycoll.delete_many(myquery)\n",
    "\n",
    "    print(\"No of documents updated : {}\".format(x.modified_count))\n",
    "\n",
    "    client.close()\n",
    "    ```\n",
    "* Note that mycoll.delete_many({}) will delete all document in the collection.  Use with care!\n",
    "\n",
    "#### Task 6\n",
    "\n",
    "Delete the book with isbn = '1930110596' from the book collection.\n",
    "Show the result of the deletion as shown.\n",
    "\n",
    "```\n",
    "Deleted count: 1\n",
    "```"
   ]
  },
  {
   "cell_type": "code",
   "execution_count": 8,
   "metadata": {},
   "outputs": [
    {
     "name": "stdout",
     "output_type": "stream",
     "text": [
      "Deleted count: 1\n"
     ]
    }
   ],
   "source": []
  },
  {
   "cell_type": "markdown",
   "metadata": {},
   "source": [
    "#### Task 7\n",
    "\n",
    "List the number of documents without isbn field or document with pageCount=0 in the book collection.\n",
    "List the total number of documents in the book collection.\n"
   ]
  },
  {
   "cell_type": "code",
   "execution_count": 22,
   "metadata": {},
   "outputs": [
    {
     "name": "stdout",
     "output_type": "stream",
     "text": [
      "Documents without isbn and with page count =0 :167\n",
      "Total number of documents in the collection:445\n"
     ]
    }
   ],
   "source": []
  },
  {
   "cell_type": "markdown",
   "metadata": {},
   "source": [
    "#### Task 8\n",
    "\n",
    "Delete all the documents without ``isbn`` field or ``pageCount=0`` from the book collection.\n",
    "List the total number of documents in the book collection after the deletion."
   ]
  },
  {
   "cell_type": "code",
   "execution_count": null,
   "metadata": {},
   "outputs": [],
   "source": []
  }
 ],
 "metadata": {
  "kernelspec": {
   "display_name": "Python 3 (ipykernel)",
   "language": "python",
   "name": "python3"
  },
  "language_info": {
   "codemirror_mode": {
    "name": "ipython",
    "version": 3
   },
   "file_extension": ".py",
   "mimetype": "text/x-python",
   "name": "python",
   "nbconvert_exporter": "python",
   "pygments_lexer": "ipython3",
   "version": "3.10.9"
  }
 },
 "nbformat": 4,
 "nbformat_minor": 4
}
