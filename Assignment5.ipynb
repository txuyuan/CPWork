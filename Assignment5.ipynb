{
 "cells": [
  {
   "cell_type": "code",
   "execution_count": 1,
   "id": "edc24722",
   "metadata": {},
   "outputs": [
    {
     "name": "stdout",
     "output_type": "stream",
     "text": [
      "oamLretset\n"
     ]
    }
   ],
   "source": [
    "# 1\n",
    "myString = \"testerLmao\"\n",
    "\n",
    "revString = \"\"\n",
    "for c in reversed(myString):\n",
    "    revString += c\n",
    "print(revString)"
   ]
  },
  {
   "cell_type": "code",
   "execution_count": 7,
   "id": "8fdeab2a",
   "metadata": {},
   "outputs": [
    {
     "name": "stdout",
     "output_type": "stream",
     "text": [
      "Enter string: StopAndSmellTheRoses\n",
      "Stop and smell the roses\n"
     ]
    }
   ],
   "source": [
    "# 2\n",
    "\n",
    "s = input(\"Enter string: \").strip()\n",
    "\n",
    "newStr = \"\"\n",
    "for i,c in enumerate(s):\n",
    "    if c.isupper() and i!=0:\n",
    "        newStr += \" \" + c.lower()\n",
    "    else:\n",
    "        newStr += c\n",
    "\n",
    "print(newStr)"
   ]
  },
  {
   "cell_type": "code",
   "execution_count": 12,
   "id": "1689f192",
   "metadata": {},
   "outputs": [
    {
     "name": "stdout",
     "output_type": "stream",
     "text": [
      "Enter file 1: textFile1.txt\n",
      "Enter file 2: textFileResult.txt\n"
     ]
    },
    {
     "data": {
      "text/plain": [
       "26"
      ]
     },
     "execution_count": 12,
     "metadata": {},
     "output_type": "execute_result"
    }
   ],
   "source": [
    "# 3\n",
    "import os\n",
    "\n",
    "name1 = input(\"Enter file 1: \")\n",
    "name2 = input(\"Enter file 2: \")\n",
    "file1 = open(name1, 'r')\n",
    "file2 = open(name2, 'w')\n",
    "\n",
    "file2.write(file1.read())"
   ]
  },
  {
   "cell_type": "code",
   "execution_count": null,
   "id": "ccd805da",
   "metadata": {},
   "outputs": [],
   "source": []
  }
 ],
 "metadata": {
  "kernelspec": {
   "display_name": "Python 3 (ipykernel)",
   "language": "python",
   "name": "python3"
  },
  "language_info": {
   "codemirror_mode": {
    "name": "ipython",
    "version": 3
   },
   "file_extension": ".py",
   "mimetype": "text/x-python",
   "name": "python",
   "nbconvert_exporter": "python",
   "pygments_lexer": "ipython3",
   "version": "3.10.10"
  }
 },
 "nbformat": 4,
 "nbformat_minor": 5
}
