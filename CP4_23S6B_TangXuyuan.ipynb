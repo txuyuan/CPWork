{
 "cells": [
  {
   "cell_type": "markdown",
   "metadata": {},
   "source": [
    "## CP4\n",
    "\n",
    "### Iterating over a String with the _for_ Loop\n",
    "```\n",
    "for _variable_ in _string_:\n",
    "    statement\n",
    "    statement\n",
    "    etc.\n",
    "```\n",
    "__Example__\n",
    "```\n",
    "name = 'Juliet'\n",
    "for ch in name:\n",
    "    print(ch)\n",
    "```\n",
    "\n",
    "1. Write a program that ask the user for a sentence followed by a letter. \n",
    "Display the number of times the letter appears in the sentence using _for_ loop.\n"
   ]
  },
  {
   "cell_type": "code",
   "execution_count": 2,
   "metadata": {},
   "outputs": [
    {
     "name": "stdout",
     "output_type": "stream",
     "text": [
      "Enter string: TesterLol\n",
      "2 Letters\n"
     ]
    }
   ],
   "source": [
    "s = input(\"Enter string: \")\n",
    "\n",
    "letters = 0\n",
    "for c in s:\n",
    "    letters += c.isupper()\n",
    "print(f\"{letters} Letters\")"
   ]
  },
  {
   "cell_type": "markdown",
   "metadata": {},
   "source": [
    "### The _len_ function\n",
    "\n",
    "Finding the length of a string using _len_ function.\n",
    "\n",
    "__Example__\n",
    "\n",
    "```\n",
    "city = 'Singapore'\n",
    "size = len(city)\n",
    "```\n",
    "\n",
    "Using _len_ function in _while_ loop.\n",
    "\n",
    "__Example__\n",
    "\n",
    "```\n",
    "city = 'Singapore'\n",
    "index =0\n",
    "while index < len(city):\n",
    "    print(city[index])\n",
    "    index += 1\n",
    "```\n",
    "\n",
    "\n",
    "2. Write a program that count the number of letter ***t*** in the string below using a _while_ loop and the _len_ function:\n",
    "\n",
    "```\n",
    "Lorem ipsum dolor sit amet, consectetur adipiscing elit. In a massa bibendum, consectetur urna scelerisque, tincidunt purus. Quisque consequat, libero ac rutrum convallis, nisi est volutpat odio, eget eleifend libero massa ac ligula.\n",
    "```"
   ]
  },
  {
   "cell_type": "code",
   "execution_count": 4,
   "metadata": {},
   "outputs": [
    {
     "name": "stdout",
     "output_type": "stream",
     "text": [
      "15 Ts in this string\n"
     ]
    }
   ],
   "source": [
    "s = \"Lorem ipsum dolor sit amet, consectetur adipiscing elit. In a massa bibendum, consectetur urna scelerisque, tincidunt purus. Quisque consequat, libero ac rutrum convallis, nisi est volutpat odio, eget eleifend libero massa ac ligula.\"\n",
    "\n",
    "i = 0\n",
    "tees = 0\n",
    "while i < len(s):\n",
    "    tees += s[i] == 't'\n",
    "    i += 1\n",
    "print(f\"{tees} Ts in this string\")"
   ]
  },
  {
   "cell_type": "markdown",
   "metadata": {},
   "source": [
    "### String Slicing\n",
    "\n",
    "To get a slice of the string, use the following format\n",
    "\n",
    "_string[start : end]_\n",
    "\n",
    "__Example__\n",
    "\n",
    "```\n",
    "stringAbc = 'abcdefghijklmnopqrstuvwxyz'\n",
    "print(stringAbc[5:15] +  stringAbc[20:25])\n",
    "```\n",
    "Running the above code ...\n",
    "```\n",
    "fghijklmnouvwxy\n",
    "```\n",
    "\n",
    "3. Try different ways of slicing a string. Copy the code below and explore further by printing the results and changing the values of start and end.\n",
    "\n",
    "```\n",
    "stringABC = 'abcdefghijklmnopqrstuvwxyz'\n",
    "a = stringABC[:]\n",
    "a = stringABC[:5]\n",
    "a = stringABC[10:]\n",
    "a = stringABC[0: len(stringABC)]\n",
    "\n",
    "# Using negative start and end value.\n",
    "a = stringABC[-5:]\n",
    "a = stringABC[:-6]\n",
    "\n",
    "```"
   ]
  },
  {
   "cell_type": "code",
   "execution_count": 5,
   "metadata": {},
   "outputs": [],
   "source": [
    "stringABC = 'abcdefghijklmnopqrstuvwxyz'\n",
    "a = stringABC[:]\n",
    "a = stringABC[:5]\n",
    "a = stringABC[10:]\n",
    "a = stringABC[0: len(stringABC)]\n",
    "\n",
    "# Using negative start and end value.\n",
    "a = stringABC[-5:]\n",
    "a = stringABC[:-6]"
   ]
  },
  {
   "cell_type": "markdown",
   "metadata": {},
   "source": [
    "### String Slicing with steps\n",
    "\n",
    "_string[start : end : step]_\n",
    "\n",
    "```\n",
    "string123 = '012345678901234567890123456789'\n",
    "print(string123[0::2])\n",
    "```\n",
    "\n",
    "4. Try different ways of slicing a string with step. Copy the code below and explore further by printing the results and changing the value of start, end and step.\n",
    "\n",
    "```\n",
    "string123 = '012345678901234567890123456789'\n",
    "# Skipping\n",
    "a = string123[0::2]\n",
    "\n",
    "# Reversing a string\n",
    "a = string123[::-1]\n",
    "\n",
    "```"
   ]
  },
  {
   "cell_type": "code",
   "execution_count": 6,
   "metadata": {},
   "outputs": [],
   "source": [
    "string123 = '012345678901234567890123456789'\n",
    "# Skipping\n",
    "a = string123[0::2]\n",
    "\n",
    "# Reversing a string\n",
    "a = string123[::-1]"
   ]
  },
  {
   "cell_type": "markdown",
   "metadata": {},
   "source": [
    "### Testing Strings with _in_ and _not in_\n",
    "\n",
    "To determine whether one string is contained in another string.\n",
    "\n",
    "\n",
    "_string1_ __in__  _string2_\n",
    "\n",
    "The expression returns _True_ if string1 is __found__ in _string2_.\n",
    "\n",
    "_string1_ __not in__ _string2_\n",
    "\n",
    "The expression returns _True_ if string1 is __not found__ in _string2_.\n",
    "\n",
    "__Example__\n",
    "\n",
    "```\n",
    "text='Lorem ipsum dolor sit amet, consectetur adipiscing elit.'\n",
    "if 'pisc' in text:\n",
    "    print(\"pisc was found\")\n",
    "else:\n",
    "    print(\"pisc was not found\")\n",
    "\n",
    "if 'sectu' not in text:\n",
    "    print(\"sectu was not found\")\n",
    "else:\n",
    "    print(\"sectu was found\")\n",
    "```\n",
    "Running the above code ...\n",
    "```\n",
    "pisc was found\n",
    "sectu was not found\n",
    "\n",
    "```\n",
    "\n",
    "Copy the code above and run it."
   ]
  },
  {
   "cell_type": "code",
   "execution_count": 7,
   "metadata": {},
   "outputs": [
    {
     "name": "stdout",
     "output_type": "stream",
     "text": [
      "pisc was found\n",
      "sectu was not found\n"
     ]
    }
   ],
   "source": [
    "text='Lorem ipsum dolor sit amet, consectetur adipiscing elit.'\n",
    "if 'pisc' in text:\n",
    "    print(\"pisc was found\")\n",
    "else:\n",
    "    print(\"pisc was not found\")\n",
    "\n",
    "if 'sectu' not in text:\n",
    "    print(\"sectu was not found\")\n",
    "else:\n",
    "    print(\"sectu was found\")"
   ]
  },
  {
   "cell_type": "markdown",
   "metadata": {},
   "source": [
    "### String Testing Methods\n",
    "\n",
    "The string methods shown below test a string for a specific characteristics.\n",
    "\n",
    "| Method | Description |\n",
    "|:--- | :--- |\n",
    "| isalnum() | Return true if the string contains only alphabetic letters or digits and is at least one character in length. Returns false otherwise. |\n",
    "| isalpha() | Returns true if the string contains only alphabetic letters and is at least one character in length. Return false otherwise.| \n",
    "| isdigit() | Returns true if the string contains only numeric digits and is at least one character in length. Return false otherwise.| \n",
    "| islower() | Return true if all of the alphabetic letters in the string are lowercase, and the string contains at least one alphabetic letter. Returns false otherwise.| \n",
    "| isupper() | Return true if all of the alphabetic letters in the string are uppercase and contains at least one alphabetic letter. Returns false otherwise. | \n",
    "| isspace() | Return true if the string contains only whitespace characters and is at least one character in length. Returns false otherwise.( Whitespace characters are spaces, newlines(\\n), tabs(\\t) | \n",
    "\n",
    "\n",
    "5. Write a program that ask for user input a string and use the above testing methods to check the type of string being input.\n",
    "The following should be displayed for each input.\n",
    "```\n",
    "    The string is alphanumeric or The string is not alphanumeric.\n",
    "    The string contains only digits  or The string does not contains digits only.\n",
    "    The string contains only alphabetic characters or The string does not contains only alphabetic characters.\n",
    "    The string contains only whitespace characters or  The string does not contains only whitespace characters.\n",
    "    The characters in the string are all lowercase or The characters in the string are not all lowercase.\n",
    "    The characters in the string are all uppercase or The characters in the string are not all uppercase\n",
    "```\n"
   ]
  },
  {
   "cell_type": "code",
   "execution_count": 20,
   "metadata": {},
   "outputs": [
    {
     "name": "stdout",
     "output_type": "stream",
     "text": [
      "Enter string: The string is alphanumeric or The string is not alphanumeric.\n",
      "The string is not alphanumeric.\n",
      "The string does not contain only digits.\n",
      "The string does not contain only alphabetic characters.\n",
      "The string does not  contain only whitespace characters.\n",
      "The characters in the string are not all lowercase.\n",
      "The characters in the string are not all uppercase.\n"
     ]
    }
   ],
   "source": [
    "s = input(\"Enter string: \")\n",
    "\n",
    "alphanum = s.isalnum()\n",
    "digit = s.isdigit()\n",
    "alphabet = s.isalpha()\n",
    "white = s.isspace()\n",
    "lower = s.islower()\n",
    "upper = s.isupper()\n",
    "\n",
    "print(f\"The string is {'not ' if not alphanum else ''}alphanumeric.\")\n",
    "print(f\"The string {'does not ' if not digit else ''}contain only digits.\")\n",
    "print(f\"The string {'does not ' if not alphabet else ''}contain only alphabetic characters.\")\n",
    "print(f\"The string {'does not ' if not white else ''} contain only whitespace characters.\")\n",
    "print(f\"The characters in the string are {'not ' if not lower else ''}all lowercase.\")\n",
    "print(f\"The characters in the string are {'not ' if not upper else ''}all uppercase.\")"
   ]
  },
  {
   "cell_type": "markdown",
   "metadata": {},
   "source": [
    "### String Modification\n",
    "\n",
    "The string methods shown below return modified versions of themselves.\n",
    "\n",
    "| Method | Description |\n",
    "|:--- | :--- |\n",
    "| lower() |Returns a copy of the string with all the alphabetic letters converted to lowercase.  Any character that is already lowercase, or is not an alphabetic letter, is unchanged.|\n",
    "| upper()|Returns a copy of the string with all the alphabetic letters converted to uppercase.  Any character that is already uppercase, or is not an alphabetic letter, is unchanged.|\n",
    "| lstrip() |Returns a copy of the string with all the __leading whitespace__ characters removed. Leading whitespace characters are spaces, newlines(\\n), tabs(\\t) that appear at the beginning of the string.|\n",
    "| lstrip(_char_) |The _char_ argument is a string containing a character. Returns a copy of the string with all instances of _char_ that appear at the beginning of the string removed.|\n",
    "| rstrip() |Returns a copy of the string with all the __trailing whitespace__ characters removed. Trailing whitespace characters are spaces, newlines(\\n), tabs(\\t) that appear at the end of the string.|\n",
    "| rstrip(_char_) |The _char_ argument is a string containing a character. Returns a copy of the string with all instances of _char_ that appear at the end of the string removed.|\n",
    "| strip() | Returns a copy of the string with all leading and trailing whitespace characters removed.|\n",
    "| strip(_char_) | Returns a copy of the string with all instance of _char_ that appears at the beginning and the end of the string removed.|\n"
   ]
  },
  {
   "cell_type": "markdown",
   "metadata": {},
   "source": [
    "6. Write programs that ask for user input a string and use the above modifcation methods to modify the input to the following:\n",
    "* Convert all alphabetic letters into lower case and output it.\n",
    "* Convert all alphabetic letters into upper case and output it.\n",
    "* Strip all spaces on the left from the input and output it.\n",
    "* Strip all 'a' letters on the left from the input and output it.  \n",
    "* Strip all 'z' letters on the right from the input and output it.\n",
    "* String space and tabs from both side and output it.\n",
    "\n",
    "Demonstrate your programs work by providing meaningful test cases. "
   ]
  },
  {
   "cell_type": "code",
   "execution_count": 23,
   "metadata": {},
   "outputs": [
    {
     "name": "stdout",
     "output_type": "stream",
     "text": [
      "Enter string:    ﻿A string: this is a Suitable Test Case ZZZZZ\n",
      "   ﻿a string: this is a suitable test case zzzzz\n",
      "   ﻿A STRING: THIS IS A SUITABLE TEST CASE ZZZZZ\n",
      "﻿A string: this is a Suitable Test Case ZZZZZ\n",
      "   ﻿A string: this is a Suitable Test Case ZZZZZ\n",
      "   ﻿A string: this is a Suitable Test Case ZZZZZ\n",
      "﻿A string: this is a Suitable Test Case ZZZZZ\n"
     ]
    }
   ],
   "source": [
    "s = input(\"Enter string: \")\n",
    "\n",
    "print(s.lower())\n",
    "print(s.upper())\n",
    "print(s.strip())\n",
    "print(s.lstrip('aA'))\n",
    "print(s.rstrip('z'))\n",
    "print(s.strip(' ').strip('\\t'))"
   ]
  },
  {
   "cell_type": "markdown",
   "metadata": {},
   "source": [
    "### Searching and Replacing\n",
    "\n",
    "\n",
    "| Method | Description |\n",
    "|:--- | :--- |\n",
    "| startswith(_substring_) |The _substring_ argument is a string.  The method returns true if the string starts with substring.|\n",
    "| endswith(_substring_) |The _substring_ argument is a string.  The method returns true if the string ends with substring.|\n",
    "| find(_substring_ [, _start_ [, _end_]]) | The _substring_ argument is a string.  The method returns the lowest index in the string where substring is found.  If substring is not found, the method returns -1. Optional arguments _start_ and _end_ are interpreted as in slice notation|\n",
    "| replace(_old_, _new_[, _count_]) | The _old_ and _new_ arguments are both strings. The method returns a copy of the string with __all instances__ of _old_ replaced by _new_. If the optional argument _count_ is given, only the first _count_ occurrences are replaced.|\n"
   ]
  },
  {
   "cell_type": "markdown",
   "metadata": {},
   "source": [
    "7. Write programs that ask for user input a string and use the above methods to check the following.:\n",
    "\n",
    "* Check whether the input starts with the letter **his** or **geo**.\n",
    "* Check whether the input end with the letter **one** or **ese**.\n",
    "* Ask for a second input and check whether the second input is in the first input.\n",
    "* Ask for a second and third input.  The second input is the string to be replaced and the third input is the string for the replacement. Print out the final string after the replacement.\n",
    "\n",
    "Demonstrate your programs work by providing meaningful test cases. "
   ]
  },
  {
   "cell_type": "code",
   "execution_count": 41,
   "metadata": {},
   "outputs": [
    {
     "name": "stdout",
     "output_type": "stream",
     "text": [
      "Enter string: his one bloody goose\n",
      "Enter string 2: one bloody\n",
      "Enter string 3: TWO BLOODY ROTTING DEAD\n",
      "True\n",
      "False\n",
      "False\n",
      "False\n",
      "True\n",
      "his TWO BLOODY ROTTING DEAD goose\n"
     ]
    }
   ],
   "source": [
    "def checkStr(s):\n",
    "    print(s.startswith(\"his\") or s.startswith(\"geo\"))\n",
    "    print(s.endswith(\"one\") or s.endswith(\"ese\"))\n",
    "\n",
    "s = input(\"Enter string: \")\n",
    "s2 = input(\"Enter string 2: \")\n",
    "s3 = input(\"Enter string 3: \")\n",
    "\n",
    "checkStr(s); checkStr(s2)\n",
    "\n",
    "print(s2 in s)\n",
    "print(s.replace(s2, s3))"
   ]
  },
  {
   "cell_type": "markdown",
   "metadata": {},
   "source": [
    "### Other String Method\n",
    "\n",
    "| Method | Description |\n",
    "|:--- | :--- |\n",
    "| count(_substring_ [, _start_ [, _end_]]) | The _substring_ argument is a string.  The method returns the number of non-overlapping occurrences of substring in the string.  Optional arguments _start_ and _end_ are interpreted as in slice notation.|\n",
    "| split([_sep_]) | Return the list of the words in the string, using _sep_ as the delimiter string. If _sep_ is not specified, any whitespace string is a seperator."
   ]
  },
  {
   "cell_type": "markdown",
   "metadata": {},
   "source": [
    "8. Write programs that ask for user input a string and use the above methods to check the following.:\n",
    "\n",
    "* Ask for a second input : a letter or a string. Output the number of non-overlapping occurrences of the second input in the\n",
    "    first input.\n",
    "* Ask the user to key in a sentence and output all the words of the sentence.\n",
    "\n",
    "Demonstrate your programs work by providing meaningful test cases. "
   ]
  },
  {
   "cell_type": "markdown",
   "metadata": {},
   "source": [
    "9.  Assume that the variable **myString** refers to a string. Write a code segment that uses a loop to print the characters of the string in reverse order."
   ]
  },
  {
   "cell_type": "code",
   "execution_count": 27,
   "metadata": {},
   "outputs": [
    {
     "name": "stdout",
     "output_type": "stream",
     "text": [
      "oamLretset\n"
     ]
    }
   ],
   "source": [
    "# 1\n",
    "myString = \"testerLmao\"\n",
    "\n",
    "revString = \"\"\n",
    "for c in reversed(myString):\n",
    "    revString += c\n",
    "print(revString)"
   ]
  },
  {
   "cell_type": "markdown",
   "metadata": {},
   "source": [
    "10. Write a program that accepts as input a sentence in which all of the words are run together but the first character of each word is uppercase. Convert the sentence to a string in which the words are separated by spaces and only the first word starts with an uppercase letter. For example, the string \"StopAndSmellTheRoses.\" would be converted to \"Stop and smell the roses.\""
   ]
  },
  {
   "cell_type": "code",
   "execution_count": 28,
   "metadata": {},
   "outputs": [
    {
     "name": "stdout",
     "output_type": "stream",
     "text": [
      "Enter string: StopAndSmellTheRoses\n",
      "Stop and smell the roses\n"
     ]
    }
   ],
   "source": [
    "# 2\n",
    "\n",
    "s = input(\"Enter string: \").strip()\n",
    "\n",
    "newStr = \"\"\n",
    "for i,c in enumerate(s):\n",
    "    if c.isupper() and i!=0:\n",
    "        newStr += \" \" + c.lower()\n",
    "    else:\n",
    "        newStr += c\n",
    "\n",
    "print(newStr)"
   ]
  },
  {
   "cell_type": "markdown",
   "metadata": {},
   "source": [
    "11. Write a program that gets a string containing a person's name - family name and given name and then display the family name and given name initials. For example, if the user enters Tan Heng Liang, the program should display T. H. L.\n",
    "\n",
    "```\n",
    "Hint: You might need to use 'for ch in string', split()\n",
    "```"
   ]
  },
  {
   "cell_type": "code",
   "execution_count": 33,
   "metadata": {},
   "outputs": [
    {
     "name": "stdout",
     "output_type": "stream",
     "text": [
      "Enter name: Tan Heng Liang\n",
      "Formatted: Tan H. L. \n"
     ]
    }
   ],
   "source": [
    "names = input(\"Enter name: \")\n",
    "names = names.split()\n",
    "fmtName = \"\"\n",
    "\n",
    "fmtName += names[0] + \" \"\n",
    "\n",
    "given_names = names[1:]\n",
    "for name in given_names:\n",
    "    fmtName += name[0].upper() + \". \"\n",
    "    \n",
    "print(f\"Formatted: {fmtName}\")"
   ]
  },
  {
   "cell_type": "markdown",
   "metadata": {},
   "source": [
    "12. Write a program that takes a list of words and returns the longest word and it's length in the list of words. If there are a few of them, display all of them separated by commas. Do not use list in your program except the result of split() funciton.\n",
    "\n",
    "```\n",
    "Use this as the list of words: 'Lorem ipsum dolor sit amet, consectetur adipiscing elit. In a massa bibendum, consectetur urna scelerisque, tincidunt purus. Quisque consequat, libero ac rutrum convallis, nisi est volutpat odio, eget eleifend libero massa ac ligula.'\n",
    "```"
   ]
  },
  {
   "cell_type": "code",
   "execution_count": 70,
   "metadata": {},
   "outputs": [
    {
     "name": "stdout",
     "output_type": "stream",
     "text": [
      "Longest words: consectetur consectetur scelerisque\n",
      "Length: 1\n"
     ]
    }
   ],
   "source": [
    "s = \"Lorem ipsum dolor sit amet, consectetur adipiscing elit. In a massa bibendum, consectetur urna scelerisque, tincidunt purus. Quisque consequat, libero ac rutrum convallis, nisi est volutpat odio, eget eleifend libero massa ac ligula.\"\n",
    "\n",
    "longestWords = \"\"\n",
    "for w in s.split():\n",
    "    w = w.replace(\",\", \"\")\n",
    "    lHighest = len(longestWords.split()[0]) if len(longestWords)>0 else 0\n",
    "    if len(w) > lHighest:\n",
    "        longestWords = w\n",
    "    elif len(w) == lHighest: \n",
    "        longestWords += \" \" + w \n",
    "\n",
    "print(f\"Longest words: {longestWords}\")\n",
    "print(f\"Length: {len(longestWords[0])}\")"
   ]
  },
  {
   "cell_type": "markdown",
   "metadata": {},
   "source": [
    "13. Write a program that lets the user enter a string and displays the character that appears most frequently in the string.\n",
    "```\n",
    "Hint: You might need to use 'for n in range()', count(), chr()\n",
    "```"
   ]
  },
  {
   "cell_type": "code",
   "execution_count": null,
   "metadata": {},
   "outputs": [],
   "source": [
    "s = input(\"Enter string: \")\n",
    "\n",
    "charLens = [0] * 256\n",
    "\n",
    "highestChar = ''\n",
    "highestLen = 0\n",
    "\n",
    "for c in "
   ]
  },
  {
   "cell_type": "markdown",
   "metadata": {},
   "source": [
    "14. Write a program to determine whether a word entered by the user contains all five vowels (A,E,I,O,U) in alphabetical order. Do not use list in your program except the result of split() funciton."
   ]
  },
  {
   "cell_type": "code",
   "execution_count": 69,
   "metadata": {},
   "outputs": [
    {
     "name": "stdout",
     "output_type": "stream",
     "text": [
      "Enter string: aeouaeiou\n",
      "True\n"
     ]
    }
   ],
   "source": [
    "s = input(\"Enter string: \")\n",
    "\n",
    "vowels = \"aeiou\"\n",
    "lastId = -1\n",
    "success = False\n",
    "finished = False\n",
    "while not (success or finished):\n",
    "    for c in s:\n",
    "        if c not in vowels:\n",
    "            continue\n",
    "            \n",
    "        vowelId = vowels.index(c)\n",
    "        if vowelId == lastId+1:\n",
    "            lastId = vowelId\n",
    "        else:\n",
    "            lastId = 0\n",
    "            \n",
    "        if lastId == 4:\n",
    "            success = True\n",
    "    finished = True\n",
    "    \n",
    "\n",
    "print(success)"
   ]
  },
  {
   "cell_type": "markdown",
   "metadata": {},
   "source": [
    "15. The components of the URL are combined and delimited as follows: \n",
    "\n",
    "```\n",
    "    scheme://host:port/path?query\n",
    "```\n",
    "    a. The scheme is followed by a colon and two forward slashes.\n",
    "    b. If a port number is specified, that number follows the host name, separated by a colon.\n",
    "    c. The path name begins with a single forward slash.\n",
    "    d. If a query string is specified, it is preceded by a question mark.\n",
    "\n",
    "Write a program that accept a URL and print out the Scheme, port number(if given in the URL), the path and the query string (if given in the URL)\n",
    "\n",
    "An example of an URL is http://www.example.com:1030/software/index.html?ID=1234"
   ]
  },
  {
   "cell_type": "code",
   "execution_count": 93,
   "metadata": {},
   "outputs": [
    {
     "name": "stdout",
     "output_type": "stream",
     "text": [
      "Enter URL: http://www.example.com/software/index.html?ID=1234\n",
      "Scheme: http\n",
      "Host: www.example.com\n",
      "Port: \n",
      "Path: software/index.html\n",
      "Query: ID=1234\n"
     ]
    }
   ],
   "source": [
    "url = input(\"Enter URL: \")\n",
    "delims = [\"://\", \":\", \"/\", \"?\"]\n",
    "fields = [\"\"] * 5\n",
    "\n",
    "for i, delim in enumerate(delims):\n",
    "    if delim not in url:\n",
    "        fields[i+1] = \"\"\n",
    "        continue\n",
    "    field, url = url.split(delim)[0], delim.join(url.split(delim)[1:])\n",
    "    fields[i] = field\n",
    "fields[4] = url\n",
    "\n",
    "if fields[1] == \"\":\n",
    "    fields[1], fields[2] = fields[2], \"\"\n",
    "    \n",
    "print(f\"Scheme: {fields[0]}\")    \n",
    "print(f\"Host: {fields[1]}\")  \n",
    "print(f\"Port: {fields[2]}\")  \n",
    "print(f\"Path: {fields[3]}\")  \n",
    "print(f\"Query: {fields[4]}\")  "
   ]
  },
  {
   "cell_type": "markdown",
   "metadata": {},
   "source": [
    "16. Write a script to prompt the user for the names of two text files. The contents of the first file should be input and written to the second file. You may use the text file in Tutorial 5 question 6 for testing purpose."
   ]
  },
  {
   "cell_type": "code",
   "execution_count": null,
   "metadata": {},
   "outputs": [],
   "source": [
    "import os\n",
    "\n",
    "name1 = input(\"Enter file 1: \")\n",
    "name2 = input(\"Enter file 2: \")\n",
    "file1 = open(name1, 'r')\n",
    "file2 = open(name2, 'w')\n",
    "\n",
    "file2.write(file1.read())"
   ]
  },
  {
   "cell_type": "markdown",
   "metadata": {},
   "source": [
    "17. The Payroll Department keeps a list of employee information for each pay period in a text file. The format of each line of the file is the following:\n",
    "\n",
    "```<last name>  <hourly wage>  <hours worked>```\n",
    "\n",
    "Write a program that inputs a filename from the user and prints to the terminal a report of the wages paid to the employees for the given period. The report should be in tabular format with the appropriate header. Each line should contain an employee’s name, the hours worked and the wages paid for that period."
   ]
  },
  {
   "cell_type": "code",
   "execution_count": null,
   "metadata": {},
   "outputs": [],
   "source": []
  },
  {
   "cell_type": "markdown",
   "metadata": {},
   "source": [
    "18. The file **comp.txt** stores a list of single word computing terms used in a text book.\n",
    "Each entry has the following format:\n",
    "```\n",
    "        <computing term>\n",
    "        <number>\n",
    "```\n",
    "One of the entries is:\n",
    "```\n",
    "        program\n",
    "        52\n",
    "```\n",
    "This means that after a complete scan of the textbook the word \"program\" was found 52 times. \n",
    "Using the file **comp.txt**, write a program code to find and output the term with the highest number of occurrences.\n",
    "(Assume that there is only one term exists with the highest number of occurrences"
   ]
  },
  {
   "cell_type": "code",
   "execution_count": null,
   "metadata": {},
   "outputs": [],
   "source": []
  },
  {
   "cell_type": "markdown",
   "metadata": {},
   "source": [
    "19. Write a program that allow the user to key name, age, gender, contact number as many time as possible. \n",
    "Format the input as a string name|age|gender|contactnumber and write the formated string to a file. \n",
    "Each string should ends with '\\n'\n",
    "\n",
    "Name the file as 'records.txt'\n",
    "\n",
    "Run your code and check the contents of the file.\n",
    "\n",
    "```\n",
    "Alan|12|M|1234567\n",
    "Allen|12|F|7654321\n",
    "```"
   ]
  },
  {
   "cell_type": "markdown",
   "metadata": {},
   "source": []
  },
  {
   "cell_type": "markdown",
   "metadata": {},
   "source": [
    "20. Read the file ***records.txt*** which you have created from the last exercise. Display the contents of each line on the screen. Write 2 program, one uses a for loop, the other using a while loop.  \n",
    "\n",
    "An example of the output :\n",
    "\n",
    "```\n",
    "Name   : Alan\n",
    "Age    : 10\n",
    "Gender : M\n",
    "Contact: 1234567\n",
    "...\n",
    "...\n",
    "...\n",
    "\n",
    "Number of records : 2\n",
    "```"
   ]
  },
  {
   "cell_type": "code",
   "execution_count": null,
   "metadata": {},
   "outputs": [],
   "source": []
  },
  {
   "cell_type": "markdown",
   "metadata": {},
   "source": [
    "### Strings are immutable\n",
    "\n",
    "In Python, strings are immutable, which means that once they are created, they cannot be changed.\n",
    "\n",
    "__Example__\n",
    "\n",
    "```\n",
    "stringX = 'Lorem ipsum'\n",
    "print(\"1. ID of stringX is {} and value of stringX is {}\".format(id(stringX), stringX))\n",
    "stringX = stringX + 'dolor sit amet'\n",
    "print(\"2. ID of stringX is {} and value of stringX is {}\".format(id(stringX), stringX))\n",
    "\n",
    "```\n",
    "Running the above code ...\n",
    "\n",
    "```\n",
    "1. ID of stringX is 1794341041712 and value of stringX is Lorem ipsum\n",
    "2. ID of stringX is 1794340953024 and value of stringX is Lorem ipsumdolor sit amet\n",
    "```\n",
    "\n",
    "Copy the python code above and try running it. Is the ID of stringX the same? Why?\n"
   ]
  },
  {
   "cell_type": "code",
   "execution_count": null,
   "metadata": {},
   "outputs": [],
   "source": []
  },
  {
   "cell_type": "markdown",
   "metadata": {},
   "source": [
    "\n",
    "As strings are immutable, we cannot use an expression in the form _string[index]_ on the left hand side of an assignment operator.\n",
    "\n",
    "```\n",
    "stringZ = 'Lorem ipsum'\n",
    "stringZ[0]='Z'\n",
    "```\n",
    "Running the above code ...\n",
    "```\n",
    "TypeError                                 Traceback (most recent call last)\n",
    "<ipython-input-9-713b879717f6> in <module>()\n",
    "      1 stringZ = 'Lorem ipsum'\n",
    "----> 2 stringZ[0]='Z'\n",
    "\n",
    "TypeError: 'str' object does not support item assignment\n",
    "```\n",
    "\n",
    "Copy the python code above and try running it."
   ]
  },
  {
   "cell_type": "code",
   "execution_count": null,
   "metadata": {},
   "outputs": [],
   "source": []
  }
 ],
 "metadata": {
  "kernelspec": {
   "display_name": "Python 3 (ipykernel)",
   "language": "python",
   "name": "python3"
  },
  "language_info": {
   "codemirror_mode": {
    "name": "ipython",
    "version": 3
   },
   "file_extension": ".py",
   "mimetype": "text/x-python",
   "name": "python",
   "nbconvert_exporter": "python",
   "pygments_lexer": "ipython3",
   "version": "3.10.10"
  }
 },
 "nbformat": 4,
 "nbformat_minor": 4
}
