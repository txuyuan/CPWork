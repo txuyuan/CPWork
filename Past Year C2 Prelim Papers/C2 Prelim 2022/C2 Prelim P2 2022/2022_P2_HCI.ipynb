{
 "cells": [
  {
   "cell_type": "markdown",
   "id": "a2f27269",
   "metadata": {},
   "source": [
    "### Task 1\n",
    "Design a computer program to simulate the survival game of a soldier inside a minefield.\n",
    "\n",
    "The minefield is to be represented on the screen by a nxn square grid where n is an odd integer. Each cell of the grid is represented by an x-coordinate and a y-coordinate. The top left cell display has x = 0 and y = 0.\n",
    "\n",
    "A cell without any mine is displayed as ‘.’ and a cell with mine is displayed as ‘M’. The soldier is displayed as ‘S’, standing at the centre of the grid at the beginning of the game.\n",
    "\n",
    "For example, a minefield of 5x5 with mines at (0, 1), (2, 3) is displayed as\n",
    "\n",
    "    .  M  .  .  .\n",
    "    .  .  .  .  .\n",
    "    .  .  S  M  .\n",
    "    .  .  .  .  .\n",
    "    .  .  .  .  ."
   ]
  },
  {
   "cell_type": "markdown",
   "id": "6df2593c",
   "metadata": {},
   "source": [
    "#### Task 1.1\n",
    "The text file MINEFIELD.TXT provides the size of the minefield and the coordinates of the mines. The first line of the file is the value of n and the subsequent lines are formatted as\n",
    "\n",
    "`<x-coordiante>,<y-coordiante>`\n",
    "\n",
    "Write program code to\n",
    "- read the text file\n",
    "- create the data structure to represent the grid\n",
    "- display the minefield with soldier and the mines in it                                                 \n",
    "                                                                                                    [5]"
   ]
  },
  {
   "cell_type": "code",
   "execution_count": 38,
   "id": "0c1b9040",
   "metadata": {},
   "outputs": [
    {
     "name": "stdout",
     "output_type": "stream",
     "text": [
      ". . . . . . .\n",
      ". . . . . . .\n",
      "M . . . . . .\n",
      ". M . S . M .\n",
      ". . . M . . .\n",
      ". . . . . . .\n",
      ". . M . . . .\n"
     ]
    }
   ],
   "source": [
    "def print_grid(grid):\n",
    "    for line in grid:\n",
    "        print(\" \".join(line))\n",
    "\n",
    "with open(\"MINEFIELD.txt\", \"r\") as file:\n",
    "    # File closes automatically\n",
    "    grid_size = int(file.readline().strip())\n",
    "    grid = [[\".\" for _ in range(grid_size)] for _ in range(grid_size)]\n",
    "    for line in file:\n",
    "        coordinates = line.strip().split(\",\")\n",
    "        minex = int(coordinates[0])\n",
    "        miney = int(coordinates[1])\n",
    "        grid[miney][minex] = \"M\"\n",
    "\n",
    "x = y = grid_size // 2\n",
    "grid[y][x] = \"S\"\n",
    "print_grid(grid)"
   ]
  },
  {
   "cell_type": "markdown",
   "id": "f556f084",
   "metadata": {},
   "source": [
    "#### Task 1.2\n",
    "The soldier attempts to walk out of the minefield. Each time he sets off he is equally likely to go UP, DOWN, LEFT, or RIGHT. When he moves onto a safe cell without mine, the cell is displayed as ‘P’ instead. He loses the game once stepping onto a mine. Otherwise, when he walks safely to any of the four boundaries, he wins the game.\n",
    "\n",
    "Using the data structure created from Task 1.1, write program code to simulate the game. When the game ends, display the steps he takes, the grid and the outcome. Below is a sample run. \n",
    "\n",
    "        STEPS: LEFT UP LEFT LEFT\n",
    "        . . M . . . .\n",
    "        . . . M . . .\n",
    "        P P P . . . M\n",
    "        . . P S M . .\n",
    "        . . . . . . .\n",
    "        . . . M . . .\n",
    "        . . . . . . .\n",
    "        WIN! You walked to the baundary!\n",
    "                                                                                        [10]"
   ]
  },
  {
   "cell_type": "code",
   "execution_count": 39,
   "id": "cc22482c",
   "metadata": {},
   "outputs": [
    {
     "name": "stdout",
     "output_type": "stream",
     "text": [
      "LEFT LEFT \n",
      ". . . . . . .\n",
      ". . . . . . .\n",
      "M . . . . . .\n",
      ". S P P . M .\n",
      ". . . M . . .\n",
      ". . . . . . .\n",
      ". . M . . . .\n",
      "You died, :melt-face:\n"
     ]
    }
   ],
   "source": [
    "import random\n",
    "\n",
    "win = False\n",
    "dead = False\n",
    "while not (win or dead):\n",
    "    dx, dy = 0, 0\n",
    "    rand = random.randint(0, 4)\n",
    "    if rand == 0:\n",
    "        print(\"LEFT\", end=\" \")\n",
    "        dx = -1\n",
    "    elif rand==1:\n",
    "        print(\"RIGHT\", end=\" \")\n",
    "        dx = 1\n",
    "    elif rand==2:\n",
    "        print(\"UP\", end=\" \")\n",
    "        dy = -1\n",
    "    elif rand == 3:\n",
    "        print(\"DOWN\", end=\" \")\n",
    "        dy = 1\n",
    "\n",
    "    grid[y][x] = \"P\"\n",
    "    x += dx\n",
    "    y += dy\n",
    "    \n",
    "    if grid[y][x] == \"M\":\n",
    "        dead = True\n",
    "    else:\n",
    "        if x == 0 or y == 0 or x == grid_size-1 or y == grid_size-1:\n",
    "            win = True\n",
    "            grid[y][x] = \"P\"\n",
    "    grid[y][x] = \"S\"\n",
    "print()\n",
    "\n",
    "print_grid(grid)\n",
    "\n",
    "if win:\n",
    "    print(\"Congrats, you made it to the edge!\")\n",
    "if dead:\n",
    "    print(\"You died, :melt-face:\")"
   ]
  },
  {
   "cell_type": "markdown",
   "id": "05805483",
   "metadata": {},
   "source": [
    "### Task 2\n",
    "A school library club polled its members and created a list of 18 recommended classics. The list is saved in a file named `booklist.csv` stating the book title, author and year of publication."
   ]
  },
  {
   "cell_type": "markdown",
   "id": "d6394910",
   "metadata": {},
   "source": [
    "#### Task 2.1\n",
    "Write a function `read_csv(filename)` which\n",
    "- reads a csv file, `filename`\n",
    "- stores the records in an array with 3 columns `title`, `author` and `year`\n",
    "- `title`, `author` and `year` all stored as strings\n",
    "- returns the array\n",
    "\n",
    "Use the following code to test your function.\n",
    "\n",
    "    books_array = read_csv(“booklist.csv”)\n",
    "    print(len(books_array))\n",
    "    print(books_array)\n",
    "                                                                                [4]"
   ]
  },
  {
   "cell_type": "code",
   "execution_count": 77,
   "id": "848adcf7",
   "metadata": {},
   "outputs": [
    {
     "name": "stdout",
     "output_type": "stream",
     "text": [
      "18\n",
      "[['White Fang', 'Jack London', '1906'], ['The Wind in the Willows', 'Kenneth Grahame', '1908'], ['Moby Dick', 'Herman Melville', '1851'], ['Jane Eyre', 'Charlotte Bronte', '1847'], ['The Picture of Dorian Gray', 'Oscar Wilde', '1890'], ['The Three Musketeers', 'Alexandre Dumas', '1844'], ['Persuasion', 'Jane Austen', '1817'], ['Dream of the Red Chamber', 'Cao Xueqin', '1791'], ['Little Women', 'Louisa May Alcott', '1868'], ['The Phantom of the Opera', 'Gaston Leroux', '1909'], ['Water Margin', 'Shi Naian', '1450'], ['A Christmas Carol', 'Charles Dickens', '1843'], ['One Hundred Years of Solitude', 'Gabriel Garcia Marquez', '1967'], ['Nineteen Eighty-Four', 'George Orwell', '1949'], ['Journey to the West', 'Wu Chengen', '1592'], ['Romance of the Three Kingdoms', 'Luo Guanzhong', '1522'], ['Fahrenheit 451', 'Ray Bradbury', '1953'], ['War and Peace', 'Leo Tolstoy', '1867']]\n"
     ]
    }
   ],
   "source": [
    "def read_csv(filename):\n",
    "    booklist = []\n",
    "    with open(filename, \"r\") as file:\n",
    "        # File auto closes\n",
    "        for line in file:\n",
    "            book = line.strip().split(\",\")\n",
    "            booklist += [book]\n",
    "    return booklist\n",
    "\n",
    "books_array = read_csv(\"booklist.csv\")\n",
    "print(len(books_array))\n",
    "print(books_array)"
   ]
  },
  {
   "cell_type": "markdown",
   "id": "aee9577b",
   "metadata": {},
   "source": [
    "#### Task 2.2\n",
    "As the data is not suitably ordered, a sort algorithm is required.\n",
    "\n",
    "Write a function to implement a bubble sort algorithm `bubble(array, sort_key)` which sorts `array` by the `sort_key` provided.\n",
    "\n",
    "- The `sort_key` should be one of the values \"`title`\", \"`author`\" or \"`year`\"\n",
    "- The function will return the sorted `array` in ascending order\n",
    "- The function will give a return of `-1` if an invalid `sort_key` is provided\n",
    "\n",
    "Use the following code to test your function.\n",
    "\n",
    "    print(bubble(books_array, \"title\"))\n",
    "    print(bubble(books_array, \"ISBN\"))\n",
    "                                                                                                [6]"
   ]
  },
  {
   "cell_type": "code",
   "execution_count": 79,
   "id": "dbc68eb4",
   "metadata": {},
   "outputs": [
    {
     "name": "stdout",
     "output_type": "stream",
     "text": [
      "[['Water Margin', 'Shi Naian', '1450'], ['Romance of the Three Kingdoms', 'Luo Guanzhong', '1522'], ['Journey to the West', 'Wu Chengen', '1592'], ['Dream of the Red Chamber', 'Cao Xueqin', '1791'], ['Persuasion', 'Jane Austen', '1817'], ['A Christmas Carol', 'Charles Dickens', '1843'], ['The Three Musketeers', 'Alexandre Dumas', '1844'], ['Jane Eyre', 'Charlotte Bronte', '1847'], ['Moby Dick', 'Herman Melville', '1851'], ['War and Peace', 'Leo Tolstoy', '1867'], ['Little Women', 'Louisa May Alcott', '1868'], ['The Picture of Dorian Gray', 'Oscar Wilde', '1890'], ['White Fang', 'Jack London', '1906'], ['The Wind in the Willows', 'Kenneth Grahame', '1908'], ['The Phantom of the Opera', 'Gaston Leroux', '1909'], ['Nineteen Eighty-Four', 'George Orwell', '1949'], ['Fahrenheit 451', 'Ray Bradbury', '1953'], ['One Hundred Years of Solitude', 'Gabriel Garcia Marquez', '1967']]\n",
      "-1\n"
     ]
    }
   ],
   "source": [
    "columns = [\"title\", \"author\", \"year\"]\n",
    "\n",
    "def is_after(x, y, key):\n",
    "    index = columns.index(key)\n",
    "    return x[index] > y[index]\n",
    "\n",
    "def bubble(array, sort_key):\n",
    "    if sort_key not in columns:\n",
    "        return -1\n",
    "        \n",
    "    sorted = False\n",
    "    i = 0\n",
    "    while not sorted:\n",
    "        sorted = True\n",
    "        for j in reversed(range(i, len(array)-1)):\n",
    "            if is_after(array[j], array[j+1], sort_key):\n",
    "                sorted = False\n",
    "                array[j], array[j+1] = array[j+1], array[j]\n",
    "        i += 1\n",
    "                \n",
    "    return array\n",
    "    \n",
    "print(bubble(books_array, \"year\"))\n",
    "print(bubble(books_array, \"ISBN\"))"
   ]
  },
  {
   "cell_type": "markdown",
   "id": "9dcc5c60",
   "metadata": {},
   "source": [
    "#### Task 2.3\n",
    "When the same algorithm was used on the entire library catalogue, it was deemed to be too slow.\n",
    "\n",
    "Write a function to implement a merge sort algorithm merge(array, sort_key) which sorts array by the sort_key provided.\n",
    "\n",
    "- The sort_key should be one of the values \"title\", \"author\" or \"year\"\n",
    "- The function will return the sorted array in ascending order\n",
    "- The function will give a return of -1 if an invalid sort_key is provided\n",
    "\n",
    "Use the following code to test your function.\n",
    "    \n",
    "    print(merge(books_array, \"author\"))\n",
    "    print(merge(books_array, \"year\")) \n",
    "                                                                                                                    [7]"
   ]
  },
  {
   "cell_type": "code",
   "execution_count": 50,
   "id": "9eb010ea",
   "metadata": {},
   "outputs": [
    {
     "name": "stdout",
     "output_type": "stream",
     "text": [
      "[['The Three Musketeers', 'Alexandre Dumas', '1844'], ['Dream of the Red Chamber', 'Cao Xueqin', '1791'], ['A Christmas Carol', 'Charles Dickens', '1843'], ['Jane Eyre', 'Charlotte Bronte', '1847'], ['One Hundred Years of Solitude', 'Gabriel Garcia Marquez', '1967'], ['The Phantom of the Opera', 'Gaston Leroux', '1909'], ['Nineteen Eighty-Four', 'George Orwell', '1949'], ['Moby Dick', 'Herman Melville', '1851'], ['White Fang', 'Jack London', '1906'], ['Persuasion', 'Jane Austen', '1817'], ['The Wind in the Willows', 'Kenneth Grahame', '1908'], ['War and Peace', 'Leo Tolstoy', '1867'], ['Little Women', 'Louisa May Alcott', '1868'], ['Romance of the Three Kingdoms', 'Luo Guanzhong', '1522'], ['The Picture of Dorian Gray', 'Oscar Wilde', '1890'], ['Fahrenheit 451', 'Ray Bradbury', '1953'], ['Water Margin', 'Shi Naian', '1450'], ['Journey to the West', 'Wu Chengen', '1592']]\n",
      "\n",
      "[['Water Margin', 'Shi Naian', '1450'], ['Romance of the Three Kingdoms', 'Luo Guanzhong', '1522'], ['Journey to the West', 'Wu Chengen', '1592'], ['Dream of the Red Chamber', 'Cao Xueqin', '1791'], ['Persuasion', 'Jane Austen', '1817'], ['A Christmas Carol', 'Charles Dickens', '1843'], ['The Three Musketeers', 'Alexandre Dumas', '1844'], ['Jane Eyre', 'Charlotte Bronte', '1847'], ['Moby Dick', 'Herman Melville', '1851'], ['War and Peace', 'Leo Tolstoy', '1867'], ['Little Women', 'Louisa May Alcott', '1868'], ['The Picture of Dorian Gray', 'Oscar Wilde', '1890'], ['White Fang', 'Jack London', '1906'], ['The Wind in the Willows', 'Kenneth Grahame', '1908'], ['The Phantom of the Opera', 'Gaston Leroux', '1909'], ['Nineteen Eighty-Four', 'George Orwell', '1949'], ['Fahrenheit 451', 'Ray Bradbury', '1953'], ['One Hundred Years of Solitude', 'Gabriel Garcia Marquez', '1967']]\n"
     ]
    }
   ],
   "source": [
    "def merge(array, sort_key, low=0, high=None):\n",
    "    if high==None:\n",
    "        high = len(array)-1\n",
    "    if low >= high:\n",
    "        return\n",
    "\n",
    "    center = (low+high)//2\n",
    "    merge(array, sort_key, low, center)\n",
    "    merge(array, sort_key, center+1, high)\n",
    "\n",
    "    left, right = low, center+1\n",
    "    while left <= center or right <= high:\n",
    "        if right > high or is_after(array[right], array[left], sort_key):\n",
    "            left += 1\n",
    "        elif left > center or is_after(array[left], array[right], sort_key):\n",
    "            temp = array[right]\n",
    "            \n",
    "            array[left+1:center+2] = array[left:center+1]\n",
    "            left += 1\n",
    "            center += 1\n",
    "            \n",
    "            array[left-1] = temp\n",
    "            right += 1\n",
    "    return array\n",
    "\n",
    "print(merge(books_array, \"author\"))\n",
    "print()\n",
    "print(merge(books_array, \"year\")) "
   ]
  },
  {
   "cell_type": "markdown",
   "id": "e56eea10",
   "metadata": {},
   "source": [
    "#### Task 2.4\n",
    "Write a function reverse(array) which reverses the order of the array, without the use of any built-in functions.\n",
    "\n",
    "Use the following code to test your function.\n",
    "\n",
    "    print(reverse([1,3,5,2,4]))\n",
    "    print(reverse([1,9,6,4])) \n",
    "                                                                                           [3]"
   ]
  },
  {
   "cell_type": "code",
   "execution_count": 52,
   "id": "2ae068b3",
   "metadata": {},
   "outputs": [
    {
     "name": "stdout",
     "output_type": "stream",
     "text": [
      "[4, 2, 5, 3, 1]\n",
      "[4, 6, 9, 1]\n"
     ]
    }
   ],
   "source": [
    "def reverse(array):\n",
    "    if len(array) > 1:\n",
    "        for i in range(len(array)//2):\n",
    "            j = len(array)-1-i\n",
    "            array[i], array[j] = array[j], array[i]\n",
    "    return array\n",
    "\n",
    "print(reverse([1,3,5,2,4]))\n",
    "print(reverse([1,9,6,4])) "
   ]
  },
  {
   "cell_type": "markdown",
   "id": "5f0f3d35",
   "metadata": {},
   "source": [
    "#### Task 2.5\n",
    "The library bought some new books and they are recorded in the file newbooks.csv. Using the function(s) you have written, write a procedure which\n",
    "\n",
    "- uses bubble sort to sort the new books starting with the most recent publication, and\n",
    "- saves the sorted new books array in a csv\n",
    "\n",
    "Save your csv file as\n",
    "\n",
    "    YEAR_<your name>_<center number>_<index number>.csv \n",
    "                                                                                                [5]"
   ]
  },
  {
   "cell_type": "code",
   "execution_count": 83,
   "id": "2619c179",
   "metadata": {},
   "outputs": [],
   "source": [
    "# Read CSV file \n",
    "booklist = read_csv(\"booklist.csv\")\n",
    "\n",
    "# Bubble sort, by publication, backwards\n",
    "bubble(booklist, \"year\")\n",
    "reverse(booklist)\n",
    "\n",
    "# Save new CSV\n",
    "csv = \"\"\n",
    "for book in booklist:\n",
    "    csv += \",\".join(book) + \"\\n\"\n",
    "with open(\"YEAR_TangXuyuan_0000_20.csv\", \"w+\") as file:\n",
    "    # File closes automatically\n",
    "    file.write(csv)"
   ]
  },
  {
   "cell_type": "markdown",
   "id": "a5c248ca",
   "metadata": {},
   "source": [
    "### Task 3\n",
    "A programmer is writing a class, LinkedList, to represent a linked list of words. A linked list is a collection of data elements, whose order is not given by their physical placement in memory. Instead, each element points to the next. "
   ]
  },
  {
   "cell_type": "markdown",
   "id": "b8aa0efb",
   "metadata": {},
   "source": [
    "#### Task 3.1\n",
    "The LinkedList class has two attributes:\n",
    "\n",
    "- head is a pointer which points to the first element in the linked list,\n",
    "- size is the number of elements in the linked list,\n",
    "\n",
    "and the following methods:\n",
    "\n",
    "- `insert(word, p)` inserts word into the linked list so that it is located in the p-th element in the linked list. If p is larger than the size of the linked list, insert word at the end of the linked list;\n",
    "- `delete(p)` deletes the p-th element in the linked list. If p is larger than the size of the linked list, delete the last element in the linked list;\n",
    "- `search(word)` returns a Boolean value: True if word is in the linked list, False if not in the linked list;\n",
    "- `to_String()` returns a string containing a suitably formatted list with the elements separated by a comma and a space, e.g. in the form: apple, carrot, banana\n",
    "\n",
    "Write program code for the class LinkedList. [15]\n",
    "\n",
    "Design a test plan and write program code to fully test the insert and search methods.\n",
    "[5]"
   ]
  },
  {
   "cell_type": "code",
   "execution_count": 113,
   "id": "96af6410",
   "metadata": {},
   "outputs": [
    {
     "name": "stdout",
     "output_type": "stream",
     "text": [
      "[]\n",
      "[0, 1, 2, 3, 4, 5, 6, 7, 8, 9, 10, 11, 12, 13, 14, 15, 16, 17, 18, 19]\n",
      "[0, 1, A, 2, 3, 4, 5, 6, 7, 8, 9, 10, 11, 12, 13, 14, 15, 16, 17, 18, 19]\n",
      "[0, 1, A, 2, 3, 4, 5, 6, 7, 8, 9, 10, 11, 12, 13, 14, 15, 16, 17, 18, 19, Z]\n",
      "[1, 2, 3, 4, 5, 6, 7, 8, 9, 10, 11, 12, 13, 14, 15, 16, 17, 18, 19]\n",
      "False\n",
      "True\n",
      "True\n",
      "True\n"
     ]
    }
   ],
   "source": [
    "import random\n",
    "\n",
    "class Node():\n",
    "    def __init__(self, data=None, ptr=None):\n",
    "        self._data = data\n",
    "        self._ptr = ptr\n",
    "\n",
    "    def get_data(self):\n",
    "        return self._data\n",
    "    def get_ptr(self):\n",
    "        return self._ptr\n",
    "    def set_data(self, data):\n",
    "        self._data = data\n",
    "    def set_ptr(self, ptr):\n",
    "        self._ptr = ptr\n",
    "\n",
    "class LinkedList():\n",
    "    def __init__(self):\n",
    "        self._head = None\n",
    "        self._size = 0\n",
    "\n",
    "    def insert(self, word, p):\n",
    "        if p < 0:\n",
    "            p += self._size + 1\n",
    "            \n",
    "        if p == 0:\n",
    "            node = Node(word, self._head)\n",
    "            self._head = node\n",
    "        else:\n",
    "            i = 0\n",
    "            prev, probe = None, self._head\n",
    "            while i < p and i < self._size:\n",
    "                i += 1\n",
    "                prev, probe = probe, probe.get_ptr()\n",
    "            node = Node(word, probe)\n",
    "            if prev != None:\n",
    "                prev.set_ptr(node)\n",
    "        self._size += 1\n",
    "\n",
    "    def delete(self, p):\n",
    "        if p == 0:\n",
    "            self._head = self._head.get_ptr()\n",
    "        else:\n",
    "            i = 0\n",
    "            prev, probe = None, self._head\n",
    "            while i < p and i < self._size-1:\n",
    "                i += 1\n",
    "                prev, probe = probe, probe.get_ptr()\n",
    "            prev.set_ptr(probe.get_ptr())\n",
    "        self._size -= 1\n",
    "\n",
    "    def search(self, word):\n",
    "        probe = self._head\n",
    "        while probe != None:\n",
    "            if probe.get_data() == word:\n",
    "                return True\n",
    "            probe = probe.get_ptr()\n",
    "        return False\n",
    "\n",
    "    def to_String(self):\n",
    "        if self._size == 0:\n",
    "            return \"[]\"\n",
    "        s = str(self._head.get_data())\n",
    "        probe = self._head.get_ptr()\n",
    "        while probe != None:\n",
    "            s += \", \" + str(probe.get_data())\n",
    "            probe = probe.get_ptr()\n",
    "        return \"[\" + s + \"]\"\n",
    "\n",
    "# Test Program\n",
    "lst = LinkedList()\n",
    "print(lst.to_String())\n",
    "\n",
    "for i in range(20):\n",
    "    lst.insert(i, i)\n",
    "print(lst.to_String())\n",
    " \n",
    "lst.insert(\"A\", 2)\n",
    "print(lst.to_String())\n",
    "\n",
    "lst.insert(\"Z\", 200)\n",
    "print(lst.to_String())\n",
    "\n",
    "lst.delete(2)\n",
    "lst.delete(200)\n",
    "lst.delete(0)\n",
    "print(lst.to_String())\n",
    "\n",
    "print(lst.search(-1))\n",
    "print(lst.search(1))\n",
    "print(lst.search(19))\n",
    "print(lst.search(8))"
   ]
  },
  {
   "cell_type": "markdown",
   "id": "ea46392b",
   "metadata": {},
   "source": [
    "#### Task 3.2\n",
    "Write a subclass Stack using LinkedList as its superclass.\n",
    "\n",
    "Additional push and pop methods are to be defined on the Stack class:\n",
    "\n",
    "- `push(word)` will insert word to the top of the stack\n",
    "- `pop()` will delete the top element from the stack\n",
    "\n",
    "Write program code for the Stack class. Test your Stack class by writing program code which does the following:\n",
    "\n",
    "- create an empty stack\n",
    "- push ‘apple’, ‘pear’, ‘carrot’ onto the stack, in that order\n",
    "- pop from the stack\n",
    "- display the elements in order \n",
    "                                                                                    [3]"
   ]
  },
  {
   "cell_type": "code",
   "execution_count": 104,
   "id": "db2f8a18",
   "metadata": {},
   "outputs": [
    {
     "name": "stdout",
     "output_type": "stream",
     "text": [
      "[pear, apple]\n"
     ]
    }
   ],
   "source": [
    "class Stack(LinkedList):\n",
    "    def __init__(self):\n",
    "        super().__init__()\n",
    "\n",
    "    def push(self, word):\n",
    "        super().insert(word, 0)\n",
    "\n",
    "    def pop(self):\n",
    "        if self._head == None:\n",
    "            print(\"Nothing to pop!\")\n",
    "            return None\n",
    "        else:\n",
    "            value = self._head.get_data()\n",
    "            self.delete(0)\n",
    "            return value\n",
    "\n",
    "stack = Stack()\n",
    "stack.push(\"apple\")\n",
    "stack.push(\"pear\")\n",
    "stack.push(\"carrot\")\n",
    "\n",
    "stack.pop()\n",
    "print(stack.to_String())"
   ]
  },
  {
   "cell_type": "markdown",
   "id": "f54cfe6e",
   "metadata": {},
   "source": [
    "#### Task 3.3\n",
    "Write a subclass Queue using LinkedList as its superclass.\n",
    "\n",
    "Additional enqueue and dequeue methods are to be defined on the Queue class:\n",
    "\n",
    "- `enqueue(word)` will insert word to the end of the queue\n",
    "- `dequeue()` will delete the first element in the queue\n",
    "\n",
    "Write program code for the Queue class. Test your Queue class by writing program code which does the following:\n",
    "\n",
    "- create an empty queue\n",
    "- enqueue ‘apple’, ‘pear’, ‘carrot’ to the queue, in that order\n",
    "- dequeue from the queue\n",
    "- display the elements in order [3]"
   ]
  },
  {
   "cell_type": "code",
   "execution_count": 115,
   "id": "72a8e726",
   "metadata": {},
   "outputs": [
    {
     "name": "stdout",
     "output_type": "stream",
     "text": [
      "[pear, carrot]\n"
     ]
    }
   ],
   "source": [
    "class Queue(LinkedList):\n",
    "    def __init__(self):\n",
    "        super().__init__()\n",
    "\n",
    "    def enqueue(self, word):\n",
    "        self.insert(word, -1)\n",
    "\n",
    "    def dequeue(self):\n",
    "        self.delete(0)\n",
    "\n",
    "queue = Queue()\n",
    "queue.enqueue(\"apple\")\n",
    "queue.enqueue(\"pear\")\n",
    "queue.enqueue(\"carrot\")\n",
    "queue.dequeue()\n",
    "\n",
    "print(queue.to_String())"
   ]
  },
  {
   "cell_type": "markdown",
   "id": "2244e92d",
   "metadata": {},
   "source": [
    "### Task 4\n",
    "A school stores students’ health information in a database, students.db, provided with this question. Each student has a unique StudentID and can have at most one health record in the database.\n",
    "\n",
    "There are two tables:\n",
    "\n",
    "- Student(StudentID, Name, Gender)\n",
    "- StudentHealthRecord(StudentID, Weight, Height)\n",
    "\n",
    "The task is to use Python to create a web application.\n",
    "\n",
    "Save your program code as\n",
    "\n",
    "    Task4_<your name>_<center number>_<index_number>.py\n",
    "\n",
    "With any additional files/subfolders as needed in a folder named\n",
    "\n",
    "    Task4_<your name>_<center number>_<index_number>\n"
   ]
  },
  {
   "cell_type": "markdown",
   "id": "a3b0f111",
   "metadata": {},
   "source": [
    "#### Task 4.1\n",
    "Write a Python program and the necessary files to create a web application. The web application offers the following menu options:\n",
    "\n",
    "        Student health records\n",
    "        Health record statistics\n",
    "        Add health record\n",
    "\n",
    "Save your template file as Task4_1.html\n",
    "\n",
    "Save your program code in\n",
    "\n",
    "    Task4_<your name>_<center number>_<index_number>.py\n",
    "\n",
    "Run the web application and save the output of the program as\n",
    "\n",
    "    Task4_1_<your name>_<center number>_<index_number>.html [4]"
   ]
  },
  {
   "cell_type": "code",
   "execution_count": null,
   "id": "b698d2d4",
   "metadata": {},
   "outputs": [],
   "source": []
  },
  {
   "cell_type": "markdown",
   "id": "8d9c4b3c",
   "metadata": {},
   "source": [
    "#### Task 4.2\n",
    "Write an SQL query that shows:\n",
    "\n",
    "- all students’ names, gender, weight and their height\n",
    "- NULL value for weight and height for students without a health record\n",
    "- sorted by gender in ascending order, then names in descending order\n",
    "\n",
    "The results of the query should be shown on a web page in a table that:\n",
    "\n",
    "- lists the name, gender, weight and height of each student\n",
    "- has the results shown in ascending order of gender, then in descending order of names\n",
    "\n",
    "The web page should be accessed from the menu option Student health records from Task 4.1\n",
    "\n",
    "Save all your SQL code as\n",
    "\n",
    "    Task4_2_<your name>_<center number>_<index_number>.sql [3]\n",
    "\n",
    "Save your template file as Task4_2.html\n",
    "\n",
    "Save your program code in\n",
    "\n",
    "    Task4_<your name>_<center number>_<index_number>.py\n",
    "\n",
    "Run the web application and save the output of the program as\n",
    "\n",
    "    Task4_2_<your name>_<center number>_<index_number>.html [6]"
   ]
  },
  {
   "cell_type": "code",
   "execution_count": null,
   "id": "8473079d",
   "metadata": {},
   "outputs": [],
   "source": []
  },
  {
   "cell_type": "markdown",
   "id": "08748a2e",
   "metadata": {},
   "source": [
    "#### Task 4.3\n",
    "Write SQL statement(s) that shows:\n",
    "\n",
    "- the total number of male and female students\n",
    "- the average weight of male and female students\n",
    "- the average height of male and female students\n",
    "\n",
    "The results of the query should be shown on a web page in a table that shows:\n",
    "\n",
    "- the total number of male and female students\n",
    "- the average weight of male and female students\n",
    "- the average height of male and female students\n",
    "\n",
    "The web page should be accessed from the menu option Health record statistics from Task 4.1\n",
    "\n",
    "Save all your SQL code as\n",
    "\n",
    "    Task4_3_<your name>_<center number>_<index_number>.sql [4]\n",
    "\n",
    "Save your template file as Task4_3.html\n",
    "\n",
    "Save your program code in\n",
    "\n",
    "    Task4_<your name>_<center number>_<index_number>.py\n",
    "\n",
    "Run the web application and save the output of the program as\n",
    "\n",
    "    Task4_3_<your name>_<center number>_<index_number>.html [5]"
   ]
  },
  {
   "cell_type": "code",
   "execution_count": null,
   "id": "6497d13c",
   "metadata": {},
   "outputs": [],
   "source": []
  },
  {
   "cell_type": "markdown",
   "id": "56f4c547",
   "metadata": {},
   "source": [
    "#### Task 4.4\n",
    "Write an SQL statement that inserts a student record into\n",
    "\n",
    "- Student table with name 'Helen' and gender 'F'\n",
    "- StudentHealthRecord table with student ID 12, weight 48.7 and height 1.72\n",
    "\n",
    "Create a web page ~using the template Task4_4.html provided~ to add a new student health record into the database, students.db. ~Make the necessary changes in the template file provided if required~.\n",
    "\n",
    "The web page should be accessed from the menu option Add health record from Task 4.1\n",
    "\n",
    "Save all your SQL code as\n",
    "\n",
    "    Task4_4_<your name>_<center number>_<index_number>.sql [2]\n",
    "\n",
    "Save your template file as Task4_4.html\n",
    "\n",
    "Save your program code in\n",
    "    \n",
    "    Task4_<your name>_<center number>_<index_number>.py\n",
    "\n",
    "with any additional files/subfolders as needed in a folder named\n",
    "    \n",
    "    Task4_<your name>_<center number>_<index_number> [6]"
   ]
  },
  {
   "cell_type": "code",
   "execution_count": null,
   "id": "1c423123",
   "metadata": {},
   "outputs": [],
   "source": []
  }
 ],
 "metadata": {
  "kernelspec": {
   "display_name": "Python 3 (ipykernel)",
   "language": "python",
   "name": "python3"
  },
  "language_info": {
   "codemirror_mode": {
    "name": "ipython",
    "version": 3
   },
   "file_extension": ".py",
   "mimetype": "text/x-python",
   "name": "python",
   "nbconvert_exporter": "python",
   "pygments_lexer": "ipython3",
   "version": "3.12.3"
  }
 },
 "nbformat": 4,
 "nbformat_minor": 5
}
