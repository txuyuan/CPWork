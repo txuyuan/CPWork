{
 "cells": [
  {
   "cell_type": "markdown",
   "id": "4f532a26",
   "metadata": {},
   "source": [
    "### Task 1\n",
    "A programmer creates a remote-controlled robot and wants to find out how many steps it\n",
    "takes to exit a maze.\n",
    "The maze is represented by a 6 by 6 square grid. Each position in the grid is represented by\n",
    "a pair of coordinates. The top left square display has x = 0 and y = 0.\n",
    "The robot moves left, right, up or down according to a direction entered. The following are\n",
    "valid inputs:\n",
    "\n",
    "- \"U\"  : up\n",
    "- \"D\"  : down\n",
    "- \"L\"  : left\n",
    "- \"R\"  : right\n",
    "- ' ' (empty string)  : continue with prev move, else do nothing\n",
    "\n",
    "When a direction is entered, the robot moves one position in that direction. After the robot\n",
    "moves, the position it was previously on is replaced by a 'X'. The robot cannot move to the\n",
    "same spot twice. If the direction would place the robot on a wall or a position previously\n",
    "stepped on, the robot does not move. The maze is displayed after each move.\n",
    "\n",
    "The robot is denoted by 'T', the walls '#' and empty space '.'.\n",
    "\n",
    "    # # # # T #\n",
    "    # . # . . #\n",
    "    # . . . # #\n",
    "    # # . # . #\n",
    "    # . . . . #\n",
    "    # # # # # # "
   ]
  },
  {
   "cell_type": "markdown",
   "id": "e3d3ef1d",
   "metadata": {},
   "source": [
    "#### Task 1.1\n",
    "Using the maze given in MAZE.txt, write program code to:\n",
    "\n",
    "- read the maze from the text file and store it in a suitable array structure\n",
    "- randomize the exit along the last row of the maze\n",
    "- update the exit square on the grid with a '.'\n",
    "- display the maze when the robot is in its initial position at x = 4 and y = 0.\n",
    "\n",
    "Test the program and show the output.  [6]"
   ]
  },
  {
   "cell_type": "code",
   "execution_count": 67,
   "id": "b61708a3",
   "metadata": {},
   "outputs": [
    {
     "name": "stdout",
     "output_type": "stream",
     "text": [
      "# # # # T #\n",
      "# . # . . #\n",
      "# . . . # #\n",
      "# # . # . #\n",
      "# . . . . #\n",
      "# # . # # #\n"
     ]
    }
   ],
   "source": [
    "# Task 1.1\n",
    "# Started 12:24PM\n",
    "\n",
    "import random\n",
    "FILENAME = \"MAZE.txt\"\n",
    "\n",
    "def print_maze(maze):\n",
    "    for row in maze:\n",
    "        print(\" \".join(row))\n",
    "\n",
    "# Load maze from file\n",
    "maze = [[\"\" for _ in range(6)] for _ in range(6)]\n",
    "with open(FILENAME, \"r\") as file:\n",
    "    # File will auto-close\n",
    "    y = 0\n",
    "    for line in file:\n",
    "        maze[y] = list(line.strip())\n",
    "        y += 1\n",
    "\n",
    "# Randomize exit\n",
    "exit = random.randint(1, 4)\n",
    "\n",
    "# Place exit in maze\n",
    "maze[-1][exit] = \".\"\n",
    "\n",
    "x, y = 4, 0\n",
    "maze[y][x] = \"T\"\n",
    "\n",
    "print_maze(maze)"
   ]
  },
  {
   "cell_type": "markdown",
   "id": "2435cbc6",
   "metadata": {},
   "source": [
    "#### Task 1.2\n",
    "Add to your program code to:\n",
    "\n",
    "- take in and validate a direction\n",
    "- calculate a new position\n",
    "- check if this position is an empty space ('.')\n",
    "- update the grid so that the previous position of 'T' is replaced with a 'X' and the robotis located in its new position\n",
    "- display the maze\n",
    "- continue this until the robot is moved to the exit of the maze\n",
    "- when robot is at the exit, the number of steps taken is displayed.\n",
    "\n",
    "Test run the program."
   ]
  },
  {
   "cell_type": "code",
   "execution_count": 68,
   "id": "b5b001f7",
   "metadata": {
    "scrolled": true
   },
   "outputs": [
    {
     "name": "stdout",
     "output_type": "stream",
     "text": [
      "# # # # T #\n",
      "# . # . . #\n",
      "# . . . # #\n",
      "# # . # . #\n",
      "# . . . . #\n",
      "# # . # # #\n"
     ]
    },
    {
     "name": "stdin",
     "output_type": "stream",
     "text": [
      "Move>  D\n"
     ]
    },
    {
     "name": "stdout",
     "output_type": "stream",
     "text": [
      "\n",
      "# # # # X #\n",
      "# . # . T #\n",
      "# . . . # #\n",
      "# # . # . #\n",
      "# . . . . #\n",
      "# # . # # #\n"
     ]
    },
    {
     "name": "stdin",
     "output_type": "stream",
     "text": [
      "Move>  L\n"
     ]
    },
    {
     "name": "stdout",
     "output_type": "stream",
     "text": [
      "\n",
      "# # # # X #\n",
      "# . # T X #\n",
      "# . . . # #\n",
      "# # . # . #\n",
      "# . . . . #\n",
      "# # . # # #\n"
     ]
    },
    {
     "name": "stdin",
     "output_type": "stream",
     "text": [
      "Move>  D\n"
     ]
    },
    {
     "name": "stdout",
     "output_type": "stream",
     "text": [
      "\n",
      "# # # # X #\n",
      "# . # X X #\n",
      "# . . T # #\n",
      "# # . # . #\n",
      "# . . . . #\n",
      "# # . # # #\n"
     ]
    },
    {
     "name": "stdin",
     "output_type": "stream",
     "text": [
      "Move>  L\n"
     ]
    },
    {
     "name": "stdout",
     "output_type": "stream",
     "text": [
      "\n",
      "# # # # X #\n",
      "# . # X X #\n",
      "# . T X # #\n",
      "# # . # . #\n",
      "# . . . . #\n",
      "# # . # # #\n"
     ]
    },
    {
     "name": "stdin",
     "output_type": "stream",
     "text": [
      "Move>  D\n"
     ]
    },
    {
     "name": "stdout",
     "output_type": "stream",
     "text": [
      "\n",
      "# # # # X #\n",
      "# . # X X #\n",
      "# . X X # #\n",
      "# # T # . #\n",
      "# . . . . #\n",
      "# # . # # #\n"
     ]
    },
    {
     "name": "stdin",
     "output_type": "stream",
     "text": [
      "Move>  \n"
     ]
    },
    {
     "name": "stdout",
     "output_type": "stream",
     "text": [
      "\n",
      "# # # # X #\n",
      "# . # X X #\n",
      "# . X X # #\n",
      "# # X # . #\n",
      "# . T . . #\n",
      "# # . # # #\n"
     ]
    },
    {
     "name": "stdin",
     "output_type": "stream",
     "text": [
      "Move>  \n"
     ]
    },
    {
     "name": "stdout",
     "output_type": "stream",
     "text": [
      "\n",
      "# # # # X #\n",
      "# . # X X #\n",
      "# . X X # #\n",
      "# # X # . #\n",
      "# . X . . #\n",
      "# # T # # #\n"
     ]
    }
   ],
   "source": [
    "# Task 1.2\n",
    "\n",
    "print_maze(maze)\n",
    "\n",
    "running = True\n",
    "previousx, previousy = 0, 0\n",
    "while running:\n",
    "    instr = input(\"Move> \")\n",
    "    print()\n",
    "    dx, dy = 0, 0\n",
    "    valid = True\n",
    "    match instr:\n",
    "        case \"L\":\n",
    "            dx = -1\n",
    "        case \"R\":\n",
    "            dx = 1\n",
    "        case \"U\":\n",
    "            dy = -1\n",
    "        case \"D\":\n",
    "            dy = 1\n",
    "        case \"\":\n",
    "            dx, dy = previousx, previousy\n",
    "        case _:\n",
    "            print(\"Invalid move\")\n",
    "            valid = False\n",
    "            \n",
    "    if valid:\n",
    "        previousx, previousy = dx, dy\n",
    "        # nx, ny: new coordinates\n",
    "        nx, ny = x+dx, y+dy\n",
    "        \n",
    "        if ny < 0:\n",
    "            print(\"Reached edge of map\")\n",
    "        elif ny == 5:\n",
    "            running = False\n",
    "            maze[ny][nx] = \"T\"\n",
    "            maze[y][x] = \"X\"\n",
    "        elif maze[ny][nx] != \".\":\n",
    "            print(\"Tried walking into a wall\")\n",
    "        else:\n",
    "            maze[ny][nx] = \"T\"\n",
    "            maze[y][x] = \"X\"\n",
    "            x, y = nx, ny\n",
    "    print_maze(maze)"
   ]
  },
  {
   "cell_type": "markdown",
   "id": "976accf4",
   "metadata": {},
   "source": [
    "### Task 2\n",
    "This task is to perform sorting algorithms on Person objects held in a 1-dimensional array.\n"
   ]
  },
  {
   "cell_type": "markdown",
   "id": "a6b6badd",
   "metadata": {},
   "source": [
    "#### Task 2.1\n",
    "The class `Person` contains two properties:\n",
    "\n",
    "- `name` - stored as a string\n",
    "- `age` - stored as an integer\n",
    "\n",
    "Write program code to declare the class `Person` and its constructor and `print()` method\n",
    "to output the `name` and `age` of a `Person` object.  [2]"
   ]
  },
  {
   "cell_type": "code",
   "execution_count": 2,
   "id": "51afcf2e",
   "metadata": {},
   "outputs": [],
   "source": [
    "# Task 2.1\n",
    "\n",
    "class Person():\n",
    "    def __init__(self, name, age):\n",
    "        self._name = name\n",
    "        self._age = age\n",
    "    def print(self):\n",
    "        print(f\"(Name: {self._name}, age: {self._age})\")\n",
    "    def __str__(self):\n",
    "        return f\"(Name: {self._name}, age: {self._age})\"\n",
    "    def get_name(self):\n",
    "        return self._name\n",
    "    def get_age(self):\n",
    "        return self._age\n",
    "    def set_name(self, name):\n",
    "        self._name = name\n",
    "    def set_age(self, age):\n",
    "        self._age = age"
   ]
  },
  {
   "cell_type": "markdown",
   "id": "3579d27a",
   "metadata": {},
   "source": [
    "#### Task 2.2\n",
    "Write a function `task2_2(filename)` that:\n",
    "\n",
    "- takes a string `filename` which represents the name of a text file\n",
    "- reads in the contents of the text file\n",
    "- returns the content as a list of `Person` objects.\n",
    "\n",
    "Call the function `task2_2` with the file `PERSON.txt` and print `Person` objects using the following statements:\n",
    "\n",
    "    list_of_person = task2_2('PERSON.txt')\n",
    "    for person in list_of_person:\n",
    "    person.print() \n",
    "                                                                                    [4]"
   ]
  },
  {
   "cell_type": "code",
   "execution_count": 3,
   "id": "fe2b5788",
   "metadata": {},
   "outputs": [
    {
     "name": "stdout",
     "output_type": "stream",
     "text": [
      "(Name: Alice, age: 18)\n",
      "(Name: Bob, age: 20)\n",
      "(Name: Charlie, age: 17)\n",
      "(Name: David, age: 16)\n",
      "(Name: Emily, age: 19)\n",
      "(Name: Austin, age: 19)\n",
      "(Name: Cole, age: 20)\n",
      "(Name: Adam, age: 16)\n",
      "(Name: Benjamin, age: 16)\n",
      "(Name: Chloe, age: 19)\n",
      "(Name: Daniel, age: 19)\n",
      "(Name: Eva, age: 20)\n",
      "(Name: Bailey, age: 18)\n",
      "(Name: Daisy, age: 18)\n",
      "(Name: Amelia, age: 17)\n",
      "(Name: Brian, age: 19)\n",
      "(Name: Catherine, age: 18)\n",
      "(Name: Dylan, age: 17)\n",
      "(Name: Eleanor, age: 16)\n",
      "(Name: Bella, age: 17)\n",
      "(Name: Caleb, age: 16)\n",
      "(Name: Delilah, age: 20)\n",
      "(Name: Ethan, age: 17)\n",
      "(Name: Ella, age: 18)\n",
      "(Name: Arthur, age: 20)\n"
     ]
    }
   ],
   "source": [
    "def task2_2(filename):\n",
    "    persons = []\n",
    "    with open(filename, \"r\") as file:\n",
    "        # File closes automatically\n",
    "        for line in file:\n",
    "            param = line.split(\",\")\n",
    "            person = Person(param[0].strip(), param[1].strip())\n",
    "            persons += [person]\n",
    "    return persons\n",
    "\n",
    "list_of_person = task2_2('PERSON.txt')\n",
    "for person in list_of_person:\n",
    "    person.print()"
   ]
  },
  {
   "cell_type": "markdown",
   "id": "757f6c3b",
   "metadata": {},
   "source": [
    "#### Task 2.3\n",
    "One method of sorting is the insertion sort.\n",
    "Write a function `task2_3(list_of_person, key, order)` that:\n",
    "\n",
    "- accepts three parameters:\n",
    " - `list_of_person` contains a list of `Person` objects\n",
    " - `key` should be one of the values:\n",
    "   - `name` – list to be sorted by name\n",
    "   - `age` – list to be sorted by age\n",
    " - `order` should be one of the values:\n",
    "   - `asc` – list to be sorted by key in ascending order\n",
    "   - `desc` – list to be sorted by key in descending order\n",
    "- sorts `list_of_person` by `key` in `order` using insertion sort.\n",
    "\n",
    "Call the function `task2_3` with the contents of the file `PERSON.txt` and print the sorted`Person` objects using the following statements:\n",
    "\n",
    "    list_of_person = task2_2('PERSON.txt' )\n",
    "    task2_3(list_of_person, 'name', 'asc')\n",
    "    for person in list_of_person:\n",
    "        person.print()\n",
    "                                                                                            [8]"
   ]
  },
  {
   "cell_type": "code",
   "execution_count": 4,
   "id": "14d9ea4f",
   "metadata": {},
   "outputs": [
    {
     "name": "stdout",
     "output_type": "stream",
     "text": [
      "(Name: Adam, age: 16)\n",
      "(Name: Alice, age: 18)\n",
      "(Name: Amelia, age: 17)\n",
      "(Name: Arthur, age: 20)\n",
      "(Name: Austin, age: 19)\n",
      "(Name: Bailey, age: 18)\n",
      "(Name: Bella, age: 17)\n",
      "(Name: Benjamin, age: 16)\n",
      "(Name: Bob, age: 20)\n",
      "(Name: Brian, age: 19)\n",
      "(Name: Caleb, age: 16)\n",
      "(Name: Catherine, age: 18)\n",
      "(Name: Charlie, age: 17)\n",
      "(Name: Chloe, age: 19)\n",
      "(Name: Cole, age: 20)\n",
      "(Name: Daisy, age: 18)\n",
      "(Name: Daniel, age: 19)\n",
      "(Name: David, age: 16)\n",
      "(Name: Delilah, age: 20)\n",
      "(Name: Dylan, age: 17)\n",
      "(Name: Eleanor, age: 16)\n",
      "(Name: Ella, age: 18)\n",
      "(Name: Emily, age: 19)\n",
      "(Name: Ethan, age: 17)\n",
      "(Name: Eva, age: 20)\n"
     ]
    }
   ],
   "source": [
    "# Task 2.3\n",
    "\n",
    "def is_after(A, B, key, order):\n",
    "    if key == \"name\":\n",
    "        aparam, bparam = A.get_name(), B.get_name()\n",
    "    elif key == \"age\":\n",
    "        aparam, bparam = int(A.get_age()), int(B.get_age())\n",
    "    compare = aparam < bparam\n",
    "    asc = order==\"asc\"\n",
    "    if asc:\n",
    "        return compare\n",
    "    else:\n",
    "        return not compare\n",
    "\n",
    "def task2_3(list_of_person, key, order):\n",
    "    for i in range(len(list_of_person)):\n",
    "        j = i\n",
    "        while j != 0 and is_after(list_of_person[j-1], list_of_person[j], key, order):\n",
    "            list_of_person[j], list_of_person[j-1] = list_of_person[j-1], list_of_person[j]\n",
    "            j -= 1\n",
    "\n",
    "list_of_person = task2_2('PERSON.txt')\n",
    "task2_3(list_of_person, 'name', 'asc')\n",
    "for person in list_of_person:\n",
    "    person.print()"
   ]
  },
  {
   "cell_type": "markdown",
   "id": "0057257a",
   "metadata": {},
   "source": [
    "#### Task 2.4\n",
    "Another method of sorting is the quick sort.\n",
    "Write a function `task2_4(list_of_person, key, order)` that:\n",
    "- accepts three parameters:\n",
    " - `list_of_person` contains a list of `Person` objects\n",
    " - `key` should be one of the values:\n",
    "   - `name` – list to be sorted by name\n",
    "   - `age` – list to be sorted by age\n",
    " - `order` should be one of the values :\n",
    "   - `asc` – list to be sorted by key in ascending order\n",
    "   - `desc` – list to be sorted by key in descending order\n",
    "- sorts `list_of_person` by `key` in `order` using quick sort. \n",
    "\n",
    "Call the function `task2_4` with the contents of the file `PERSON.txt` and print the sorted `Person` objects using the following statements:\n",
    "\n",
    "    list_of_person = task2_2('PERSON.txt')\n",
    "    task2_4(list_of_person, 'age', 'desc')\n",
    "    for person in list_of_person:\n",
    "        person.print() \n",
    "                                                                                                        [8]"
   ]
  },
  {
   "cell_type": "code",
   "execution_count": 23,
   "id": "fa823a1b",
   "metadata": {},
   "outputs": [
    {
     "name": "stdout",
     "output_type": "stream",
     "text": [
      "(Name: Adam, age: 16)\n",
      "(Name: Alice, age: 18)\n",
      "(Name: Amelia, age: 17)\n",
      "(Name: Arthur, age: 20)\n",
      "(Name: Austin, age: 19)\n",
      "(Name: Bailey, age: 18)\n",
      "(Name: Bella, age: 17)\n",
      "(Name: Benjamin, age: 16)\n",
      "(Name: Bob, age: 20)\n",
      "(Name: Brian, age: 19)\n",
      "(Name: Caleb, age: 16)\n",
      "(Name: Catherine, age: 18)\n",
      "(Name: Charlie, age: 17)\n",
      "(Name: Chloe, age: 19)\n",
      "(Name: Cole, age: 20)\n",
      "(Name: Daisy, age: 18)\n",
      "(Name: Daniel, age: 19)\n",
      "(Name: David, age: 16)\n",
      "(Name: Delilah, age: 20)\n",
      "(Name: Dylan, age: 17)\n",
      "(Name: Eleanor, age: 16)\n",
      "(Name: Ella, age: 18)\n",
      "(Name: Emily, age: 19)\n",
      "(Name: Ethan, age: 17)\n",
      "(Name: Eva, age: 20)\n"
     ]
    }
   ],
   "source": [
    "def partition(list_of_person, key, order, low, high):\n",
    "    pivot = low\n",
    "    pivot_value = list_of_person[pivot]\n",
    "\n",
    "    left, right = low+1, high\n",
    "    counter = 0\n",
    "    while right >= left and counter < 100:\n",
    "        counter += 1\n",
    "        while right >= left and left < high and not is_after(list_of_person[left], pivot_value, key, order):\n",
    "            left += 1\n",
    "        while right >= left and right > low and is_after(list_of_person[right], pivot_value, key, order):\n",
    "            right -= 1\n",
    "        if right > left:\n",
    "            list_of_person[right], list_of_person[left] = list_of_person[left], list_of_person[right]\n",
    "    list_of_person[right], list_of_person[pivot] = list_of_person[pivot], list_of_person[right]\n",
    "    return right\n",
    "\n",
    "def task2_4(list_of_person, key, order, low=0, high=None):\n",
    "    if high == None:\n",
    "        high = len(list_of_person) - 1\n",
    "    if low >= high:\n",
    "        return\n",
    "        \n",
    "    pivot = partition(list_of_person, key, order, low, high)\n",
    "    task2_4(list_of_person, key, order, low, pivot-1)\n",
    "    task2_4(list_of_person, key, order, pivot+1, high)\n",
    "\n",
    "list_of_person = task2_2('PERSON.txt')\n",
    "task2_4(list_of_person, 'name', 'asc')\n",
    "for person in list_of_person:\n",
    "    print(person)"
   ]
  },
  {
   "cell_type": "markdown",
   "id": "88c72a9a",
   "metadata": {},
   "source": [
    "#### Task 2.5\n",
    "Write a function `task2_5(list_of_person, method, key, order)` that:\n",
    "\n",
    "- accepts four parameters:\n",
    " - `list_of_person` contains a list of `Person` objects\n",
    " - `method` should be one of the values:\n",
    "   - `insertion sort` – sort the list using insertion sort\n",
    "   - `quick sort` – sort the list using quick sort\n",
    " - `key` should be one of the values:\n",
    "   - `name` – list to be sorted by name\n",
    "   - `age` – list to be sorted by age\n",
    " - `order` should be one of the values:\n",
    "   - `asc` – list to be sorted by `key` in ascending order\n",
    "   - `desc` – list to be sorted by `key` in descending order\n",
    "- sorts `list_of_person` by key in `order` using `method`.\n",
    "\n",
    "Call the function `task2_5` with the contents of the file `PERSON.txt` and print the sorted `Person` objects using the following statements:\n",
    "\n",
    "    list_of_person = task2_2('PERSON.txt')\n",
    "    task2_5(list_of_person, 'quick sort', 'name', 'desc')\n",
    "    for person in list_of_person:\n",
    "        person.print() \n",
    "                                                                                                        [2]"
   ]
  },
  {
   "cell_type": "code",
   "execution_count": 24,
   "id": "66525850",
   "metadata": {},
   "outputs": [
    {
     "name": "stdout",
     "output_type": "stream",
     "text": [
      "(Name: Eva, age: 20)\n",
      "(Name: Ethan, age: 17)\n",
      "(Name: Emily, age: 19)\n",
      "(Name: Ella, age: 18)\n",
      "(Name: Eleanor, age: 16)\n",
      "(Name: Dylan, age: 17)\n",
      "(Name: Delilah, age: 20)\n",
      "(Name: David, age: 16)\n",
      "(Name: Daniel, age: 19)\n",
      "(Name: Daisy, age: 18)\n",
      "(Name: Cole, age: 20)\n",
      "(Name: Chloe, age: 19)\n",
      "(Name: Charlie, age: 17)\n",
      "(Name: Catherine, age: 18)\n",
      "(Name: Caleb, age: 16)\n",
      "(Name: Brian, age: 19)\n",
      "(Name: Bob, age: 20)\n",
      "(Name: Benjamin, age: 16)\n",
      "(Name: Bella, age: 17)\n",
      "(Name: Bailey, age: 18)\n",
      "(Name: Austin, age: 19)\n",
      "(Name: Arthur, age: 20)\n",
      "(Name: Amelia, age: 17)\n",
      "(Name: Alice, age: 18)\n",
      "(Name: Adam, age: 16)\n"
     ]
    }
   ],
   "source": [
    "def task2_5(list_of_person, method, key, order):\n",
    "    if method == \"insertion sort\":\n",
    "        task2_3(list_of_person, key, order)\n",
    "    elif method == \"quick sort\":\n",
    "        task2_4(list_of_person, key, order)\n",
    "    else:\n",
    "        print(\"Invalid Method\")\n",
    "\n",
    "list_of_person = task2_2('PERSON.txt')\n",
    "task2_5(list_of_person, 'quick sort', 'name', 'desc')\n",
    "for person in list_of_person:\n",
    "    person.print()"
   ]
  },
  {
   "cell_type": "markdown",
   "id": "522d9856",
   "metadata": {},
   "source": [
    "### Task 3\n",
    "A chess club wants to keep a record of players who registered for a team chess competition.\n",
    "The record is implemented using Object-Oriented Programming (OOP)."
   ]
  },
  {
   "cell_type": "markdown",
   "id": "7749afc8",
   "metadata": {},
   "source": [
    "#### task 3.1\n",
    "\n",
    "The class `Player` is created with the following attributes:\n",
    "\n",
    "- `name`, the name of the player\n",
    "- `elo`, an integer representing the elo rating of the player\n",
    "- `ptr` pointer, an integer pointing to the index of the next lower elo rating `Player` in the list\n",
    "\n",
    "\n",
    "The class `PlayerList` contains three properties:\n",
    "\n",
    "- `data` array of size `n`, with each element being a `Player` object\n",
    "- `head` pointer, an integer pointing to the index of the first element in the linked list\n",
    "- `free` pointer, an integer pointing to the index of the first element in the free list\n",
    "\n",
    "\n",
    "The class `PlayerList` is created with the following methods:\n",
    "\n",
    "- a constructor to set `head` to `-1`, `free` to `0`, and creates the `data` array with `n` empty `Player` nodes indicated with `name` set to '-' and `elo` set to `-1`\n",
    "- `size()` method which returns the number of registered players\n",
    "- `register(name, elo)` method which registers a player with `name` and `elo`, outputting a suitable error message when the `data` array is full\n",
    "- `withdraw(name)` method which removes `name` from `PlayerList`, displaying an error message if name is not found\n",
    "- `display()` method which displays the value of the `head` pointer, the value of the `free` pointer, and the contents of the `data` array in array index order.\n",
    "\n",
    "Write the program code for the Player class and PlayerList class. [20]"
   ]
  },
  {
   "cell_type": "code",
   "execution_count": 43,
   "id": "db231a36",
   "metadata": {},
   "outputs": [],
   "source": [
    "class Player():\n",
    "    def __init__(self, name=\"-\", elo=-1, ptr=-1):\n",
    "        self._name = name\n",
    "        self._elo = elo\n",
    "        self._ptr = ptr\n",
    "    def __str__(self):\n",
    "        return f\"{self._name}: {self._elo} elo => {self._ptr}\"\n",
    "    def get_name(self):\n",
    "        return self._name\n",
    "    def get_elo(self):\n",
    "        return self._elo\n",
    "    def get_ptr(self):\n",
    "        return self._ptr\n",
    "    def set_name(self, name):\n",
    "        self._name = name\n",
    "    def set_elo(self, elo):\n",
    "        self._elo = elo\n",
    "    def set_ptr(self, ptr):\n",
    "        self._ptr = ptr\n",
    "\n",
    "class PlayerList():\n",
    "    def __init__(self, n=10):\n",
    "        data = [None] * n\n",
    "        data[-1] = Player(ptr=-1)\n",
    "        for i in reversed(range(n - 1)):\n",
    "            player = Player(ptr=i+1)\n",
    "            data[i] = player\n",
    "        self._data = data\n",
    "        self._head = -1\n",
    "        self._free = 0\n",
    "\n",
    "    def size(self):\n",
    "        if self._head == -1:\n",
    "            return 0\n",
    "        probe = self._head\n",
    "        size = 1\n",
    "        while self._data[probe].get_ptr() != -1:\n",
    "            size += 1\n",
    "            probe = self._data[probe].get_ptr()\n",
    "        return size\n",
    "\n",
    "    def register(self, name, elo):\n",
    "        if self._free == -1:\n",
    "            print(\"Data array is full!\")\n",
    "        else:\n",
    "            # Remove from free-space list\n",
    "            new = self._free\n",
    "            self._free = self._data[self._free].get_ptr()\n",
    "\n",
    "            # Allocate new values\n",
    "            self._data[new].set_name(name)\n",
    "            self._data[new].set_elo(elo)\n",
    "\n",
    "            # Prepend to head\n",
    "            self._data[new].set_ptr(self._head)\n",
    "            self._head = new\n",
    "\n",
    "    def withdraw(self, name):\n",
    "        previous, probe = -1, self._head\n",
    "        while probe != -1 and self._data[probe].get_name() != name:\n",
    "            previous, probe = probe, self._data[probe].get_ptr()\n",
    "        if probe == -1:\n",
    "            print(f\"Name {name} not found\")\n",
    "        else:\n",
    "            if previous == -1:\n",
    "                # Target is head\n",
    "                self._head = self._data[self._head].get_ptr()\n",
    "            else:  \n",
    "                # Cut out from head list\n",
    "                nxt = self._data[probe].get_ptr()\n",
    "                self._data[previous].set_ptr(nxt)\n",
    "                \n",
    "                # Add to free space list\n",
    "                self._data[probe].set_ptr(self._free)\n",
    "                self._free = probe\n",
    "\n",
    "    def display(self):\n",
    "        print(f\"Head: {self._head}\")\n",
    "        print(f\"Free: {self._free}\")\n",
    "        for i, player in enumerate(self._data):\n",
    "            print(f\"[{i}] {player}\")"
   ]
  },
  {
   "cell_type": "markdown",
   "id": "19679a2b",
   "metadata": {},
   "source": [
    "#### Task 3.2\n",
    "The players who registered for the chess team have their name and elo rating recorded in a file named `CHESS.csv`.\n",
    "\n",
    "Write program code to:\n",
    "\n",
    "- create a `PlayerList` object, `cteam`, that accepts registration for up to 7 players\n",
    "- read `CHESS.csv` and register them into `cteam`\n",
    "- use `display()` to show the list of the players\n",
    "- remove the player named `Taylor` from the team\n",
    "- print the size of the team\n",
    "- use `display()` to show the list of the players who are still in the team\n",
    "                                                                                                [5]"
   ]
  },
  {
   "cell_type": "code",
   "execution_count": 50,
   "id": "23e83018",
   "metadata": {},
   "outputs": [
    {
     "name": "stdout",
     "output_type": "stream",
     "text": [
      "Data array is full!\n",
      "Data array is full!\n",
      "Head: 6\n",
      "Free: -1\n",
      "[0] Nicki: 1250 elo => -1\n",
      "[1] Lisa: 1337 elo => 0\n",
      "[2] Iggy: 828 elo => 1\n",
      "[3] Taylor: 1109 elo => 2\n",
      "[4] Missy: 1437 elo => 3\n",
      "[5] Megan: 745 elo => 4\n",
      "[6] Cardi: 962 elo => 5\n",
      "\n",
      "Size: 6\n",
      "\n",
      "Head: 6\n",
      "Free: 3\n",
      "[0] Nicki: 1250 elo => -1\n",
      "[1] Lisa: 1337 elo => 0\n",
      "[2] Iggy: 828 elo => 1\n",
      "[3] Taylor: 1109 elo => -1\n",
      "[4] Missy: 1437 elo => 2\n",
      "[5] Megan: 745 elo => 4\n",
      "[6] Cardi: 962 elo => 5\n"
     ]
    }
   ],
   "source": [
    "cteam = PlayerList(7)\n",
    "with open(\"CHESS.csv\", \"r\") as file:\n",
    "    # File closes automatically\n",
    "    for line in file:\n",
    "        line = line.strip()\n",
    "        name, elo = tuple(line.split(\",\"))\n",
    "        cteam.register(name, elo)\n",
    "cteam.display()\n",
    "\n",
    "print()\n",
    "cteam.withdraw(\"Taylor\")\n",
    "print(f\"Size: {cteam.size()}\")\n",
    "\n",
    "print()\n",
    "cteam.display()"
   ]
  },
  {
   "cell_type": "markdown",
   "id": "40871705",
   "metadata": {},
   "source": [
    "### Task 4\n",
    "A donut store owner currently keeps paper records about its members, donuts on sale and the purchase records by members. The store owner wants to create a suitable database to store the data and to allow them to run searches for specific data. The database will have three tables: a table to store data about the donuts, a table about the members and a table about the sales. The fields in each table are:\n",
    "\n",
    "Donut:\n",
    "- DonutID – donut’s unique number, for example, 5\n",
    "- DonutName – donut’s name\n",
    "- UnitPrice – price of one donut\n",
    "\n",
    "Member:\n",
    "- MemberNumber – member’s unique number, for example, 101\n",
    "- MemberName – member’s name\n",
    "- Phone – member’s contact number\n",
    "\n",
    "Sale:\n",
    "- SaleID – the purchase’s unique number, for example, 1030\n",
    "- MemberNumber – the member’s unique number\n",
    "- DonutID – the donut’s unique number\n",
    "- Date – the date that the member purchased the donut, for example, '20230720'\n",
    "- Quantity – the number of donuts purchased"
   ]
  },
  {
   "cell_type": "markdown",
   "id": "8a3ed080",
   "metadata": {},
   "source": [
    "#### Task 4.1\n",
    "Write a Python program that uses SQL code to create the database `STORE` with the three tables given. Define the primary and foreign keys for each table. [4]"
   ]
  },
  {
   "cell_type": "code",
   "execution_count": 59,
   "id": "46ac05c9",
   "metadata": {},
   "outputs": [],
   "source": [
    "import sqlite3\n",
    "\n",
    "con = sqlite3.connect(\"donut_store.db\")\n",
    "con.row_factory = sqlite3.Row\n",
    "cur = con.cursor()\n",
    "\n",
    "cur.execute(\"\"\"\n",
    "CREATE TABLE Donut(\n",
    "    DonutID INTEGER PRIMARY KEY AUTOINCREMENT,\n",
    "    DonutName TEXT,\n",
    "    UnitPrice INTEGER\n",
    ")\n",
    "\"\"\")\n",
    "cur.execute(\"\"\"\n",
    "CREATE TABLE Member(\n",
    "    MemberNumber INTEGER PRIMARY KEY,\n",
    "    MemberName TEXT,\n",
    "    Phone INTEGER\n",
    ")\n",
    "\"\"\")\n",
    "cur.execute(\"\"\"\n",
    "CREATE TABLE Sale(\n",
    "    SaleID INTEGER PRIMARY KEY AUTOINCREMENT,\n",
    "    MemberNumber INTEGER, \n",
    "    DonutID INTEGER, \n",
    "    Date TEXT,\n",
    "    Quantity INTEGER,\n",
    "    FOREIGN KEY(MemberNumber) REFERENCES Member(MemberNumber),\n",
    "    FOREIGN KEY(DonutID) REFERENCES Donut(DonutID)\n",
    ")\n",
    "\"\"\")\n",
    "\n",
    "cur.close()\n",
    "con.close()"
   ]
  },
  {
   "cell_type": "markdown",
   "id": "16fc047e",
   "metadata": {},
   "source": [
    "#### Task 4.2\n",
    "The text files `DONUT.txt`, `MEMBER.txt`, and `SALE.txt` store the comma-separated values for each of the tables in the database.\n",
    "\n",
    "Write a Python program to read in the data from each file and then store each item of data in the correct place in the database. [3]\n"
   ]
  },
  {
   "cell_type": "code",
   "execution_count": 77,
   "id": "2e480e16",
   "metadata": {},
   "outputs": [],
   "source": [
    "import sqlite3\n",
    "\n",
    "con = sqlite3.connect(\"donut_store.db\")\n",
    "con.row_factory = sqlite3.Row\n",
    "cur = con.cursor()\n",
    "\n",
    "with open(\"DONUT.txt\", \"r\") as file:\n",
    "    # File closes automatically\n",
    "    for line in file:\n",
    "        values = line.strip().split(\",\")        \n",
    "        cur.execute(\"\"\"\n",
    "        INSERT INTO Donut(DonutID, DonutName, UnitPrice) VALUES (?, ?, ?)\n",
    "        \"\"\", tuple(values))\n",
    "con.commit()\n",
    "\n",
    "with open(\"MEMBER.txt\", \"r\") as file:\n",
    "    # File closes automatically\n",
    "    for line in file:\n",
    "        values = line.strip().split(\",\")        \n",
    "        cur.execute(\"\"\"\n",
    "        INSERT INTO Member(MemberNumber, MemberName, Phone) VALUES (?, ?, ?)\n",
    "        \"\"\", tuple(values))\n",
    "con.commit()\n",
    "\n",
    "with open(\"SALE.txt\", \"r\") as file:\n",
    "    # File closes automatically\n",
    "    for line in file:\n",
    "        values = line.strip().split(\",\")        \n",
    "        cur.execute(\"\"\"\n",
    "        INSERT INTO Sale(SaleID, MemberNumber, DonutID, Date, Quantity) VALUES (?, ?, ?, ?, ?)\n",
    "        \"\"\", tuple(values))\n",
    "con.commit()\n",
    "\n",
    "cur.close()\n",
    "con.close()"
   ]
  },
  {
   "cell_type": "markdown",
   "id": "f3c5509b",
   "metadata": {},
   "source": [
    "#### Task 4.3\n",
    "Write a Python program to input a member’s number and display\n",
    "\n",
    "- the member’s name,\n",
    "- a table tabulating the donut names, dates and quantity of all the sales from this member\n",
    "\n",
    "Test your program by running the application with the member number 104. [6]\n"
   ]
  },
  {
   "cell_type": "code",
   "execution_count": 86,
   "id": "c949ccc0",
   "metadata": {},
   "outputs": [
    {
     "name": "stdin",
     "output_type": "stream",
     "text": [
      "Enter Member Number:  101\n"
     ]
    },
    {
     "name": "stdout",
     "output_type": "stream",
     "text": [
      "\n",
      "Donut Name           Date      Quantity\n",
      "Sugar Cruller        20230720  2pcs\n",
      "Coconut Fashion      20230720  1pcs\n",
      "Ping Classic         20230721  2pcs\n",
      "Ping Classic         20230721  3pcs\n",
      "Banana Chocolate     20230723  3pcs\n"
     ]
    }
   ],
   "source": [
    "import sqlite3\n",
    "\n",
    "member_number = int(input(\"Enter Member Number: \"))\n",
    "\n",
    "con = sqlite3.connect(\"donut_store.db\")\n",
    "con.row_factory = sqlite3.Row\n",
    "cur = con.cursor()\n",
    "\n",
    "req = \"\"\"\n",
    "SELECT Donut.DonutName, Sale.Date, Sale.Quantity\n",
    "FROM Sale\n",
    "INNER JOIN Donut ON Sale.DonutID = Donut.DonutID\n",
    "WHERE Sale.MemberNumber = ?\n",
    "\"\"\".strip()\n",
    "\n",
    "cur.execute(req, (member_number,))\n",
    "results = cur.fetchall()\n",
    "\n",
    "print()\n",
    "print(f\"Donut Name           Date      Quantity\")\n",
    "for row in results:\n",
    "    print(f\"{row['DonutName']: <20} {row['Date']}  {row['Quantity']}pcs\")"
   ]
  },
  {
   "cell_type": "markdown",
   "id": "738f351e",
   "metadata": {},
   "source": [
    "#### Task 4.4\n",
    "The store owner wants to filter the purchases by Date and display the results in a web browser.\n",
    "\n",
    "Write a Python program and the necessary files to create a web application that:\n",
    "\n",
    "- receives a Date string from an HTML form,\n",
    "- returns an HTML document that enables the web browser to display a table tabulating the names and the total quantity of each donut sold on that date, in descending order of the total quantity. \n",
    "\n",
    "Save your Python program as\n",
    "\n",
    "`Task4_4_<your name>_<centre number>_<index number>.py`\n",
    "\n",
    "with any additional files / sub-folders as needed in a folder named\n",
    "\n",
    "`Task4_4_<your name>_<centre number>_<index number>`\n",
    "\n",
    "Run the web application with the date entered as '20230721'. Save the output as\n",
    "\n",
    "`Task4_4_<your name>_<centre number>_<index number>.html`\n",
    "                                                                                                [12]"
   ]
  },
  {
   "cell_type": "code",
   "execution_count": null,
   "id": "464a1ede",
   "metadata": {},
   "outputs": [],
   "source": []
  }
 ],
 "metadata": {
  "kernelspec": {
   "display_name": "Python 3 (ipykernel)",
   "language": "python",
   "name": "python3"
  },
  "language_info": {
   "codemirror_mode": {
    "name": "ipython",
    "version": 3
   },
   "file_extension": ".py",
   "mimetype": "text/x-python",
   "name": "python",
   "nbconvert_exporter": "python",
   "pygments_lexer": "ipython3",
   "version": "3.12.3"
  }
 },
 "nbformat": 4,
 "nbformat_minor": 5
}
