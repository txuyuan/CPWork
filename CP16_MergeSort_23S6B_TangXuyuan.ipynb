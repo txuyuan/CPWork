{
 "cells": [
  {
   "cell_type": "markdown",
   "metadata": {},
   "source": [
    "### CP16 - Sorting Algorithms - Merge sort  \n",
    "\n",
    "#### Task 1\n",
    "\n",
    "Write a function: **merge()** that accepts 2 arguments, 2 arrays of sorted elements, and returns a sorted array of all elements.\n",
    "\n",
    "Test your function with the following arrays:\n",
    "```\n",
    "l = [3,4,6,7]\n",
    "r = [1,2,5,8]\n",
    "```"
   ]
  },
  {
   "cell_type": "code",
   "execution_count": 8,
   "metadata": {},
   "outputs": [],
   "source": [
    "def merge(l, r):\n",
    "    t = []\n",
    "    li, ri = 0,0\n",
    "    killswitch = False\n",
    "    while (li < len(l) or ri < len(r)) and not killswitch:\n",
    "        if li == len(l):\n",
    "            t += r[ri:len(r)]\n",
    "            killswitch = True\n",
    "        elif ri == len(r):\n",
    "            t += l[li:len(l)]\n",
    "            killswitch = True\n",
    "        else:\n",
    "            if l[li] < r[ri]:\n",
    "                t += [l[li]]\n",
    "                li += 1\n",
    "            else:\n",
    "                t += [r[ri]]\n",
    "                ri += 1\n",
    "    return t"
   ]
  },
  {
   "cell_type": "code",
   "execution_count": 10,
   "metadata": {},
   "outputs": [
    {
     "name": "stdout",
     "output_type": "stream",
     "text": [
      "[1, 2, 3, 4, 5, 5, 6, 8]\n"
     ]
    }
   ],
   "source": [
    "print(merge([3,4,5,6], [1,2,5,8]))"
   ]
  },
  {
   "cell_type": "markdown",
   "metadata": {},
   "source": [
    "#### Task 2\n",
    "\n",
    "Write a function: **merge()** that accepts 4 arguments.\n",
    "* A - an array with 2 sublist of \"sorted\" list\n",
    "* low - low index, the start index of the first sorted sublist \n",
    "* mid - mid index, the end index of the first sorted sublist \n",
    "* high - high index, the end index of the second sorted sublist \n",
    "\n",
    "and returns a sorted array of all elements.\n",
    "An array is allow to store the sorted elements.\n",
    "\n",
    "Test your function with the following array:\n",
    "```\n",
    "A = [3,4,6,7,1,2,5,8]\n",
    "low = 0\n",
    "mid = 3\n",
    "high = 7\n",
    "```\n"
   ]
  },
  {
   "cell_type": "code",
   "execution_count": 50,
   "metadata": {},
   "outputs": [],
   "source": [
    "def merge(A, low, mid, high):\n",
    "    t = []\n",
    "    li, ri = low, mid+1\n",
    "    success = False\n",
    "\n",
    "    while not success:\n",
    "        if li > mid:\n",
    "            t += A[ri:high+1]\n",
    "            success = True\n",
    "        elif ri > high:\n",
    "            t += A[li:mid+1]\n",
    "            success = True\n",
    "        else:\n",
    "            if A[li] < A[ri]:\n",
    "                t += [A[li]]\n",
    "                li += 1\n",
    "            else:\n",
    "                t += [A[ri]]\n",
    "                ri += 1\n",
    "    return t"
   ]
  },
  {
   "cell_type": "code",
   "execution_count": 51,
   "metadata": {},
   "outputs": [
    {
     "name": "stdout",
     "output_type": "stream",
     "text": [
      "[1, 2, 3, 4, 5, 6, 7, 8]\n"
     ]
    }
   ],
   "source": [
    "A = [3,4,6,7,1,2,5,8]\n",
    "low = 0\n",
    "mid = 3\n",
    "high = 7\n",
    "print(merge(A, low, mid, high))"
   ]
  },
  {
   "cell_type": "markdown",
   "metadata": {},
   "source": [
    "#### Task 3\n",
    "\n",
    "Write a function: **merge2()** that accepts 4 arguments.\n",
    "* A - an array with 2 sublist of \"sorted\" list\n",
    "* low - low index, the start index of the first sorted sublist \n",
    "* mid - mid index, the end index of the first sorted sublist \n",
    "* high - high index, the end index of the second sorted sublist \n",
    "\n",
    "and returns a sorted array of all elements.\n",
    "The sorted elements **SHOULD NOT** be stored in an array for this task.\n",
    "\n",
    "Test your function with the following array:\n",
    "```\n",
    "A = [3,4,6,7,1,2,5,8]\n",
    "low = 0\n",
    "mid = 3\n",
    "high = 7\n",
    "```"
   ]
  },
  {
   "cell_type": "code",
   "execution_count": 77,
   "metadata": {},
   "outputs": [],
   "source": [
    "def merge2(A, low, mid, high):\n",
    "    left, right = low, mid+1\n",
    "    k = low\n",
    "    while (left < right and right < high+1):\n",
    "        if A[left] < A[right]:\n",
    "            left += 1\n",
    "        else:\n",
    "            temp = A[right]\n",
    "            A[left+1:right+1] = A[left:right]\n",
    "            left += 1\n",
    "            right += 1\n",
    "            A[k] = temp\n",
    "        k += 1"
   ]
  },
  {
   "cell_type": "code",
   "execution_count": 78,
   "metadata": {},
   "outputs": [
    {
     "name": "stdout",
     "output_type": "stream",
     "text": [
      "[1, 2, 3, 4, 5, 6, 7, 8]\n"
     ]
    }
   ],
   "source": [
    "test1 = [3,4,6,7,1,2,5,8]\n",
    "merge2(test1, 0, 3, 7)\n",
    "print(test1)"
   ]
  },
  {
   "cell_type": "markdown",
   "metadata": {},
   "source": [
    "#### Task 4\n",
    "\n",
    "Write a function: **split()** that implements the following:\n",
    "\n",
    "* accepts an argument - array A\n",
    "* print the contents in array A\n",
    "* split the array A in the middle\n",
    "* recursively do the same (as above) for the left half and right half of the array A\n",
    "  \n",
    "Note that you will need to determine the terminal case for the recursive function.\n",
    "\n",
    "Test your function with the following array:\n",
    "\n",
    "A = [3,4,6,7,1,2,5,8]\n"
   ]
  },
  {
   "cell_type": "code",
   "execution_count": 85,
   "metadata": {},
   "outputs": [],
   "source": [
    "def split(A):\n",
    "    print(A)\n",
    "    if len(A) == 1:\n",
    "        return\n",
    "    \n",
    "    # mid is start of right subarray\n",
    "    mid = len(A) // 2\n",
    "    left, right = A[:mid], A[mid:]\n",
    "    split(left)\n",
    "    split(right)"
   ]
  },
  {
   "cell_type": "code",
   "execution_count": 86,
   "metadata": {},
   "outputs": [
    {
     "name": "stdout",
     "output_type": "stream",
     "text": [
      "[3, 4, 6, 7, 1, 2, 5, 8]\n",
      "[3, 4, 6, 7]\n",
      "[3, 4]\n",
      "[3]\n",
      "[4]\n",
      "[6, 7]\n",
      "[6]\n",
      "[7]\n",
      "[1, 2, 5, 8]\n",
      "[1, 2]\n",
      "[1]\n",
      "[2]\n",
      "[5, 8]\n",
      "[5]\n",
      "[8]\n"
     ]
    }
   ],
   "source": [
    "test1 = [3,4,6,7,1,2,5,8]\n",
    "split(test1)"
   ]
  },
  {
   "cell_type": "markdown",
   "metadata": {},
   "source": [
    "#### Task 5\n",
    "\n",
    "Write a function: **split2()** that implements the following:\n",
    "        \n",
    "* accepts 4 arguments\n",
    "    * array A\n",
    "    * low - low index\n",
    "    * high - high index\n",
    "    \n",
    "* print the contents in the segment of the array indicated by low and high\n",
    "* segmentize array A into two half by the middle\n",
    "* recursively do the same (as above) for the left half and right half of the array A\n",
    "\n",
    "Note that you will need to determine the terminal case for the recursive function\n",
    "Test your function with the following array:\n",
    "\n",
    "A = [3,4,6,7,1,2,5,8]"
   ]
  },
  {
   "cell_type": "code",
   "execution_count": 101,
   "metadata": {},
   "outputs": [],
   "source": [
    "def split2(A, low=-1, high=-1):\n",
    "    if low == -1:\n",
    "        low = 0\n",
    "    if high == -1:\n",
    "        high = len(A) - 1\n",
    "    \n",
    "    print(A[low:high+1])\n",
    "    if (high - low) <= 0:\n",
    "        return\n",
    "    mid = (low + high) // 2\n",
    "    # due to inclusive high, mid is the end of the left subarray\n",
    "    split2(A, low, mid)\n",
    "    split2(A, mid+1, high)"
   ]
  },
  {
   "cell_type": "code",
   "execution_count": 102,
   "metadata": {},
   "outputs": [
    {
     "name": "stdout",
     "output_type": "stream",
     "text": [
      "[3, 4, 6, 7, 1, 2, 5, 8]\n",
      "[3, 4, 6, 7]\n",
      "[3, 4]\n",
      "[3]\n",
      "[4]\n",
      "[6, 7]\n",
      "[6]\n",
      "[7]\n",
      "[1, 2, 5, 8]\n",
      "[1, 2]\n",
      "[1]\n",
      "[2]\n",
      "[5, 8]\n",
      "[5]\n",
      "[8]\n"
     ]
    }
   ],
   "source": [
    "test1 = [3,4,6,7,1,2,5,8]\n",
    "split2(test1)"
   ]
  },
  {
   "cell_type": "markdown",
   "metadata": {},
   "source": [
    "#### Task 6\n",
    "\n",
    "Write a function: mergeSort that accepts 3 arguments as follows: \n",
    "\n",
    "* A - an array\n",
    "* low - low index\n",
    "* high - high index\n",
    "\n",
    "It sorts the array in ascending order using merge sort algorithm. \n",
    "\n",
    "Write test case to test your function using the array: [38, 58, 13, 15, 51, 27, 10, 19, 12, 86, 49, 67, 84, 60, 25]"
   ]
  },
  {
   "cell_type": "code",
   "execution_count": 106,
   "metadata": {},
   "outputs": [],
   "source": [
    "# Assumes python array pass-by-ref\n",
    "# Provides in-place mergesort\n",
    "\n",
    "def mergeSort(A, low=-1, high=-1):\n",
    "    if low == -1:\n",
    "        low = 0\n",
    "    if high == -1:\n",
    "        high = len(A) - 1\n",
    "    \n",
    "    if (high == low): # One element left\n",
    "        return\n",
    "    \n",
    "    # Split into subarrays\n",
    "    mid = (low + high) // 2\n",
    "    # due to inclusive high, mid is the end of the left subarray\n",
    "    mergeSort(A, low, mid)\n",
    "    mergeSort(A, mid+1, high)\n",
    "    \n",
    "    # Merge sorted subarrays\n",
    "    k, left, right = low, low, mid+1\n",
    "    while (left < right and right < high+1):\n",
    "        if A[left] < A[right]:\n",
    "            left += 1\n",
    "        else:\n",
    "            temp = A[right]\n",
    "            A[left+1:right+1] = A[left:right]\n",
    "            left += 1\n",
    "            right += 1\n",
    "            A[k] = temp\n",
    "        k += 1"
   ]
  },
  {
   "cell_type": "code",
   "execution_count": 109,
   "metadata": {},
   "outputs": [
    {
     "name": "stdout",
     "output_type": "stream",
     "text": [
      "[10, 12, 13, 15, 19, 25, 27, 38, 49, 51, 58, 60, 67, 84, 86]\n",
      "[10, 12, 13, 13, 13, 15, 19, 25, 27, 38, 49, 51, 58, 60, 67, 84, 86]\n",
      "All tests passed\n"
     ]
    }
   ],
   "source": [
    "test1 = [38, 58, 13, 15, 51, 27, 10, 19, 12, 86, 49, 67, 84, 60, 25]\n",
    "mergeSort(test1)\n",
    "print(test1)\n",
    "assert test1 == [10, 12, 13, 15, 19, 25, 27, 38, 49, 51, 58, 60, 67, 84, 86]\n",
    "test2 = [38, 58, 13, 13, 15, 51, 27, 10, 19, 12, 86, 49, 13, 67, 84, 60, 25]\n",
    "mergeSort(test2)\n",
    "print(test2)\n",
    "assert test2 == [10, 12, 13, 13, 13, 15, 19, 25, 27, 38, 49, 51, 58, 60, 67, 84, 86]\n",
    "\n",
    "print(\"All tests passed\")"
   ]
  }
 ],
 "metadata": {
  "kernelspec": {
   "display_name": "Python 3 (ipykernel)",
   "language": "python",
   "name": "python3"
  },
  "language_info": {
   "codemirror_mode": {
    "name": "ipython",
    "version": 3
   },
   "file_extension": ".py",
   "mimetype": "text/x-python",
   "name": "python",
   "nbconvert_exporter": "python",
   "pygments_lexer": "ipython3",
   "version": "3.12.3"
  }
 },
 "nbformat": 4,
 "nbformat_minor": 4
}
