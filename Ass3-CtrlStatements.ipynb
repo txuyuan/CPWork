{
 "cells": [
  {
   "cell_type": "code",
   "execution_count": 15,
   "id": "626ba2ca",
   "metadata": {
    "scrolled": true
   },
   "outputs": [
    {
     "name": "stdout",
     "output_type": "stream",
     "text": [
      "Enter N: 5\n",
      "1\n",
      "2\n",
      "3\n",
      "4\n",
      "5\n",
      "120\n"
     ]
    }
   ],
   "source": [
    "#1\n",
    "N = int(input(\"Enter N: \"))\n",
    "result = 1\n",
    "for i in range (1, N+1):\n",
    "    print(i)\n",
    "    result *= i\n",
    "print(result)"
   ]
  },
  {
   "cell_type": "code",
   "execution_count": 18,
   "id": "49fc12cd",
   "metadata": {},
   "outputs": [
    {
     "name": "stdout",
     "output_type": "stream",
     "text": [
      "Enter a: 5\n",
      "Enter b: 4\n",
      "Enter c: 2\n",
      "False\n"
     ]
    }
   ],
   "source": [
    "a = int(input(\"Enter a: \"))\n",
    "b = int(input(\"Enter b: \"))\n",
    "c = int(input(\"Enter c: \"))\n",
    "\n",
    "print(a == b and a == c)"
   ]
  },
  {
   "cell_type": "code",
   "execution_count": 4,
   "id": "76561411",
   "metadata": {},
   "outputs": [
    {
     "name": "stdout",
     "output_type": "stream",
     "text": [
      "Enter word: lolololololasdadsads\n",
      "Letters: 20\n",
      "Vowels: 8\n",
      "Percentage of vowels: 40.00\n"
     ]
    }
   ],
   "source": [
    "word = input(\"Enter word: \")\n",
    "\n",
    "letters = len(word)\n",
    "vowels = 0\n",
    "for i in range (len(word)):\n",
    "    letter = word[i]\n",
    "    if letter==\"a\" or letter==\"e\" or letter==\"i\" or letter==\"o\" or letter==\"u\":\n",
    "        vowels += 1\n",
    "vowelPercentage = float(vowels) / float(letters) * 100\n",
    "percFormatted = \"{:.2f}\".format(vowelPercentage)\n",
    "\n",
    "print(f\"Letters: {letters}\")\n",
    "print(f\"Vowels: {vowels}\")\n",
    "print(f\"Percentage of vowels: {percFormatted}\")"
   ]
  },
  {
   "cell_type": "code",
   "execution_count": 9,
   "id": "98e77c7c",
   "metadata": {},
   "outputs": [
    {
     "name": "stdout",
     "output_type": "stream",
     "text": [
      "Enter value n: 15\n",
      "******************************\n",
      "*                            *\n",
      "*                            *\n",
      "*                            *\n",
      "*                            *\n",
      "*                            *\n",
      "*                            *\n",
      "*                            *\n",
      "*                            *\n",
      "*                            *\n",
      "*                            *\n",
      "*                            *\n",
      "*                            *\n",
      "*                            *\n",
      "******************************\n"
     ]
    }
   ],
   "source": [
    "n = int(input(\"Enter value n: \"))\n",
    "for i in range(n):\n",
    "    top = \"*\" * (2*n)\n",
    "    filler = \"*\" + \" \"*(2*n-2) + \"*\"\n",
    "    if i==0 or i==n-1:\n",
    "        print(top)\n",
    "    else:\n",
    "        print(filler)\n",
    "        "
   ]
  },
  {
   "cell_type": "code",
   "execution_count": 30,
   "id": "f7b35cb4",
   "metadata": {},
   "outputs": [
    {
     "name": "stdout",
     "output_type": "stream",
     "text": [
      "100: 1, 2, 4, 5, 10, 20, 25, 50, 100\n",
      "sum of divisors 217\n",
      "101: 1, 101\n",
      "sum of divisors 102\n",
      "102: 1, 2, 3, 6, 17, 34, 51, 102\n",
      "sum of divisors 216\n",
      "103: 1, 103\n",
      "sum of divisors 104\n",
      "104: 1, 2, 4, 8, 13, 26, 52, 104\n",
      "sum of divisors 210\n",
      "105: 1, 3, 5, 7, 15, 21, 35, 105\n",
      "sum of divisors 192\n",
      "106: 1, 2, 53, 106\n",
      "sum of divisors 162\n",
      "107: 1, 107\n",
      "sum of divisors 108\n",
      "108: 1, 2, 3, 4, 6, 9, 12, 18, 27, 36, 54, 108\n",
      "sum of divisors 280\n",
      "109: 1, 109\n",
      "sum of divisors 110\n",
      "110: 1, 2, 5, 10, 10, 11, 11, 22, 55, 110\n",
      "sum of divisors 237\n",
      "108 has maximum sum of divisors\n"
     ]
    }
   ],
   "source": [
    "import math\n",
    "\n",
    "def numArrToString(numArr):\n",
    "    strArr = []\n",
    "    for i in numArr:\n",
    "        strArr.append(str(i))\n",
    "    return strArr\n",
    "def sumArr(numArr):\n",
    "    total = 0\n",
    "    for num in numArr:\n",
    "        total += num\n",
    "    return total\n",
    "\n",
    "def getPrimes(n):\n",
    "    sieveMax = math.ceil(math.sqrt(n)) + 1\n",
    "    factors = []\n",
    "    for i in range (1, sieveMax):\n",
    "        if (n % i == 0):\n",
    "            factors.append(i)\n",
    "    \n",
    "    altFactors = []\n",
    "    for f in factors:\n",
    "        if f!=(n/f):\n",
    "            altFactors.append(int(n / f))\n",
    "    factors.extend(altFactors)\n",
    "    factors.sort()\n",
    "    return factors\n",
    "\n",
    "factors = {}\n",
    "for i in range(100, 111):\n",
    "    factors[i] = getPrimes(i)\n",
    "\n",
    "highestFactorNum = 0\n",
    "highestFactorSum = 0\n",
    "for i, f in factors.items():\n",
    "    print(f\"{i}: {', '.join(numArrToString(f))}\")\n",
    "    factorSum = sumArr(f)\n",
    "    if factorSum > highestFactorSum:\n",
    "        highestFactorNum = i\n",
    "        highestFactorSum = factorSum\n",
    "    print(f\"sum of divisors {factorSum}\")\n",
    "    \n",
    "print(f\"{highestFactorNum} has maximum sum of divisors\")"
   ]
  },
  {
   "cell_type": "code",
   "execution_count": 34,
   "id": "b9d33372",
   "metadata": {},
   "outputs": [
    {
     "name": "stdout",
     "output_type": "stream",
     "text": [
      "Enter money put into pot: 100\n",
      "Played 415 rounds, pot reached 103\n"
     ]
    }
   ],
   "source": [
    "import random\n",
    "def roll():\n",
    "    return random.randint(1,6)\n",
    "\n",
    "pot = int(input(\"Enter money put into pot: \"))\n",
    "\n",
    "maxPot = 0\n",
    "rollInd = 0\n",
    "while pot > 0:\n",
    "    rollInd += 1\n",
    "    diceA = roll(); diceB = roll()\n",
    "    if diceA + diceB == 7:\n",
    "        pot += 4\n",
    "    else:\n",
    "        pot -= 1\n",
    "    if pot > maxPot:\n",
    "        maxPot = pot\n",
    "\n",
    "print(f\"Played {rollInd} rounds, pot reached {maxPot}\")"
   ]
  },
  {
   "cell_type": "code",
   "execution_count": 1,
   "id": "b677d87c",
   "metadata": {},
   "outputs": [
    {
     "name": "stdout",
     "output_type": "stream",
     "text": [
      "Enter your guess: 40\n",
      "Too small\n",
      "Enter your guess: 60\n",
      "Too small\n",
      "Enter your guess: 80\n",
      "Too large\n",
      "Enter your guess: 70\n",
      "Too large\n",
      "Enter your guess: 65\n",
      "Too large\n",
      "Enter your guess: 64\n",
      "Too large\n",
      "Enter your guess: 63\n",
      "Too large\n",
      "Enter your guess: 63\n",
      "Too large\n",
      "Enter your guess: 62\n",
      "You've got it in 9 tries!\n"
     ]
    }
   ],
   "source": [
    "import random\n",
    "number = random.randint(1, 100)\n",
    "\n",
    "tries = 0\n",
    "while True:\n",
    "    tries += 1\n",
    "    guess = int(input(\"Enter your guess: \"))\n",
    "    \n",
    "    if guess == number:\n",
    "        break\n",
    "    if guess > number:\n",
    "        print(\"Too large\")\n",
    "    else:\n",
    "        print(\"Too small\")\n",
    "        \n",
    "print(f\"You've got it in {tries} tries!\")"
   ]
  },
  {
   "cell_type": "code",
   "execution_count": 18,
   "id": "d49c675e",
   "metadata": {},
   "outputs": [
    {
     "name": "stdout",
     "output_type": "stream",
     "text": [
      "Guess:50 (respond: l | s | y): l\n",
      "Guess:75 (respond: l | s | y): l\n",
      "Guess:88 (respond: l | s | y): l\n",
      "Guess:94 (respond: l | s | y): l\n",
      "Guess:97 (respond: l | s | y): l\n",
      "Guess:99 (respond: l | s | y): l\n",
      "Number is 100!\n"
     ]
    }
   ],
   "source": [
    "def guess(num):\n",
    "    while True:   \n",
    "        res = input(f\"Guess:{num} (respond: l | s | y): \")\n",
    "        if res==\"l\":\n",
    "            return 1\n",
    "        elif res==\"s\":\n",
    "            return -1\n",
    "        elif res==\"y\":\n",
    "            return 0\n",
    "\n",
    "min = 0\n",
    "max = 100\n",
    "cursor = -1\n",
    "while True:\n",
    "    cursor = int((min + max) / 2)\n",
    "    if min == max:\n",
    "        break\n",
    "    \n",
    "    res = guess(cursor)\n",
    "    if res==1:\n",
    "        min = cursor+1\n",
    "    elif res==-1:\n",
    "        max = cursor-1\n",
    "    elif res==0:\n",
    "        break\n",
    "        \n",
    "print(f\"Number is {cursor}!\")    "
   ]
  },
  {
   "cell_type": "code",
   "execution_count": null,
   "id": "3835a6ad",
   "metadata": {},
   "outputs": [],
   "source": []
  }
 ],
 "metadata": {
  "kernelspec": {
   "display_name": "Python 3 (ipykernel)",
   "language": "python",
   "name": "python3"
  },
  "language_info": {
   "codemirror_mode": {
    "name": "ipython",
    "version": 3
   },
   "file_extension": ".py",
   "mimetype": "text/x-python",
   "name": "python",
   "nbconvert_exporter": "python",
   "pygments_lexer": "ipython3",
   "version": "3.10.7"
  }
 },
 "nbformat": 4,
 "nbformat_minor": 5
}
