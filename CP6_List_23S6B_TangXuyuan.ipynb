{
 "cells": [
  {
   "cell_type": "markdown",
   "metadata": {},
   "source": [
    "### List\n",
    "\n",
    "A list is an object that contains multiple data items. Each item is call an element.\n",
    "\n",
    "It is mutable - its contents can be changed during a program execution.\n",
    "\n",
    "Lists are dynamic data structures - items can be added/removed from them.\n",
    "\n",
    "It can hold items of different data types\n",
    "\n",
    "#### Creating a list\n",
    "\n",
    "Lists are declared/created by just equating a variable to `[ ]` or list.\n",
    "\n",
    "```\n",
    "empty_list = []\n",
    "print(type(empty_list))\n",
    "```\n",
    "\n",
    "Items in the list are seperated by comma `,`.\n",
    "\n",
    "```\n",
    "my_list = ['Clementi', 'Redhill', 'Queenstown']\n",
    "print(my_list)\n",
    "\n",
    "```\n",
    "List element can be of any data type. It is able to hold elements of mixed data types, although this is not commonly used.\n",
    "\n",
    "```\n",
    "my_list =  [1, 'A', 'Peter', 3.142, (1,), [1,23]]\n",
    "print(my_list)\n",
    "\n",
    "```\n",
    "\n",
    "**Example**\n",
    "\n",
    "```\n",
    "list1 = []  ##empty list\n",
    "numbers = [1,2,3,4,5]\n",
    "letters =['A', 'B','C','D']\n",
    "mixDataTypes = [1, 'A', 'Peter', 3.142, (1,), [1,23]]\n",
    "print(list)\n",
    "print(letters)\n",
    "print(numbers)\n",
    "print(mixDataTypes)\n",
    "```\n",
    "Copy the code and run it!"
   ]
  },
  {
   "cell_type": "code",
   "execution_count": 1,
   "metadata": {},
   "outputs": [
    {
     "name": "stdout",
     "output_type": "stream",
     "text": [
      "<class 'list'>\n",
      "['A', 'B', 'C', 'D']\n",
      "[1, 2, 3, 4, 5]\n",
      "[1, 'A', 'Peter', 3.142, (1,), [1, 23]]\n"
     ]
    }
   ],
   "source": [
    "list1 = []  ##empty list\n",
    "numbers = [1,2,3,4,5]\n",
    "letters =['A', 'B','C','D']\n",
    "mixDataTypes = [1, 'A', 'Peter', 3.142, (1,), [1,23]]\n",
    "print(list)\n",
    "print(letters)\n",
    "print(numbers)\n",
    "print(mixDataTypes)"
   ]
  },
  {
   "cell_type": "markdown",
   "metadata": {},
   "source": [
    "### list() - Create list using Python built-in function\n",
    "\n",
    "The list() function can convert certain types of objects to lists.\n",
    "\n",
    "**Example**\n",
    "\n",
    "```\n",
    "numbers = list(range(5))\n",
    "print(numbers)\n",
    "\n",
    "numbers2 = list(range(1,10,2))\n",
    "print(numbers2)\n",
    "```\n",
    "Copy the code and run it!  Try different ways to create a list using range() function."
   ]
  },
  {
   "cell_type": "code",
   "execution_count": 2,
   "metadata": {},
   "outputs": [
    {
     "name": "stdout",
     "output_type": "stream",
     "text": [
      "[0, 1, 2, 3, 4]\n",
      "[1, 3, 5, 7, 9]\n"
     ]
    }
   ],
   "source": [
    "numbers = list(range(5))\n",
    "print(numbers)\n",
    "\n",
    "numbers2 = list(range(1,10,2))\n",
    "print(numbers2)"
   ]
  },
  {
   "cell_type": "markdown",
   "metadata": {},
   "source": [
    "**Exercise**\n",
    "\n",
    "Write the code to\n",
    "\n",
    "* Create a list that contains elements that are numbers from 4 to 16\n",
    "* Create a list that contains elements that are odd numbers less than 20\n",
    "* Create a list that contains elements that are even numbers less than 20\n"
   ]
  },
  {
   "cell_type": "code",
   "execution_count": 7,
   "metadata": {},
   "outputs": [
    {
     "name": "stdout",
     "output_type": "stream",
     "text": [
      "[4, 5, 6, 7, 8, 9, 10, 11, 12, 13, 14, 15, 16]\n",
      "[1, 3, 5, 7, 9, 11, 13, 15, 17, 19]\n",
      "[0, 2, 4, 6, 8, 10, 12, 14, 16, 18, 20]\n"
     ]
    }
   ],
   "source": [
    "fourSixteen = list(range(4,17))\n",
    "oddTwenty = list(range(1, 21, 2))\n",
    "evenTwenty = list(range(0, 21, 2))\n",
    "\n",
    "print(fourSixteen)\n",
    "print(oddTwenty)\n",
    "print(evenTwenty)"
   ]
  },
  {
   "cell_type": "markdown",
   "metadata": {},
   "source": [
    "### Repetition Operator\n",
    "\n",
    "The repetition operator makes multiple copies of a list and joins them all together. *n* is the number of copies\n",
    "```\n",
    "list *  n\n",
    "```\n",
    "\n",
    "**Example**\n",
    "```\n",
    "\n",
    "x = [0] * 5\n",
    "print(x)\n",
    "\n",
    "numbers = [1, 2, 3] * 3\n",
    "print(numbers)\n",
    "```\n"
   ]
  },
  {
   "cell_type": "code",
   "execution_count": 8,
   "metadata": {},
   "outputs": [
    {
     "name": "stdout",
     "output_type": "stream",
     "text": [
      "[0, 0, 0, 0, 0]\n",
      "[1, 2, 3, 1, 2, 3, 1, 2, 3]\n"
     ]
    }
   ],
   "source": [
    "x = [0] * 5\n",
    "print(x)\n",
    "\n",
    "numbers = [1, 2, 3] * 3\n",
    "print(numbers)"
   ]
  },
  {
   "cell_type": "markdown",
   "metadata": {},
   "source": [
    "#### Nested List\n",
    "\n",
    "List can also have lists as its element, which creates a nested list.\n",
    "\n",
    "```\n",
    "nested = [ [10, 11, 12, 13], \n",
    "          [20, 21, 22, 23] ]\n",
    "print(nested)\n",
    "\n",
    "```\n"
   ]
  },
  {
   "cell_type": "markdown",
   "metadata": {},
   "source": [
    "### Access individual element of list\n",
    "\n",
    "Each element has an index that specifies its position in the list.  The element can be accessed using the index.\n",
    "\n",
    "Indexing starts from 0. \n",
    "\n",
    "**Example**\n",
    "```\n",
    "mylist = [10,20,30,40,50]\n",
    "print(mylist[0])\n",
    "print(mylist[4])\n",
    "```\n",
    "You can use negative indexes with list to identify element positions relative to the end of the list.\n",
    "The last element has an index of -1, and second last element has index of -2.\n",
    "\n",
    "```\n",
    "mylist = [10,20,30,40,50]\n",
    "print(mylist[-1])\n",
    "print(mylist[-5])\n",
    "```\n",
    "\n",
    "Copy the code and try it!"
   ]
  },
  {
   "cell_type": "code",
   "execution_count": 9,
   "metadata": {},
   "outputs": [
    {
     "name": "stdout",
     "output_type": "stream",
     "text": [
      "50\n",
      "10\n"
     ]
    }
   ],
   "source": [
    "mylist = [10,20,30,40,50]\n",
    "print(mylist[-1])\n",
    "print(mylist[-5])"
   ]
  },
  {
   "cell_type": "markdown",
   "metadata": {},
   "source": [
    "### Access individual element of nested list\n",
    "\n",
    "For nested list, we can access items by multi-level indexing. Each level of the index always starts from 0.\n",
    "\n",
    "```\n",
    "nested = [ [10, 11, 12, 13], \n",
    "          [20, 21, 22, 23] ]\n",
    "print(nested)\n",
    "\n",
    "## First elelment in first list\n",
    "print(nested[0][0])\n",
    "\n",
    "## Second element in 2nd \n",
    "print(nested[1][1])\n",
    "\n",
    "```\n",
    "\n",
    "Copy the code and run it!"
   ]
  },
  {
   "cell_type": "code",
   "execution_count": 10,
   "metadata": {},
   "outputs": [
    {
     "name": "stdout",
     "output_type": "stream",
     "text": [
      "[[10, 11, 12, 13], [20, 21, 22, 23]]\n",
      "10\n",
      "21\n"
     ]
    }
   ],
   "source": [
    "nested = [ [10, 11, 12, 13], \n",
    "          [20, 21, 22, 23] ]\n",
    "print(nested)\n",
    "\n",
    "## First elelment in first list\n",
    "print(nested[0][0])\n",
    "\n",
    "## Second element in 2nd \n",
    "print(nested[1][1])"
   ]
  },
  {
   "cell_type": "markdown",
   "metadata": {},
   "source": [
    "**Exercise**\n",
    "\n",
    "How do you access element **Blackcurrant** in following list?\n",
    "```\n",
    "nested_fruits = [['Apple', 'Orange', 'Banana'], \n",
    "    ['Banana', 'Blackcurrant', 'Blueberries'],\n",
    "    ['Cherries', 'Cranberries', 'Custard-Apple']]\n",
    "```\n",
    "\n",
    "Write the line of code that can be use to access the element **Blackcurrant**."
   ]
  },
  {
   "cell_type": "code",
   "execution_count": 14,
   "metadata": {},
   "outputs": [
    {
     "name": "stdout",
     "output_type": "stream",
     "text": [
      "Blackcurrant\n"
     ]
    }
   ],
   "source": [
    "nested_fruits = [['Apple', 'Orange', 'Banana'], \n",
    "    ['Banana', 'Blackcurrant', 'Blueberries'],\n",
    "    ['Cherries', 'Cranberries', 'Custard-Apple']]\n",
    "print(nested_fruits[1][1])"
   ]
  },
  {
   "cell_type": "markdown",
   "metadata": {},
   "source": [
    "### Access subset of elements in a list - Slicing\n",
    "\n",
    "To select more than 1 element in the list, you can slice the list.\n",
    "\n",
    "**Indexing** is only limited to accessing a single element.\n",
    "**Slicing** on the other hand is use for accessing a sequence of data inside the list. \n",
    "\n",
    "**Slicing** is done by defining the index values of the `first element` and the `last element` from the parent list that is required in the sliced list. \n",
    "\n",
    "```\n",
    "sub = num[a : b]\n",
    "sub = num[a : ]\n",
    "sub = num[: b]\n",
    "sub = num[:]\n",
    "```\n",
    " \n",
    "* if both `a` and `b` are specified, `a` is the first index, `b` is the **last index + 1**.\n",
    "* if `b` is omitted, it will slice till last element.\n",
    "* if `a` is omitted, it will starts from first element.\n",
    "* if neither `a` or `b` is specified, it is effectively copy the whole list\n",
    "\n",
    "**Note: the upper bound index is NOT inclusive!**\n",
    "\n",
    "\n",
    "### Slice with Negative Index\n",
    "\n",
    "Recall that the items in the list can be accessed using negative index. Same technique can be applied for slicing too.\n",
    "\n",
    "* Last item has index of -1\n",
    "\n",
    "\n",
    "**Example**\n",
    "\n",
    "```\n",
    "mylist = list(range(1,20))\n",
    "print(mylist)\n",
    "\n",
    "mylistpart = mylist[2:10]\n",
    "print(mylistpart)\n",
    "\n",
    "mylistpart2 = mylist[-5:]\n",
    "print(mylistpart2)\n",
    "\n",
    "mylistpart3 = mylist[:]\n",
    "print(mylistpart3)\n",
    "\n",
    "mylistpart4 = mylist[2:10:2]\n",
    "print(mylistpart4)\n",
    "\n",
    "mylistpart5 = mylist[::2]\n",
    "print(mylistpart5)\n",
    "\n",
    "mylistpart6 = mylist[::-1]\n",
    "print(mylistpart6)\n",
    "\n",
    "```\n",
    "Copy the code and run it!"
   ]
  },
  {
   "cell_type": "code",
   "execution_count": 15,
   "metadata": {},
   "outputs": [
    {
     "name": "stdout",
     "output_type": "stream",
     "text": [
      "[1, 2, 3, 4, 5, 6, 7, 8, 9, 10, 11, 12, 13, 14, 15, 16, 17, 18, 19]\n",
      "[3, 4, 5, 6, 7, 8, 9, 10]\n",
      "[15, 16, 17, 18, 19]\n",
      "[1, 2, 3, 4, 5, 6, 7, 8, 9, 10, 11, 12, 13, 14, 15, 16, 17, 18, 19]\n",
      "[3, 5, 7, 9]\n",
      "[1, 3, 5, 7, 9, 11, 13, 15, 17, 19]\n",
      "[19, 18, 17, 16, 15, 14, 13, 12, 11, 10, 9, 8, 7, 6, 5, 4, 3, 2, 1]\n"
     ]
    }
   ],
   "source": [
    "mylist = list(range(1,20))\n",
    "print(mylist)\n",
    "\n",
    "mylistpart = mylist[2:10]\n",
    "print(mylistpart)\n",
    "\n",
    "mylistpart2 = mylist[-5:]\n",
    "print(mylistpart2)\n",
    "\n",
    "mylistpart3 = mylist[:]\n",
    "print(mylistpart3)\n",
    "\n",
    "mylistpart4 = mylist[2:10:2]\n",
    "print(mylistpart4)\n",
    "\n",
    "mylistpart5 = mylist[::2]\n",
    "print(mylistpart5)\n",
    "\n",
    "mylistpart6 = mylist[::-1]\n",
    "print(mylistpart6)"
   ]
  },
  {
   "cell_type": "markdown",
   "metadata": {},
   "source": [
    "**Exercise** \n",
    "\n",
    "* How to create 2 equal length sub list from `num`, where `num` is a list of integer from 0 to 9?\n",
    "* How to get last 3 items from a list?\n",
    "* How to ignore last 3 items from a list?\n",
    "* How to strip first and last items from a list?"
   ]
  },
  {
   "cell_type": "markdown",
   "metadata": {},
   "source": [
    "### Finding the size of the list using len()\n",
    "\n",
    "The built-in function len() returns the number of elements in the list\n",
    "\n",
    "```\n",
    "mylist = list(range(10))\n",
    "print(len(mylist))\n",
    "\n",
    "```\n"
   ]
  },
  {
   "cell_type": "code",
   "execution_count": 16,
   "metadata": {},
   "outputs": [
    {
     "name": "stdout",
     "output_type": "stream",
     "text": [
      "10\n"
     ]
    }
   ],
   "source": [
    "mylist = list(range(10))\n",
    "print(len(mylist))"
   ]
  },
  {
   "cell_type": "markdown",
   "metadata": {},
   "source": [
    "### Iterating over a list with *For* loop\n",
    "\n",
    "You can iterate over a list with the ***For*** loop.\n",
    "\n",
    "**Example**\n",
    "\n",
    "```\n",
    "mylist = [10,20,30,40,50]\n",
    "for x in mylist:\n",
    "    print(x)\n",
    "\n",
    "```\n",
    "\n",
    "### Iterating over a list with *While* loop\n",
    "\n",
    "You can iterate over a list with the ***While*** loop.\n",
    "\n",
    "```\n",
    "mylist = [10,20,30,40,50]\n",
    "n=0\n",
    "while n<len(mylist):\n",
    "    print(mylist(n))\n",
    "    n+=1\n",
    "```\n",
    "Copy the code and try!"
   ]
  },
  {
   "cell_type": "code",
   "execution_count": 18,
   "metadata": {},
   "outputs": [
    {
     "name": "stdout",
     "output_type": "stream",
     "text": [
      "10\n",
      "20\n",
      "30\n",
      "40\n",
      "50\n"
     ]
    }
   ],
   "source": [
    "mylist = [10,20,30,40,50]\n",
    "n=0\n",
    "while n<len(mylist):\n",
    "    print(mylist[n])\n",
    "    n+=1"
   ]
  },
  {
   "cell_type": "markdown",
   "metadata": {},
   "source": [
    "### Lists are mutable\n",
    "\n",
    "Lists in Python are mutable, their elements can be changed.\n",
    "\n",
    "````\n",
    "mylist = [10,20,30,40,50]\n",
    "print(\"Before changing mylist[2]:mylist contains {} and id of mylist is {}\".format(mylist, id(mylist)))\n",
    "\n",
    "mylist[2]=90\n",
    "print(\"After changing mylist[2]:mylist contains {} and id of mylist is {}\".format(mylist, id(mylist)))\n",
    "\n",
    "output:\n",
    "Before changing mylist[2]:mylist contains [10, 20, 30, 40, 50] and id of mylist is 2317769112072\n",
    "After changing mylist[2]:mylist contains [10, 20, 90, 40, 50] and id of mylist is 2317769112072\n",
    "\n",
    "````\n",
    "\n",
    "Note that the content of mylist has changed but the ID of mylist remains the same."
   ]
  },
  {
   "cell_type": "markdown",
   "metadata": {},
   "source": [
    "### Concatenating lists\n",
    "\n",
    "To concatenate or join 2 lists, you can use the + operator.\n",
    "\n",
    "**Example**\n",
    "\n",
    "```\n",
    "list1 = [1,2,3,4]\n",
    "list2 = [6,7,8,9]\n",
    "\n",
    "list3 = list1 + list2\n",
    "print(list3)\n",
    "\n",
    "fruits = ['apple','orange']\n",
    "fruits2 = ['pineapple','banana']\n",
    "allfruits = fruits + fruits2\n",
    "print(allfruits)\n",
    "\n",
    "```\n",
    "You can use += augmented assignment operator to concatenate one list to another.\n",
    "\n",
    "**Example**\n",
    "\n",
    "```\n",
    "list1 = [1,2,3,4]\n",
    "list2 = [6,7,8,9]\n",
    "\n",
    "list1 += list2\n",
    "print(list1)\n",
    "\n",
    "fruits = ['apple','orange']\n",
    "fruits += ['pineapple','banana']\n",
    "print(fruits)\n",
    "```\n",
    "\n",
    "Explore the above code further by trying different combinations!"
   ]
  },
  {
   "cell_type": "code",
   "execution_count": 19,
   "metadata": {},
   "outputs": [
    {
     "name": "stdout",
     "output_type": "stream",
     "text": [
      "[1, 2, 3, 4, 6, 7, 8, 9]\n",
      "['apple', 'orange', 'pineapple', 'banana']\n"
     ]
    }
   ],
   "source": [
    "list1 = [1,2,3,4]\n",
    "list2 = [6,7,8,9]\n",
    "\n",
    "list1 += list2\n",
    "print(list1)\n",
    "\n",
    "fruits = ['apple','orange']\n",
    "fruits += ['pineapple','banana']\n",
    "print(fruits)"
   ]
  },
  {
   "cell_type": "markdown",
   "metadata": {},
   "source": [
    "### Checkpoint\n",
    "\n",
    "**What will the following code display?**\n",
    "   \n",
    "```\n",
    "a.  numbers = [10 , 15, 20, 30, 45]\n",
    "    numbers[3]=50\n",
    "    print(numbers)\n",
    "\n",
    "b. numbers = list(range(3))\n",
    "   print(numbers)\n",
    "   \n",
    "c. numbers = list(range(1,10,2))\n",
    "   for n in numbers:\n",
    "       print(n)\n",
    "\n",
    "d. numbers1 = [10,30,50]\n",
    "   numbers2 = [15,40,55]\n",
    "   numbers1 += numbers2\n",
    "   print(numbers1)\n",
    "   numbers3 = numbers1 + numbers2\n",
    "   print(numbers2)\n",
    "   print(numbers3)\n",
    "   numbers2 += numbers1\n",
    "   print(numbers2)\n",
    "    \n",
    "```\n",
    "Use pen and paper method to test your understanding... when done, run the code to check whether you are right."
   ]
  },
  {
   "cell_type": "code",
   "execution_count": 20,
   "metadata": {},
   "outputs": [
    {
     "name": "stdout",
     "output_type": "stream",
     "text": [
      "[10, 30, 50, 15, 40, 55]\n",
      "[15, 40, 55]\n",
      "[10, 30, 50, 15, 40, 55, 15, 40, 55]\n",
      "[15, 40, 55, 10, 30, 50, 15, 40, 55]\n"
     ]
    }
   ],
   "source": [
    "# a. [10, 15, 20, 50, 45]\n",
    "# b. [0, 1, 2]\n",
    "# c. 1, 3, 5, 7,  9\n",
    "# d. [10, 30, 50, 14, 40, 55], [15, 40, 55], \n",
    "#    [10, 30, 50, 15, 40, 55, 15, 40, 55], [15, 40, 55, 10, 30, 50, 15, 40, 55]\n",
    "\n",
    "numbers1 = [10,30,50]\n",
    "numbers2 = [15,40,55]\n",
    "numbers1 += numbers2\n",
    "print(numbers1)\n",
    "numbers3 = numbers1 + numbers2\n",
    "print(numbers2)\n",
    "print(numbers3)\n",
    "numbers2 += numbers1\n",
    "print(numbers2)"
   ]
  },
  {
   "cell_type": "markdown",
   "metadata": {},
   "source": [
    "### Using in and not in operator to find items in list\n",
    "\n",
    "The expression *item in list* will return True if the *item* is in the *list*. Otherwise False will be returned.\n",
    "\n",
    "The expression *item not in list* will return True if the *item* is ***NOT*** in the *list*. Otherwise False will be returned.\n",
    "\n",
    "```\n",
    "fruitbasket = ['apple', 'orange', 'grapes', 'durian', 'peach', 'pear']\n",
    "\n",
    "if 'pear' in fruitbasket:\n",
    "    print(\"Pear is in the fruit basket\")\n",
    "else:\n",
    "    print(\"Pear is not in the fruit basket\")\n",
    "    \n",
    "\n",
    "if 'papaya' not in fruitbasket:\n",
    "    print(\"Papaya is not in the fruit basket\")\n",
    "else:\n",
    "    print(\"Papaya is in the fruit basket\")\n",
    "\n",
    "    \n",
    "```\n",
    "Explore the above code further by trying different combinations!"
   ]
  },
  {
   "cell_type": "code",
   "execution_count": 21,
   "metadata": {},
   "outputs": [
    {
     "name": "stdout",
     "output_type": "stream",
     "text": [
      "Pear is in the fruit basket\n",
      "Papaya is not in the fruit basket\n"
     ]
    }
   ],
   "source": [
    "fruitbasket = ['apple', 'orange', 'grapes', 'durian', 'peach', 'pear']\n",
    "\n",
    "if 'pear' in fruitbasket:\n",
    "    print(\"Pear is in the fruit basket\")\n",
    "else:\n",
    "    print(\"Pear is not in the fruit basket\")\n",
    "    \n",
    "\n",
    "if 'papaya' not in fruitbasket:\n",
    "    print(\"Papaya is not in the fruit basket\")\n",
    "else:\n",
    "    print(\"Papaya is in the fruit basket\")"
   ]
  },
  {
   "cell_type": "markdown",
   "metadata": {},
   "source": [
    "# List Methods\n",
    "\n",
    "**List methods**\n",
    "\n",
    "| Method | Description |\n",
    "|:---------------------- | :------------------------------ |\n",
    "| l.append(element) | Adds element to the end of the list l.|\n",
    "| l.copy() | Returns a shadow copy of the list l.|\n",
    "| l.count() | Returns the occurence of a particular item in a list.|\n",
    "| l.extend(alist) | Adds the elements of alist to the end of l.|\n",
    "| l.insert(index, element) | Insert the element at ***index*** if index is less than the length of l. Otherwise insert the element at the end of the list.|\n",
    "| l.index(item) | Returns the index of the first element whose value is equal to item.  A ValueError exception will raised  if item is not found in the list.|\n",
    "| l.pop() | Removes and returns the element at the end of l.|\n",
    "| l.pop(index) | Removes and returns the element at index.|\n",
    "| l.sort() | Sorts the items in the list so they appear in ascending order (lowest to highest value).|\n",
    "| l.remove(item) | Removes the first occurrences of *item* from the list.  A ValueError exception is raised if item is not found in the list.|\n",
    "| l.reverse() | Reverses the order of the items in the list.|\n",
    "\n",
    "\n",
    "**Example**\n",
    "\n",
    "```\n",
    "#### using append\n",
    "mylist1  = [10,20,30,50,80]\n",
    "print(mylist1)\n",
    "mylist.append(100)\n",
    "print(mylist1)\n",
    "\n",
    "#### using copy\n",
    "mylist2  = [10,20,30,50,80]\n",
    "newlist = mylist2.copy()\n",
    "print(mylist2)\n",
    "print(newlist)\n",
    "\n",
    "### How does extend works? run the code to find out!\n",
    "mylist1.extend(mylist2)\n",
    "print(mylist1)\n",
    "print(mylist2)\n",
    "\n",
    "mylist1.insert(5, 90)\n",
    "mylist1.insert(9, 90)\n",
    "print(mylist1)\n",
    "n = mylist1.index(90)\n",
    "print(n)\n",
    "\n",
    "m = mylist1.pop()\n",
    "print(m)\n",
    "print(mylist1)\n",
    "\n",
    "m = mylist1.pop(6)\n",
    "print(m)\n",
    "print(mylist1)\n",
    "mylist1.sort()\n",
    "print(mylist1)\n",
    "\n",
    "mylist1.remove(90)\n",
    "print(mylist1)\n",
    "\n",
    "print(mylist2)\n",
    "mylist2.reverse()\n",
    "print(mylist2)\n",
    "\n",
    "```\n",
    "\n",
    "Explore the above code further by trying different combinations!\n"
   ]
  },
  {
   "cell_type": "code",
   "execution_count": 22,
   "metadata": {},
   "outputs": [
    {
     "name": "stdout",
     "output_type": "stream",
     "text": [
      "[10, 20, 30, 50, 80]\n",
      "[10, 20, 30, 50, 80]\n",
      "[10, 20, 30, 50, 80]\n",
      "[10, 20, 30, 50, 80]\n",
      "[10, 20, 30, 50, 80, 10, 20, 30, 50, 80]\n",
      "[10, 20, 30, 50, 80]\n",
      "[10, 20, 30, 50, 80, 90, 10, 20, 30, 90, 50, 80]\n",
      "5\n",
      "80\n",
      "[10, 20, 30, 50, 80, 90, 10, 20, 30, 90, 50]\n",
      "10\n",
      "[10, 20, 30, 50, 80, 90, 20, 30, 90, 50]\n",
      "[10, 20, 20, 30, 30, 50, 50, 80, 90, 90]\n",
      "[10, 20, 20, 30, 30, 50, 50, 80, 90]\n",
      "[10, 20, 30, 50, 80]\n",
      "[80, 50, 30, 20, 10]\n"
     ]
    }
   ],
   "source": [
    "#### using append\n",
    "mylist1  = [10,20,30,50,80]\n",
    "print(mylist1)\n",
    "mylist.append(100)\n",
    "print(mylist1)\n",
    "\n",
    "#### using copy\n",
    "mylist2  = [10,20,30,50,80]\n",
    "newlist = mylist2.copy()\n",
    "print(mylist2)\n",
    "print(newlist)\n",
    "\n",
    "### How does extend works? run the code to find out!\n",
    "mylist1.extend(mylist2)\n",
    "print(mylist1)\n",
    "print(mylist2)\n",
    "\n",
    "mylist1.insert(5, 90)\n",
    "mylist1.insert(9, 90)\n",
    "print(mylist1)\n",
    "n = mylist1.index(90)\n",
    "print(n)\n",
    "\n",
    "m = mylist1.pop()\n",
    "print(m)\n",
    "print(mylist1)\n",
    "\n",
    "m = mylist1.pop(6)\n",
    "print(m)\n",
    "print(mylist1)\n",
    "mylist1.sort()\n",
    "print(mylist1)\n",
    "\n",
    "mylist1.remove(90)\n",
    "print(mylist1)\n",
    "\n",
    "print(mylist2)\n",
    "mylist2.reverse()\n",
    "print(mylist2)"
   ]
  },
  {
   "cell_type": "markdown",
   "metadata": {},
   "source": [
    "\n",
    "**Built-in functions**\n",
    "\n",
    "| Built-in Function | Description |\n",
    "|:---------------------- | :------------------------------ |\n",
    "| del | Removes the element at a specified index.|\n",
    "| min() | Returns the item that has the lowest value in the list.|\n",
    "| max() | Returns the item that has the highest value in the list.|\n",
    "\n",
    "\n",
    "**Example**\n",
    "\n",
    "```\n",
    "#### using del\n",
    "mylist  = [10,20,30,50,80]\n",
    "print(mylist)\n",
    "del mylist[2]\n",
    "print(mylist)\n",
    "\n",
    "#### using min and max\n",
    "mylist =  [10,20,30,50,80]\n",
    "print(min(mylist))\n",
    "print(max(mylist))\n",
    "```\n",
    "Explore the above code further by trying different combinations!"
   ]
  },
  {
   "cell_type": "code",
   "execution_count": 23,
   "metadata": {},
   "outputs": [
    {
     "name": "stdout",
     "output_type": "stream",
     "text": [
      "[10, 20, 30, 50, 80]\n",
      "[10, 20, 50, 80]\n",
      "10\n",
      "80\n"
     ]
    }
   ],
   "source": [
    "#### using del\n",
    "mylist  = [10,20,30,50,80]\n",
    "print(mylist)\n",
    "del mylist[2]\n",
    "print(mylist)\n",
    "\n",
    "#### using min and max\n",
    "mylist =  [10,20,30,50,80]\n",
    "print(min(mylist))\n",
    "print(max(mylist))"
   ]
  },
  {
   "cell_type": "markdown",
   "metadata": {},
   "source": [
    "### Copying a list\n",
    "\n",
    "Common mistake on copying of a list \n",
    "\n",
    "```\n",
    "list1= [0,1,2,3]\n",
    "list2 = list1\n",
    "print(list1 == list2)\n",
    "print(list1 is list2)\n",
    "\n",
    "\n",
    "# Modify a list, both lists are affected\n",
    "list1.pop()\n",
    "print(list1)\n",
    "print(list2)\n",
    "```\n",
    "\n",
    "To create a separate copy of list, do the following:\n",
    "* By slicing\n",
    "```\n",
    "list1 = [0,1,2,3]\n",
    "list2 = list1[:]\n",
    "print(list1 == list2)\n",
    "print(list1 is list2)\n",
    "list1.pop()\n",
    "print(list1)\n",
    "print(list2)\n",
    "```\n",
    "* By using list()\n",
    "```\n",
    "list1 = [0,1,2,3]\n",
    "list2 = list(list1)\n",
    "print(list1 == list2)\n",
    "print(list1 is list2)\n",
    "list1.pop()\n",
    "print(list1)\n",
    "print(list2)\n",
    "```"
   ]
  },
  {
   "cell_type": "code",
   "execution_count": null,
   "metadata": {
    "collapsed": true
   },
   "outputs": [],
   "source": []
  },
  {
   "cell_type": "markdown",
   "metadata": {},
   "source": [
    "**Execrise 1**\n",
    "\n",
    "1. Write a program that accept and store a list of unique names. The program will ends and print out all the names that were keyed in when **XXX** is keyed in.\n",
    "\n",
    "*Hints: Use a loop to accept and stores the names in a list using append(). *"
   ]
  },
  {
   "cell_type": "code",
   "execution_count": 24,
   "metadata": {},
   "outputs": [
    {
     "name": "stdout",
     "output_type": "stream",
     "text": [
      "N: AAAAAA\n",
      "N: BBBBB\n",
      "N: Lorem\n",
      "N: Ipsum\n",
      "N: \n",
      "['AAAAAA', 'BBBBB', 'Lorem', 'Ipsum']\n"
     ]
    }
   ],
   "source": [
    "names = []\n",
    "\n",
    "line = input(\"N: \")\n",
    "while line != \"\":\n",
    "    names.append(line.strip())\n",
    "    line = input(\"N: \")\n",
    "    \n",
    "print(names)"
   ]
  },
  {
   "cell_type": "markdown",
   "metadata": {},
   "source": [
    "**Execrise 2**\n",
    "\n",
    "2. Write a program that read and store the name of books in the file ***books.txt*** and display the name of the books in ascending order of the name.  \n",
    "\n",
    "*Hint: Open the file and read in each line of the file. Extract the name of the book in each line and store in the list. Sort the list and print out the name of the books. *\n",
    "* Warning ... like most data files, there are errors in books.txt ... like all programmers .. resolved them some how*"
   ]
  },
  {
   "cell_type": "code",
   "execution_count": null,
   "metadata": {},
   "outputs": [],
   "source": [
    "file = open(\"books.txt\", 'r')\n",
    "\n",
    "\n"
   ]
  },
  {
   "cell_type": "markdown",
   "metadata": {},
   "source": [
    "### Passing Lists to Functions\n",
    "\n",
    "```\n",
    "def addElementIntoList( element, alist):\n",
    "    if element not in alist:\n",
    "        alist.append(element)\n",
    "\n",
    "mylist = [1 , 2, 3]\n",
    "addElementIntoList(10, mylist)\n",
    "\n",
    "print(mylist)\n",
    "```\n",
    "\n"
   ]
  },
  {
   "cell_type": "code",
   "execution_count": 2,
   "metadata": {},
   "outputs": [
    {
     "name": "stdout",
     "output_type": "stream",
     "text": [
      "[1, 2, 3, 10]\n"
     ]
    }
   ],
   "source": []
  },
  {
   "cell_type": "markdown",
   "metadata": {},
   "source": [
    "### Passing Lists to Functions - list as a default argument\n",
    "```\n",
    "def addElementIntoList( element, alist=[]):\n",
    "    if element not in alist:\n",
    "        alist.append(element)\n",
    "    return alist\n",
    "\n",
    "mylist = addElementIntoList(10)\n",
    "print(mylist)\n",
    "\n",
    "mylist = addElementIntoList(20)\n",
    "print(mylist)\n",
    "\n",
    "mylist2 = [1,2,3]\n",
    "\n",
    "mylist3=addElementIntoList(20, mylist2)\n",
    "print(mylist3)\n",
    "\n",
    "```"
   ]
  },
  {
   "cell_type": "code",
   "execution_count": 9,
   "metadata": {},
   "outputs": [
    {
     "name": "stdout",
     "output_type": "stream",
     "text": [
      "[10]\n",
      "[10, 20]\n",
      "[1, 2, 3, 20]\n"
     ]
    }
   ],
   "source": []
  },
  {
   "cell_type": "markdown",
   "metadata": {},
   "source": [
    "If you want the default list to be empty for every function call, use the following:\n",
    "```\n",
    "def addElementIntoList( element, alist=None):\n",
    "    if alist == None:\n",
    "        alist=[]\n",
    "    if element not in alist:\n",
    "        alist.append(element)\n",
    "    return alist\n",
    "    \n",
    "mylist = addElementIntoList(10)\n",
    "print(mylist)\n",
    "\n",
    "mylist = addElementIntoList(20)\n",
    "print(mylist)\n",
    "\n",
    "mylist2 = [1,2,3]\n",
    "\n",
    "mylist3=addElementIntoList(20, mylist2)\n",
    "print(mylist3)\n",
    "```"
   ]
  },
  {
   "cell_type": "code",
   "execution_count": 10,
   "metadata": {},
   "outputs": [
    {
     "name": "stdout",
     "output_type": "stream",
     "text": [
      "[10]\n",
      "[20]\n",
      "[1, 2, 3, 20]\n"
     ]
    }
   ],
   "source": []
  },
  {
   "cell_type": "markdown",
   "metadata": {},
   "source": [
    "**Execrise 3**\n",
    "\n",
    "3. Create a empty list and assign it to the variable myList."
   ]
  },
  {
   "cell_type": "code",
   "execution_count": null,
   "metadata": {},
   "outputs": [],
   "source": []
  },
  {
   "cell_type": "markdown",
   "metadata": {},
   "source": [
    "b. Add even numbers from 1 to 50 (inclusive) into myList in descending order."
   ]
  },
  {
   "cell_type": "code",
   "execution_count": null,
   "metadata": {},
   "outputs": [],
   "source": []
  },
  {
   "cell_type": "markdown",
   "metadata": {},
   "source": [
    "c. Create another list (myList2) which contains the elements which are the multiples of 4 from 1 to 50 (inclusive)."
   ]
  },
  {
   "cell_type": "code",
   "execution_count": null,
   "metadata": {},
   "outputs": [],
   "source": []
  },
  {
   "cell_type": "markdown",
   "metadata": {},
   "source": [
    "d. Create another list (myList3) which contains the elements which are the multiples of 7 from 1 to 100."
   ]
  },
  {
   "cell_type": "code",
   "execution_count": null,
   "metadata": {},
   "outputs": [],
   "source": []
  },
  {
   "cell_type": "markdown",
   "metadata": {},
   "source": [
    "e. Append myList3 to myList2."
   ]
  },
  {
   "cell_type": "code",
   "execution_count": null,
   "metadata": {},
   "outputs": [],
   "source": []
  },
  {
   "cell_type": "markdown",
   "metadata": {},
   "source": [
    "f. Sort myList2 in ascending order and print myList2."
   ]
  },
  {
   "cell_type": "code",
   "execution_count": null,
   "metadata": {},
   "outputs": [],
   "source": []
  },
  {
   "cell_type": "markdown",
   "metadata": {},
   "source": [
    "g. Remove any duplicates from the myList2."
   ]
  },
  {
   "cell_type": "code",
   "execution_count": null,
   "metadata": {},
   "outputs": [],
   "source": []
  },
  {
   "cell_type": "markdown",
   "metadata": {},
   "source": [
    "h. Append into myList2, 10 randomly generated random integers between and include 1 to 100 that is not already in myList2."
   ]
  },
  {
   "cell_type": "code",
   "execution_count": null,
   "metadata": {},
   "outputs": [],
   "source": []
  },
  {
   "cell_type": "markdown",
   "metadata": {},
   "source": [
    "i. Remove the elements in myList that is in myList2."
   ]
  },
  {
   "cell_type": "code",
   "execution_count": null,
   "metadata": {},
   "outputs": [],
   "source": []
  },
  {
   "cell_type": "markdown",
   "metadata": {},
   "source": [
    "j. Insert into myList, 5 randomly generated random integers between and include 10 to 80 into randomly generated position of myList. The generated integer should not be in myList. Print out the integers inserted into myList and its insertion position and myList after the insertion."
   ]
  },
  {
   "cell_type": "code",
   "execution_count": null,
   "metadata": {},
   "outputs": [],
   "source": []
  },
  {
   "cell_type": "markdown",
   "metadata": {},
   "source": [
    "k. Sum up the values of the elements in the myList and print it out."
   ]
  },
  {
   "cell_type": "code",
   "execution_count": null,
   "metadata": {},
   "outputs": [],
   "source": []
  },
  {
   "cell_type": "markdown",
   "metadata": {},
   "source": [
    "4.  Write a program that reads integers from the user and stores them in a list. Use 0 as a sentinal value to mark the end of the input. Once all the values have been read your program should display all the values entered (except for the 0) in order from largest to smallest, with one value appearing on each line. Use either the **sort** method or the **sorted** function to sort the list."
   ]
  },
  {
   "cell_type": "code",
   "execution_count": null,
   "metadata": {},
   "outputs": [],
   "source": []
  },
  {
   "cell_type": "markdown",
   "metadata": {},
   "source": [
    "5.  The function  **randint** from the random module  can be used to produce random numbers. A call on **random.randint(1, 6)**, for example, will produce the values 1 to 6 with equal probability. Write a program that loops 1000 times. On each iteration, it makes two calls on **randint** to simulate the rolling a pair of dice. Compute the sum of the two dice, and record the number of times each value appears. After the loop, print the array of sums. Here is what the output should look like:\n",
    "```\n",
    "Sum       Frequency \n",
    "2         27        \n",
    "3         47        \n",
    "4         80        \n",
    "5         94        \n",
    "6         143       \n",
    "7         184       \n",
    "8         137       \n",
    "9         109       \n",
    "10        97        \n",
    "11        54        \n",
    "12        28        \n",
    "Total     1000      \n",
    "```"
   ]
  },
  {
   "cell_type": "code",
   "execution_count": null,
   "metadata": {},
   "outputs": [],
   "source": [
    "\n",
    "        "
   ]
  },
  {
   "cell_type": "markdown",
   "metadata": {},
   "source": [
    "6. In order to win the top prize in a lottery, one must match all 6 numbers on his ticket to the 6 numbers between 1 and 49 that are drawn by the lottery organizer. Write a program that generates a random selection of 6 numbers for a lottery ticket. Ensure that the 6 numbers selected do not contain any duplicates. Display the numbers in ascending order.  "
   ]
  },
  {
   "cell_type": "code",
   "execution_count": null,
   "metadata": {},
   "outputs": [],
   "source": []
  },
  {
   "cell_type": "markdown",
   "metadata": {},
   "source": [
    "7. The data file ```VIA.DAT``` contains information about students and the number of hours of the various types of Values in Action projects that the students have completed. The format of \n",
    "   a student record is as follows:\n",
    "  ```\n",
    "  <Student Name>\n",
    "  <Self-Initiated VIA Hours>:<School VIA Hours>:<Other VIA Hours>\n",
    "  ```\n",
    "  Sample record:\n",
    "  ```\n",
    "  Tan Ah Beng\n",
    "  13:5:8\n",
    "  ```\n",
    "  The civics tutor of the class would like to find out the names of the students who have not completed __x__, the minimum number of VIA hours entered by the civics tutor, so that she can 'motivate' them. Write a program to output the count and names of students who have completed less than **x** hours of VIA in ascending number of total VIA hours. \n"
   ]
  },
  {
   "cell_type": "code",
   "execution_count": null,
   "metadata": {},
   "outputs": [],
   "source": []
  },
  {
   "cell_type": "markdown",
   "metadata": {},
   "source": [
    "8(a). The file **words1.txt** and **words2.txt** store a list of single word computing terms used in a text book.\n",
    "\n",
    "Each entry has the following format:\n",
    "```\n",
    "<computing term>\n",
    "<number>\n",
    "```\n",
    "One of the entries is:\n",
    "```\n",
    "program\n",
    "52```\n",
    "\n",
    "This means that after a complete scan of the texbook the word **program** was found **52** times. Write a program code to find and output the term with the highest number of occurrences. Use th file **words1.txt** to test your program\n",
    "(ans: computing 75)\n"
   ]
  },
  {
   "cell_type": "code",
   "execution_count": null,
   "metadata": {},
   "outputs": [],
   "source": []
  },
  {
   "cell_type": "markdown",
   "metadata": {},
   "source": [
    "8(b). Amend your program code in 8(a) so that if more than one term exists with the highest number of occurrences, all items are reported. Use the file words2.txt to test your program. (ans: 86, system, computer)"
   ]
  },
  {
   "cell_type": "code",
   "execution_count": null,
   "metadata": {},
   "outputs": [],
   "source": []
  },
  {
   "cell_type": "markdown",
   "metadata": {},
   "source": [
    "\n"
   ]
  }
 ],
 "metadata": {
  "kernelspec": {
   "display_name": "Python 3 (ipykernel)",
   "language": "python",
   "name": "python3"
  },
  "language_info": {
   "codemirror_mode": {
    "name": "ipython",
    "version": 3
   },
   "file_extension": ".py",
   "mimetype": "text/x-python",
   "name": "python",
   "nbconvert_exporter": "python",
   "pygments_lexer": "ipython3",
   "version": "3.10.10"
  }
 },
 "nbformat": 4,
 "nbformat_minor": 2
}
