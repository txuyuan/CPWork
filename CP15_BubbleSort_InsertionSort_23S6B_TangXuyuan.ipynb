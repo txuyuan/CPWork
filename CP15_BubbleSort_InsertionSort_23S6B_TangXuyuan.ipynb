{
 "cells": [
  {
   "cell_type": "markdown",
   "metadata": {},
   "source": [
    "### CP15 - Sorting Algorithms - Bubble sort, Insertion sort  \n",
    "\n",
    "#### Task 1\n",
    "\n",
    "Write a function: **bubbleSort** that accepts 1 arguments. It sorts the array in ascending order using bubble sort algorithm stopped when the last exchange index is 0 after a pass. \n",
    "Use a **while loop** to implement the sorting algorithm.\n",
    "\n",
    "* A - an array\n",
    "\n",
    "and returns a sorted array.\n",
    "Write test case to test your function using the array: [38, 58, 13, 15, 51, 27, 10, 19, 12, 86, 49, 67, 84, 60, 25]\n",
    "\n"
   ]
  },
  {
   "cell_type": "code",
   "execution_count": 7,
   "metadata": {},
   "outputs": [],
   "source": [
    "def bubbleSort(A):\n",
    "    sorted = False\n",
    "    while not sorted:\n",
    "        sorted = True\n",
    "        for i in range(len(A)-1):\n",
    "            left, right = i, i+1\n",
    "            if A[left] > A[right]:\n",
    "                sorted = False\n",
    "                A[left], A[right] = A[right], A[left]\n",
    "    return A"
   ]
  },
  {
   "cell_type": "code",
   "execution_count": 10,
   "metadata": {},
   "outputs": [
    {
     "name": "stdout",
     "output_type": "stream",
     "text": [
      "Tests passed!\n"
     ]
    }
   ],
   "source": [
    "test1 = [17, 26, 54, 93, 20, 44, 55, 13, 30]\n",
    "assert bubbleSort(test1) == [13, 17, 20, 26, 30, 44, 54, 55, 93]\n",
    "print(\"Tests passed!\")"
   ]
  },
  {
   "cell_type": "markdown",
   "metadata": {},
   "source": [
    "#### Task 2\n",
    "\n",
    "Write a function: **bubbleSort2** that accepts 1 arguments. \n",
    "It sorts the array in ascending order using bubble sort algorithm stopped when the last exchange index is 0 after a pass. \n",
    "Use a **for loop** to implement the sorting algorithm.\n",
    "\n",
    "* A - an array\n",
    "\n",
    "and returns a sorted array.\n",
    "Write test case to test your function using the array: [38, 58, 13, 15, 51, 27, 10, 19, 12, 86, 49, 67, 84, 60, 25]\n",
    "\n"
   ]
  },
  {
   "cell_type": "code",
   "execution_count": 21,
   "metadata": {},
   "outputs": [],
   "source": [
    "def bubbleSort2(A):\n",
    "    for i in range(len(A)-1): # Omit last element, not needed\n",
    "        for j in range(len(A)-1-i):\n",
    "            left, right = j, j+1\n",
    "            if A[left] > A[right]:\n",
    "                A[left], A[right] = A[right], A[left]\n",
    "    return A"
   ]
  },
  {
   "cell_type": "code",
   "execution_count": 23,
   "metadata": {},
   "outputs": [
    {
     "name": "stdout",
     "output_type": "stream",
     "text": [
      "Tests passed!\n"
     ]
    }
   ],
   "source": [
    "test1 = [38, 58, 13, 15, 51, 27, 10, 19, 12, 86, 49, 67, 84, 60, 25]\n",
    "test2 = [10, 9, 8, 7, 6, 5, 4, 3, 2, 1]\n",
    "assert bubbleSort2(test1) == [10, 12, 13, 15, 19, 25, 27, 38, 49, 51, 58, 60, 67, 84, 86]\n",
    "assert bubbleSort2(test2) == [1, 2, 3, 4, 5, 6, 7, 8, 9, 10]\n",
    "print(\"Tests passed!\")"
   ]
  },
  {
   "cell_type": "markdown",
   "metadata": {},
   "source": [
    "#### Task 3\n",
    "\n",
    "Write a function: insertionSort that accepts 1 arguments. It sorts the array in ascending order using insertion sort algorithm. \n",
    "\n",
    "A - an array\n",
    "\n",
    "and returns a sorted array. \n",
    "\n",
    "Write test case to test your function using the array: [38, 58, 13, 15, 51, 27, 10, 19, 12, 86, 49, 67, 84, 60, 25]\n"
   ]
  },
  {
   "cell_type": "code",
   "execution_count": 24,
   "metadata": {},
   "outputs": [],
   "source": [
    "def insertionSort(A):\n",
    "    B = []\n",
    "    for target in A:\n",
    "        B = [target] + B # Append at beginning\n",
    "        for i in range(len(B) - 1): # Bubble through once\n",
    "            left, right = i, i+1\n",
    "            if B[left] > B[right]:\n",
    "                B[left], B[right] = B[right], B[left]\n",
    "    return B"
   ]
  },
  {
   "cell_type": "code",
   "execution_count": 25,
   "metadata": {},
   "outputs": [
    {
     "name": "stdout",
     "output_type": "stream",
     "text": [
      "Tests passed!\n"
     ]
    }
   ],
   "source": [
    "test1 = [38, 58, 13, 15, 51, 27, 10, 19, 12, 86, 49, 67, 84, 60, 25]\n",
    "test2 = [10, 9, 8, 7, 6, 5, 4, 3, 2, 1]\n",
    "assert insertionSort(test1) == [10, 12, 13, 15, 19, 25, 27, 38, 49, 51, 58, 60, 67, 84, 86]\n",
    "assert insertionSort(test2) == [1, 2, 3, 4, 5, 6, 7, 8, 9, 10]\n",
    "print(\"Tests passed!\")"
   ]
  },
  {
   "cell_type": "markdown",
   "metadata": {},
   "source": [
    "#### Task 4\n",
    "\n",
    "##### Task 4.1\n",
    "\n",
    "Write a program to generate 10 distinct integers between 199 to 300 (exclude 199 and 300).\n",
    "\n",
    "Write the generated integers to a file. Each line contains an integer.\n",
    "\n",
    "Name the file ```numbers.txt```.\n",
    "\n",
    "##### Task 4.2\n",
    "Write a function ```task4_2(filename)``` that accept an argument ```filename```. \n",
    "\n",
    "The function reads the content of the file and return an array of integers. \n",
    "\n",
    "The file contains an integer in each line.\n",
    "\n",
    "##### Task 4.3\n",
    "Write a function ```task4_3(A, asc)``` that accepts 2 arguments. \n",
    "\n",
    "The function sorts the array ```A``` using **insertion sort algorithm**. \n",
    "\n",
    "If ```asc``` is True, the function will sort array A in ascending order ,otherwise descending order. \n",
    "\n",
    "The argument ```asc``` has a default value of True.\n",
    "\n",
    "##### Task 4.4\n",
    "Write a function ```task4_4(A, asc)``` that accepts 2 arguments. \n",
    "\n",
    "The function sorts the array ```A``` using **bubble sort algorithm**. \n",
    "\n",
    "If ```asc``` is True, the function will sort array A in ascending order ,otherwise descending order. \n",
    "\n",
    "The argument ```asc``` has a default value of True.\n",
    "   \n",
    " \n",
    "##### Task 4.5\n",
    "Using the function ```task4_2()``` and ```task4_3()```. \n",
    "\n",
    "Read the integers in the file ```numbers.txt``` and arrange them in descending order. \n",
    "\n",
    "Write the sorted integers to a file ```sorted_numbers.txt```.\n",
    "\n",
    "##### Task 4.6\n",
    "Using the function ```task4_2()``` and ```task4_4()```. \n",
    "\n",
    "Read the integers in the file ```numbers.txt``` and arrange them in descending order. \n",
    "\n",
    "Write the sorted integers to a file ```sorted_numbers2.txt```.\n",
    "\n",
    "##### Task 4.7\n",
    "Write a function ```task4_7(A, key)``` that accepts 2 arguments. \n",
    "\n",
    "The function searches key in the array A using **binary search algorithm**.\n",
    "\n",
    "The function returns the number of comparisons it needs to find key and the index of the ```key``` in the array or -1 if not found. \n"
   ]
  },
  {
   "cell_type": "code",
   "execution_count": 39,
   "metadata": {},
   "outputs": [],
   "source": [
    "# Task 4.1\n",
    "import random\n",
    "\n",
    "def task4_1():\n",
    "    A = [random.randint(198, 300) for i in range(10)]\n",
    "    file = open('./assets/numbers.txt', 'w')\n",
    "    A = [str(x) for x in A]\n",
    "    file.write('\\n'.join(A))\n",
    "    file.close()\n",
    "task4_1()"
   ]
  },
  {
   "cell_type": "code",
   "execution_count": 40,
   "metadata": {},
   "outputs": [
    {
     "name": "stdout",
     "output_type": "stream",
     "text": [
      "[260, 246, 265, 253, 241, 264, 286, 220, 264, 292]\n"
     ]
    }
   ],
   "source": [
    "# Task 4.2\n",
    "\n",
    "def task4_2(filename):\n",
    "    file = open(filename, 'r')\n",
    "    A = []\n",
    "    for line in file:\n",
    "        A.append(int(line.strip()))\n",
    "    return A\n",
    "print(task4_2(\"./assets/numbers.txt\"))"
   ]
  },
  {
   "cell_type": "code",
   "execution_count": 47,
   "metadata": {},
   "outputs": [
    {
     "name": "stdout",
     "output_type": "stream",
     "text": [
      "Tests passed!\n"
     ]
    }
   ],
   "source": [
    "# Task 4.3\n",
    "\n",
    "def task4_3(A, asc=True):\n",
    "    B = []\n",
    "    for target in A:\n",
    "        B = [target] + B # Append at beginning\n",
    "        for i in range(len(B) - 1): # Bubble through once\n",
    "            left, right = i, i+1\n",
    "            if (asc and B[left] > B[right]) or (not asc and B[right] > B[left]):\n",
    "                B[left], B[right] = B[right], B[left]\n",
    "    return B\n",
    "\n",
    "test1 = [38, 58, 13, 15, 51, 27, 10, 19, 12, 86, 49, 67, 84, 60, 25]\n",
    "test2 = [10, 9, 8, 7, 6, 5, 4, 3, 2, 1]\n",
    "assert task4_3(test1) == [10, 12, 13, 15, 19, 25, 27, 38, 49, 51, 58, 60, 67, 84, 86]\n",
    "assert task4_3(test1, False) ==[86, 84, 67, 60, 58, 51, 49, 38, 27, 25, 19, 15, 13, 12, 10]\n",
    "assert task4_3(test2) == [1, 2, 3, 4, 5, 6, 7, 8, 9, 10]\n",
    "assert task4_3(test2, False) == [10, 9, 8, 7, 6, 5, 4, 3, 2, 1]\n",
    "print(\"Tests passed!\")"
   ]
  },
  {
   "cell_type": "code",
   "execution_count": 48,
   "metadata": {},
   "outputs": [
    {
     "name": "stdout",
     "output_type": "stream",
     "text": [
      "Tests passed!\n"
     ]
    }
   ],
   "source": [
    "# Task 4.4\n",
    "\n",
    "def task4_4(A, asc=True):\n",
    "    sorted = False\n",
    "    while not sorted:\n",
    "        sorted = True\n",
    "        for i in range(len(A)-1):\n",
    "            left, right = i, i+1\n",
    "            if (asc and A[left] > A[right]) or (not asc and A[right] > A[left]):\n",
    "                sorted = False\n",
    "                A[left], A[right] = A[right], A[left]\n",
    "    return A\n",
    "\n",
    "test1 = [38, 58, 13, 15, 51, 27, 10, 19, 12, 86, 49, 67, 84, 60, 25]\n",
    "test2 = [10, 9, 8, 7, 6, 5, 4, 3, 2, 1]\n",
    "assert task4_4(test1) == [10, 12, 13, 15, 19, 25, 27, 38, 49, 51, 58, 60, 67, 84, 86]\n",
    "assert task4_4(test1, False) ==[86, 84, 67, 60, 58, 51, 49, 38, 27, 25, 19, 15, 13, 12, 10]\n",
    "assert task4_4(test2) == [1, 2, 3, 4, 5, 6, 7, 8, 9, 10]\n",
    "assert task4_4(test2, False) == [10, 9, 8, 7, 6, 5, 4, 3, 2, 1]\n",
    "print(\"Tests passed!\")"
   ]
  },
  {
   "cell_type": "code",
   "execution_count": 55,
   "metadata": {},
   "outputs": [],
   "source": [
    "# Task 4.5\n",
    "\n",
    "def task4_5():\n",
    "    A = task4_2(\"./assets/numbers.txt\")\n",
    "    A = task4_3(A, False)\n",
    "    file = open(\"./assets/sorted_numbers.txt\", 'w')\n",
    "    A = [str(x) for x in A]\n",
    "    file.write('\\n'.join(A))\n",
    "    \n",
    "task4_5()"
   ]
  },
  {
   "cell_type": "code",
   "execution_count": 56,
   "metadata": {},
   "outputs": [
    {
     "name": "stdout",
     "output_type": "stream",
     "text": [
      "299\r\n",
      "277\r\n",
      "260\r\n",
      "259\r\n",
      "259\r\n",
      "251\r\n",
      "237\r\n",
      "223\r\n",
      "200\r\n",
      "199"
     ]
    }
   ],
   "source": [
    "!cat ./assets/sorted_numbers.txt"
   ]
  },
  {
   "cell_type": "code",
   "execution_count": 57,
   "metadata": {},
   "outputs": [],
   "source": [
    "# Task 4.6\n",
    "\n",
    "def task4_6():\n",
    "    A = task4_2(\"./assets/numbers.txt\")\n",
    "    A = task4_4(A, False)\n",
    "    file = open(\"./assets/sorted_numbers2.txt\", 'w')\n",
    "    A = [str(x) for x in A]\n",
    "    file.write('\\n'.join(A))\n",
    "    \n",
    "task4_6()"
   ]
  },
  {
   "cell_type": "code",
   "execution_count": 58,
   "metadata": {},
   "outputs": [
    {
     "name": "stdout",
     "output_type": "stream",
     "text": [
      "299\r\n",
      "277\r\n",
      "260\r\n",
      "259\r\n",
      "259\r\n",
      "251\r\n",
      "237\r\n",
      "223\r\n",
      "200\r\n",
      "199"
     ]
    }
   ],
   "source": [
    "!cat ./assets/sorted_numbers2.txt"
   ]
  },
  {
   "cell_type": "code",
   "execution_count": 72,
   "metadata": {},
   "outputs": [
    {
     "name": "stdout",
     "output_type": "stream",
     "text": [
      "[10, 12, 13, 15, 19, 25, 27, 38, 49, 51, 58, 60, 67, 84, 86]\n",
      "(3, 10)\n"
     ]
    }
   ],
   "source": [
    "# Task 4.7\n",
    "\n",
    "def task4_7(A, key):\n",
    "    comparisons = 0\n",
    "    A = task4_3(A) # Sort A for good measure\n",
    "    print(A)\n",
    "    \n",
    "    low, mid, high = 0, 0, len(A) - 1\n",
    "    found = False\n",
    "    while not found and low != high:\n",
    "        comparisons += 1\n",
    "        mid = (low + high) // 2\n",
    "        if key == A[mid]:\n",
    "            found = True\n",
    "        elif key > A[mid]:\n",
    "            low, high = mid+1, high\n",
    "        elif key < A[mid]:\n",
    "            low, high = low, mid-1\n",
    "            \n",
    "        if (low == high) and (key == A[low]):\n",
    "            found = True\n",
    "            mid = low\n",
    "    \n",
    "    if found:\n",
    "        return (comparisons, mid)\n",
    "    else:\n",
    "        return (comparisons, -1)\n",
    "    \n",
    "print(task4_7([38, 58, 13, 15, 51, 27, 10, 19, 12, 86, 49, 67, 84, 60, 25], 58))"
   ]
  }
 ],
 "metadata": {
  "kernelspec": {
   "display_name": "Python 3 (ipykernel)",
   "language": "python",
   "name": "python3"
  },
  "language_info": {
   "codemirror_mode": {
    "name": "ipython",
    "version": 3
   },
   "file_extension": ".py",
   "mimetype": "text/x-python",
   "name": "python",
   "nbconvert_exporter": "python",
   "pygments_lexer": "ipython3",
   "version": "3.10.9"
  }
 },
 "nbformat": 4,
 "nbformat_minor": 4
}
