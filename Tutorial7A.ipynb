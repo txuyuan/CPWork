{
 "cells": [
  {
   "cell_type": "markdown",
   "id": "56c0a37b",
   "metadata": {},
   "source": [
    "1. A class is a blueprint/model for how an object should be created, while an object is an instance of a class\n",
    "2. (i) Encapsulation is the concept of hiding data or logic within an object\n",
    "   (ii) A class contains private data values, that are only accessible or modifiable through public methods which are exposed by the class\n",
    "3. get_dollar(), wallet\n",
    "4. It references the object instance which is being initialised\n",
    "5. By calling object_name.__str__()\n",
    "6. my_car.go()\n",
    "7. \n",
    "Book\n",
    "-title\n",
    "-author\n",
    "-published\n",
    "+getTitle()\n",
    "+getAuthor()\n",
    "+getPublisher()\n",
    "+setTitle()\n",
    "+setAuthor()\n",
    "+setPublisher"
   ]
  }
 ],
 "metadata": {
  "kernelspec": {
   "display_name": "Python 3 (ipykernel)",
   "language": "python",
   "name": "python3"
  },
  "language_info": {
   "codemirror_mode": {
    "name": "ipython",
    "version": 3
   },
   "file_extension": ".py",
   "mimetype": "text/x-python",
   "name": "python",
   "nbconvert_exporter": "python",
   "pygments_lexer": "ipython3",
   "version": "3.10.11"
  }
 },
 "nbformat": 4,
 "nbformat_minor": 5
}
