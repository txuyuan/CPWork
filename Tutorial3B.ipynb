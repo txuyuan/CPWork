{
 "cells": [
  {
   "cell_type": "code",
   "execution_count": null,
   "id": "6a297278",
   "metadata": {},
   "outputs": [],
   "source": [
    "#5\n",
    "iter = int(input(\"Enter interations: \"))\n",
    "\n",
    "pi = 0\n",
    "for i in range(iter):\n",
    "    term = 1 / ((i)*2 + 1)\n",
    "    pi = (pi + term) if i%2==0 else (pi - term)\n",
    "pi = pi * 4\n",
    "print(f\"PI is {pi}\")"
   ]
  },
  {
   "cell_type": "code",
   "execution_count": null,
   "id": "2b1c3b09",
   "metadata": {},
   "outputs": [],
   "source": [
    "#7\n",
    "n = int(input(\"Enter n: \"))\n",
    "\n",
    "# Headers\n",
    "print(\" \" * 5, end=\"\")\n",
    "for i in range(1, n+1):\n",
    "    print(f\"{str(i):5s}\", end=\"\")\n",
    "print()\n",
    "\n",
    "for i in range(1, n+1):\n",
    "    print(f\"{str(i):5s}\", end=\"\")\n",
    "    for j in range(1, n+1):\n",
    "        if i >= j:\n",
    "            print(f\"{str(i*j):5s}\", end=\"\")\n",
    "        else:\n",
    "            print(\" \" * 5, end=\"\")\n",
    "    print()"
   ]
  },
  {
   "cell_type": "code",
   "execution_count": null,
   "id": "5697b612",
   "metadata": {},
   "outputs": [],
   "source": [
    "# 3B-1\n",
    "\n",
    "bill = 0\n",
    "\n",
    "itemName = input(\"enter item name or xyz to stop: \")\n",
    "while itemName != \"xyz\":\n",
    "    price = int(input(\"  enter price per item: \"))\n",
    "    quantity = int(input(\"  enter quantity: \"))\n",
    "    totalPrice = price * quantity\n",
    "    print(f\"{quantity} {itemName}    $ {totalPrice:.2f}\")\n",
    "    bill += totalPrice\n",
    "    \n",
    "    itemName = input(\"enter item name or xyz to stop: \")\n",
    "    \n",
    "print(f\"Total bill    $ {bill}\")\n",
    "#Print total bill"
   ]
  }
 ],
 "metadata": {
  "kernelspec": {
   "display_name": "Python 3 (ipykernel)",
   "language": "python",
   "name": "python3"
  }
 },
 "nbformat": 4,
 "nbformat_minor": 5
}
