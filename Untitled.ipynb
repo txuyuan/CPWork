{
 "cells": [
  {
   "cell_type": "code",
   "execution_count": 11,
   "id": "789eafc9",
   "metadata": {},
   "outputs": [
    {
     "name": "stdout",
     "output_type": "stream",
     "text": [
      "Enter test score (-1 to exit): 5\n",
      "Enter test score (-1 to exit): 4\n",
      "Enter test score (-1 to exit): 5\n",
      "Enter test score (-1 to exit): 7\n",
      "Enter test score (-1 to exit): 4\n",
      "Enter test score (-1 to exit): 3\n",
      "Enter test score (-1 to exit): 3\n",
      "Enter test score (-1 to exit): 99\n",
      "Enter test score (-1 to exit): -1\n",
      "Average score is 14.33\n",
      "Highest score is 99\n"
     ]
    }
   ],
   "source": [
    "active = True\n",
    "scores = []\n",
    "total, highest = 0, 0\n",
    "\n",
    "while (active):\n",
    "    score = int(input(\"Enter test score (-1 to exit): \"))\n",
    "    if score == -1 :\n",
    "        active = False\n",
    "    scores += [ score ]\n",
    "    total += score\n",
    "    if score > highest:\n",
    "        highest = score\n",
    "\n",
    "avg = total / len(scores)\n",
    "\n",
    "print(f\"Average score is {avg:.2f}\")\n",
    "print(f\"Highest score is {highest}\")"
   ]
  },
  {
   "cell_type": "markdown",
   "id": "bbd0b441",
   "metadata": {},
   "source": [
    "#### "
   ]
  }
 ],
 "metadata": {
  "kernelspec": {
   "display_name": "Python 3 (ipykernel)",
   "language": "python",
   "name": "python3"
  },
  "language_info": {
   "codemirror_mode": {
    "name": "ipython",
    "version": 3
   },
   "file_extension": ".py",
   "mimetype": "text/x-python",
   "name": "python",
   "nbconvert_exporter": "python",
   "pygments_lexer": "ipython3",
   "version": "3.10.7"
  }
 },
 "nbformat": 4,
 "nbformat_minor": 5
}
